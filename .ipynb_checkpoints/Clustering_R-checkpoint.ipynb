{
 "cells": [
  {
   "cell_type": "code",
   "execution_count": 3,
   "metadata": {},
   "outputs": [],
   "source": [
    "set.seed(1)"
   ]
  },
  {
   "cell_type": "code",
   "execution_count": 1,
   "metadata": {},
   "outputs": [],
   "source": [
    "data <- read.csv(file=\"tempsensor_data.csv\", header=TRUE, sep=\",\")"
   ]
  },
  {
   "cell_type": "code",
   "execution_count": 13,
   "metadata": {},
   "outputs": [],
   "source": [
    "data=data[,2:5]"
   ]
  },
  {
   "cell_type": "code",
   "execution_count": 81,
   "metadata": {},
   "outputs": [],
   "source": [
    "data=t(data)"
   ]
  },
  {
   "cell_type": "code",
   "execution_count": 82,
   "metadata": {},
   "outputs": [
    {
     "data": {
      "text/html": [
       "<table>\n",
       "<caption>A matrix: 4 × 53 of type dbl</caption>\n",
       "<tbody>\n",
       "\t<tr><th scope=row>Temp_1</th><td>25.687</td><td>26.063</td><td>26.562</td><td>26.812</td><td>27.313</td><td>27.375</td><td>27.625</td><td>27.375</td><td>27.125</td><td>27.750</td><td>...</td><td>27.750</td><td>27.812</td><td>27.875</td><td>27.500</td><td>28.062</td><td>28.187</td><td>28.312</td><td>28.500</td><td>28.500</td><td>28.500</td></tr>\n",
       "\t<tr><th scope=row>Temp_2</th><td>26.000</td><td>26.937</td><td>26.812</td><td>26.688</td><td>27.500</td><td>27.687</td><td>27.812</td><td>27.125</td><td>27.875</td><td>27.938</td><td>...</td><td>27.812</td><td>28.000</td><td>28.000</td><td>28.187</td><td>28.312</td><td>28.375</td><td>27.875</td><td>27.938</td><td>28.062</td><td>28.625</td></tr>\n",
       "\t<tr><th scope=row>Temp_3</th><td>24.188</td><td>25.562</td><td>25.500</td><td>25.750</td><td>26.812</td><td>27.125</td><td>27.000</td><td>26.812</td><td>27.375</td><td>26.625</td><td>...</td><td>27.313</td><td>27.562</td><td>27.750</td><td>27.062</td><td>27.875</td><td>27.938</td><td>27.938</td><td>28.187</td><td>28.187</td><td>28.375</td></tr>\n",
       "\t<tr><th scope=row>Temp_4</th><td>25.500</td><td>25.937</td><td>25.937</td><td>26.063</td><td>26.500</td><td>27.562</td><td>28.000</td><td>27.250</td><td>27.250</td><td>27.375</td><td>...</td><td>27.938</td><td>28.000</td><td>28.062</td><td>28.062</td><td>27.562</td><td>27.625</td><td>28.312</td><td>28.563</td><td>28.563</td><td>28.687</td></tr>\n",
       "</tbody>\n",
       "</table>\n"
      ],
      "text/latex": [
       "A matrix: 4 × 53 of type dbl\n",
       "\\begin{tabular}{r|lllllllllllllllllllllllllllllllllllllllllllllllllllll}\n",
       "\tTemp\\_1 & 25.687 & 26.063 & 26.562 & 26.812 & 27.313 & 27.375 & 27.625 & 27.375 & 27.125 & 27.750 & 27.812 & 27.812 & 27.750 & 27.313 & 27.812 & 27.250 & 26.875 & 27.000 & 26.750 & 27.000 & 26.812 & 27.125 & 27.000 & 26.937 & 27.000 & 26.875 & 27.000 & 26.812 & 26.375 & 26.750 & 26.250 & 26.937 & 27.062 & 26.375 & 26.375 & 26.812 & 26.375 & 26.625 & 26.625 & 26.812 & 27.062 & 27.313 & 27.500 & 27.750 & 27.812 & 27.875 & 27.500 & 28.062 & 28.187 & 28.312 & 28.500 & 28.500 & 28.500\\\\\n",
       "\tTemp\\_2 & 26.000 & 26.937 & 26.812 & 26.688 & 27.500 & 27.687 & 27.812 & 27.125 & 27.875 & 27.938 & 28.062 & 28.125 & 28.062 & 28.250 & 28.187 & 27.750 & 27.313 & 27.437 & 26.562 & 27.437 & 27.187 & 27.500 & 27.375 & 26.750 & 26.625 & 27.187 & 27.250 & 26.937 & 27.000 & 27.062 & 27.125 & 26.688 & 27.187 & 27.000 & 26.375 & 26.812 & 27.000 & 27.125 & 26.312 & 27.000 & 27.250 & 27.562 & 27.812 & 27.812 & 28.000 & 28.000 & 28.187 & 28.312 & 28.375 & 27.875 & 27.938 & 28.062 & 28.625\\\\\n",
       "\tTemp\\_3 & 24.188 & 25.562 & 25.500 & 25.750 & 26.812 & 27.125 & 27.000 & 26.812 & 27.375 & 26.625 & 27.000 & 27.125 & 27.500 & 27.062 & 26.625 & 25.812 & 25.000 & 25.187 & 25.000 & 25.687 & 24.625 & 25.562 & 25.562 & 24.562 & 25.500 & 24.375 & 25.625 & 24.188 & 25.500 & 25.125 & 25.000 & 25.687 & 25.438 & 25.125 & 25.750 & 25.062 & 25.187 & 25.750 & 24.250 & 25.625 & 26.312 & 27.000 & 27.125 & 27.313 & 27.562 & 27.750 & 27.062 & 27.875 & 27.938 & 27.938 & 28.187 & 28.187 & 28.375\\\\\n",
       "\tTemp\\_4 & 25.500 & 25.937 & 25.937 & 26.063 & 26.500 & 27.562 & 28.000 & 27.250 & 27.250 & 27.375 & 27.938 & 27.625 & 27.812 & 27.562 & 27.062 & 26.500 & 25.750 & 25.812 & 25.812 & 26.375 & 25.750 & 25.438 & 26.125 & 25.750 & 25.875 & 25.000 & 26.125 & 24.750 & 26.000 & 25.125 & 25.687 & 25.625 & 25.937 & 25.812 & 25.625 & 25.687 & 25.875 & 26.312 & 25.438 & 26.063 & 26.000 & 27.437 & 27.313 & 27.938 & 28.000 & 28.062 & 28.062 & 27.562 & 27.625 & 28.312 & 28.563 & 28.563 & 28.687\\\\\n",
       "\\end{tabular}\n"
      ],
      "text/markdown": [
       "\n",
       "A matrix: 4 × 53 of type dbl\n",
       "\n",
       "| Temp_1 | 25.687 | 26.063 | 26.562 | 26.812 | 27.313 | 27.375 | 27.625 | 27.375 | 27.125 | 27.750 | ... | 27.750 | 27.812 | 27.875 | 27.500 | 28.062 | 28.187 | 28.312 | 28.500 | 28.500 | 28.500 |\n",
       "| Temp_2 | 26.000 | 26.937 | 26.812 | 26.688 | 27.500 | 27.687 | 27.812 | 27.125 | 27.875 | 27.938 | ... | 27.812 | 28.000 | 28.000 | 28.187 | 28.312 | 28.375 | 27.875 | 27.938 | 28.062 | 28.625 |\n",
       "| Temp_3 | 24.188 | 25.562 | 25.500 | 25.750 | 26.812 | 27.125 | 27.000 | 26.812 | 27.375 | 26.625 | ... | 27.313 | 27.562 | 27.750 | 27.062 | 27.875 | 27.938 | 27.938 | 28.187 | 28.187 | 28.375 |\n",
       "| Temp_4 | 25.500 | 25.937 | 25.937 | 26.063 | 26.500 | 27.562 | 28.000 | 27.250 | 27.250 | 27.375 | ... | 27.938 | 28.000 | 28.062 | 28.062 | 27.562 | 27.625 | 28.312 | 28.563 | 28.563 | 28.687 |\n",
       "\n"
      ],
      "text/plain": [
       "       [,1]   [,2]   [,3]   [,4]   [,5]   [,6]   [,7]   [,8]   [,9]   [,10] \n",
       "Temp_1 25.687 26.063 26.562 26.812 27.313 27.375 27.625 27.375 27.125 27.750\n",
       "Temp_2 26.000 26.937 26.812 26.688 27.500 27.687 27.812 27.125 27.875 27.938\n",
       "Temp_3 24.188 25.562 25.500 25.750 26.812 27.125 27.000 26.812 27.375 26.625\n",
       "Temp_4 25.500 25.937 25.937 26.063 26.500 27.562 28.000 27.250 27.250 27.375\n",
       "       [,11] [,12]  [,13]  [,14]  [,15]  [,16]  [,17]  [,18]  [,19]  [,20] \n",
       "Temp_1 ...   27.750 27.812 27.875 27.500 28.062 28.187 28.312 28.500 28.500\n",
       "Temp_2 ...   27.812 28.000 28.000 28.187 28.312 28.375 27.875 27.938 28.062\n",
       "Temp_3 ...   27.313 27.562 27.750 27.062 27.875 27.938 27.938 28.187 28.187\n",
       "Temp_4 ...   27.938 28.000 28.062 28.062 27.562 27.625 28.312 28.563 28.563\n",
       "       [,21] \n",
       "Temp_1 28.500\n",
       "Temp_2 28.625\n",
       "Temp_3 28.375\n",
       "Temp_4 28.687"
      ]
     },
     "metadata": {},
     "output_type": "display_data"
    }
   ],
   "source": [
    "head(data)"
   ]
  },
  {
   "cell_type": "code",
   "execution_count": 34,
   "metadata": {},
   "outputs": [],
   "source": [
    "pca=princomp(data)"
   ]
  },
  {
   "cell_type": "code",
   "execution_count": 35,
   "metadata": {},
   "outputs": [],
   "source": [
    "l=pca$loadings"
   ]
  },
  {
   "cell_type": "code",
   "execution_count": 40,
   "metadata": {},
   "outputs": [
    {
     "data": {
      "text/plain": [
       "\n",
       "Loadings:\n",
       "       Comp.1 Comp.2 Comp.3 Comp.4\n",
       "Temp_1  0.333  0.577         0.746\n",
       "Temp_2  0.303  0.682        -0.662\n",
       "Temp_3  0.663 -0.299  0.682       \n",
       "Temp_4  0.598 -0.335 -0.728       \n",
       "\n",
       "               Comp.1 Comp.2 Comp.3 Comp.4\n",
       "SS loadings      1.00   1.00   1.00   1.00\n",
       "Proportion Var   0.25   0.25   0.25   0.25\n",
       "Cumulative Var   0.25   0.50   0.75   1.00"
      ]
     },
     "metadata": {},
     "output_type": "display_data"
    }
   ],
   "source": [
    "l"
   ]
  },
  {
   "cell_type": "code",
   "execution_count": 43,
   "metadata": {
    "collapsed": true
   },
   "outputs": [
    {
     "data": {
      "image/png": "[encoded data removed]",
      "text/plain": [
       "plot without title"
      ]
     },
     "metadata": {},
     "output_type": "display_data"
    }
   ],
   "source": [
    "plot(l)"
   ]
  },
  {
   "cell_type": "code",
   "execution_count": 46,
   "metadata": {},
   "outputs": [
    {
     "name": "stderr",
     "output_type": "stream",
     "text": [
      "Warning message:\n",
      "\"package 'Rtsne' was built under R version 3.6.1\""
     ]
    }
   ],
   "source": [
    "library(Rtsne)"
   ]
  },
  {
   "cell_type": "code",
   "execution_count": 72,
   "metadata": {},
   "outputs": [
    {
     "data": {
      "text/html": [
       "<ol class=list-inline>\n",
       "\t<li>'Temp_1'</li>\n",
       "\t<li>'Temp_2'</li>\n",
       "\t<li>'Temp_3'</li>\n",
       "\t<li>'Temp_4'</li>\n",
       "</ol>\n"
      ],
      "text/latex": [
       "\\begin{enumerate*}\n",
       "\\item 'Temp\\_1'\n",
       "\\item 'Temp\\_2'\n",
       "\\item 'Temp\\_3'\n",
       "\\item 'Temp\\_4'\n",
       "\\end{enumerate*}\n"
      ],
      "text/markdown": [
       "1. 'Temp_1'\n",
       "2. 'Temp_2'\n",
       "3. 'Temp_3'\n",
       "4. 'Temp_4'\n",
       "\n",
       "\n"
      ],
      "text/plain": [
       "[1] \"Temp_1\" \"Temp_2\" \"Temp_3\" \"Temp_4\""
      ]
     },
     "metadata": {},
     "output_type": "display_data"
    }
   ],
   "source": [
    "colnames(data)"
   ]
  },
  {
   "cell_type": "code",
   "execution_count": 74,
   "metadata": {},
   "outputs": [
    {
     "data": {
      "text/html": [
       "'#FF0000FF'"
      ],
      "text/latex": [
       "'\\#FF0000FF'"
      ],
      "text/markdown": [
       "'#FF0000FF'"
      ],
      "text/plain": [
       "[1] \"#FF0000FF\""
      ]
     },
     "metadata": {},
     "output_type": "display_data"
    }
   ],
   "source": [
    "color"
   ]
  },
  {
   "cell_type": "code",
   "execution_count": 86,
   "metadata": {},
   "outputs": [
    {
     "data": {
      "text/html": [
       "4"
      ],
      "text/latex": [
       "4"
      ],
      "text/markdown": [
       "4"
      ],
      "text/plain": [
       "[1] 4"
      ]
     },
     "metadata": {},
     "output_type": "display_data"
    }
   ],
   "source": [
    "nrow(data)"
   ]
  },
  {
   "cell_type": "code",
   "execution_count": 90,
   "metadata": {},
   "outputs": [
    {
     "data": {
      "text/html": [
       "4"
      ],
      "text/latex": [
       "4"
      ],
      "text/markdown": [
       "4"
      ],
      "text/plain": [
       "[1] 4"
      ]
     },
     "metadata": {},
     "output_type": "display_data"
    }
   ],
   "source": [
    "length(rownames(data))"
   ]
  },
  {
   "cell_type": "code",
   "execution_count": 91,
   "metadata": {},
   "outputs": [
    {
     "data": {
      "text/html": [
       "'#FF0000FF'"
      ],
      "text/latex": [
       "'\\#FF0000FF'"
      ],
      "text/markdown": [
       "'#FF0000FF'"
      ],
      "text/plain": [
       "[1] \"#FF0000FF\""
      ]
     },
     "metadata": {},
     "output_type": "display_data"
    }
   ],
   "source": [
    "color"
   ]
  },
  {
   "cell_type": "code",
   "execution_count": 85,
   "metadata": {},
   "outputs": [
    {
     "ename": "ERROR",
     "evalue": "Error in names(color) <- rownames(data): 'names' attribute [4] must be the same length as the vector [1]\n",
     "output_type": "error",
     "traceback": [
      "Error in names(color) <- rownames(data): 'names' attribute [4] must be the same length as the vector [1]\nTraceback:\n"
     ]
    }
   ],
   "source": [
    "color <- rainbow(length(nrow(data)))\n",
    "names(color) <- rownames(data)"
   ]
  },
  {
   "cell_type": "code",
   "execution_count": 60,
   "metadata": {},
   "outputs": [],
   "source": [
    "t=Rtsne(data,dim=2,perplexity =10)"
   ]
  },
  {
   "cell_type": "code",
   "execution_count": 62,
   "metadata": {},
   "outputs": [
    {
     "data": {
      "text/html": [
       "<table>\n",
       "<caption>A matrix: 53 × 2 of type dbl</caption>\n",
       "<tbody>\n",
       "\t<tr><td> 21.90688</td><td>-32.77074</td></tr>\n",
       "\t<tr><td> 13.51845</td><td>-29.78085</td></tr>\n",
       "\t<tr><td> 13.78262</td><td>-27.24730</td></tr>\n",
       "\t<tr><td> 12.95428</td><td>-25.47041</td></tr>\n",
       "\t<tr><td>-19.11663</td><td> 26.98536</td></tr>\n",
       "\t<tr><td>-19.71538</td><td> 31.40757</td></tr>\n",
       "\t<tr><td>-23.64925</td><td> 33.53108</td></tr>\n",
       "\t<tr><td>-18.31301</td><td> 28.82557</td></tr>\n",
       "\t<tr><td>-20.61425</td><td> 29.55873</td></tr>\n",
       "\t<tr><td>-22.91535</td><td> 30.50661</td></tr>\n",
       "\t<tr><td>-22.81627</td><td> 34.44982</td></tr>\n",
       "\t<tr><td>-21.47807</td><td> 34.32997</td></tr>\n",
       "\t<tr><td>-21.91478</td><td> 36.57118</td></tr>\n",
       "\t<tr><td>-21.58038</td><td> 32.36830</td></tr>\n",
       "\t<tr><td>-23.31240</td><td> 29.45833</td></tr>\n",
       "\t<tr><td> 16.57987</td><td>-20.00827</td></tr>\n",
       "\t<tr><td> 19.69455</td><td>-26.33893</td></tr>\n",
       "\t<tr><td> 18.99482</td><td>-25.05411</td></tr>\n",
       "\t<tr><td> 19.32044</td><td>-30.09920</td></tr>\n",
       "\t<tr><td> 15.80562</td><td>-21.17996</td></tr>\n",
       "\t<tr><td> 20.85350</td><td>-28.10668</td></tr>\n",
       "\t<tr><td> 19.37754</td><td>-23.35491</td></tr>\n",
       "\t<tr><td> 16.58962</td><td>-22.41623</td></tr>\n",
       "\t<tr><td> 21.13284</td><td>-29.82587</td></tr>\n",
       "\t<tr><td> 11.57805</td><td>-25.12296</td></tr>\n",
       "\t<tr><td> 23.78530</td><td>-28.46064</td></tr>\n",
       "\t<tr><td> 15.48532</td><td>-22.90123</td></tr>\n",
       "\t<tr><td> 24.19182</td><td>-29.37319</td></tr>\n",
       "\t<tr><td> 14.31151</td><td>-28.44998</td></tr>\n",
       "\t<tr><td> 22.00717</td><td>-26.49191</td></tr>\n",
       "\t<tr><td> 16.61532</td><td>-30.70365</td></tr>\n",
       "\t<tr><td> 11.30012</td><td>-26.25615</td></tr>\n",
       "\t<tr><td> 16.91404</td><td>-23.90214</td></tr>\n",
       "\t<tr><td> 16.62813</td><td>-29.42213</td></tr>\n",
       "\t<tr><td> 11.24104</td><td>-28.10617</td></tr>\n",
       "\t<tr><td> 19.34833</td><td>-29.07108</td></tr>\n",
       "\t<tr><td> 15.57664</td><td>-29.63305</td></tr>\n",
       "\t<tr><td> 13.63618</td><td>-22.93139</td></tr>\n",
       "\t<tr><td> 22.28995</td><td>-31.35497</td></tr>\n",
       "\t<tr><td> 14.28772</td><td>-24.46605</td></tr>\n",
       "\t<tr><td> 13.84366</td><td>-20.32683</td></tr>\n",
       "\t<tr><td>-19.17914</td><td> 30.27278</td></tr>\n",
       "\t<tr><td>-20.81649</td><td> 30.88937</td></tr>\n",
       "\t<tr><td>-23.06789</td><td> 35.79039</td></tr>\n",
       "\t<tr><td>-23.20689</td><td> 37.26976</td></tr>\n",
       "\t<tr><td>-23.78531</td><td> 38.42516</td></tr>\n",
       "\t<tr><td>-24.40013</td><td> 34.68405</td></tr>\n",
       "\t<tr><td>-21.38394</td><td> 39.06017</td></tr>\n",
       "\t<tr><td>-22.00435</td><td> 39.79158</td></tr>\n",
       "\t<tr><td>-24.83766</td><td> 39.88914</td></tr>\n",
       "\t<tr><td>-25.78048</td><td> 40.94244</td></tr>\n",
       "\t<tr><td>-24.49005</td><td> 41.20474</td></tr>\n",
       "\t<tr><td>-25.17324</td><td> 42.41489</td></tr>\n",
       "</tbody>\n",
       "</table>\n"
      ],
      "text/latex": [
       "A matrix: 53 × 2 of type dbl\n",
       "\\begin{tabular}{ll}\n",
       "\t  21.90688 & -32.77074\\\\\n",
       "\t  13.51845 & -29.78085\\\\\n",
       "\t  13.78262 & -27.24730\\\\\n",
       "\t  12.95428 & -25.47041\\\\\n",
       "\t -19.11663 &  26.98536\\\\\n",
       "\t -19.71538 &  31.40757\\\\\n",
       "\t -23.64925 &  33.53108\\\\\n",
       "\t -18.31301 &  28.82557\\\\\n",
       "\t -20.61425 &  29.55873\\\\\n",
       "\t -22.91535 &  30.50661\\\\\n",
       "\t -22.81627 &  34.44982\\\\\n",
       "\t -21.47807 &  34.32997\\\\\n",
       "\t -21.91478 &  36.57118\\\\\n",
       "\t -21.58038 &  32.36830\\\\\n",
       "\t -23.31240 &  29.45833\\\\\n",
       "\t  16.57987 & -20.00827\\\\\n",
       "\t  19.69455 & -26.33893\\\\\n",
       "\t  18.99482 & -25.05411\\\\\n",
       "\t  19.32044 & -30.09920\\\\\n",
       "\t  15.80562 & -21.17996\\\\\n",
       "\t  20.85350 & -28.10668\\\\\n",
       "\t  19.37754 & -23.35491\\\\\n",
       "\t  16.58962 & -22.41623\\\\\n",
       "\t  21.13284 & -29.82587\\\\\n",
       "\t  11.57805 & -25.12296\\\\\n",
       "\t  23.78530 & -28.46064\\\\\n",
       "\t  15.48532 & -22.90123\\\\\n",
       "\t  24.19182 & -29.37319\\\\\n",
       "\t  14.31151 & -28.44998\\\\\n",
       "\t  22.00717 & -26.49191\\\\\n",
       "\t  16.61532 & -30.70365\\\\\n",
       "\t  11.30012 & -26.25615\\\\\n",
       "\t  16.91404 & -23.90214\\\\\n",
       "\t  16.62813 & -29.42213\\\\\n",
       "\t  11.24104 & -28.10617\\\\\n",
       "\t  19.34833 & -29.07108\\\\\n",
       "\t  15.57664 & -29.63305\\\\\n",
       "\t  13.63618 & -22.93139\\\\\n",
       "\t  22.28995 & -31.35497\\\\\n",
       "\t  14.28772 & -24.46605\\\\\n",
       "\t  13.84366 & -20.32683\\\\\n",
       "\t -19.17914 &  30.27278\\\\\n",
       "\t -20.81649 &  30.88937\\\\\n",
       "\t -23.06789 &  35.79039\\\\\n",
       "\t -23.20689 &  37.26976\\\\\n",
       "\t -23.78531 &  38.42516\\\\\n",
       "\t -24.40013 &  34.68405\\\\\n",
       "\t -21.38394 &  39.06017\\\\\n",
       "\t -22.00435 &  39.79158\\\\\n",
       "\t -24.83766 &  39.88914\\\\\n",
       "\t -25.78048 &  40.94244\\\\\n",
       "\t -24.49005 &  41.20474\\\\\n",
       "\t -25.17324 &  42.41489\\\\\n",
       "\\end{tabular}\n"
      ],
      "text/markdown": [
       "\n",
       "A matrix: 53 × 2 of type dbl\n",
       "\n",
       "|  21.90688 | -32.77074 |\n",
       "|  13.51845 | -29.78085 |\n",
       "|  13.78262 | -27.24730 |\n",
       "|  12.95428 | -25.47041 |\n",
       "| -19.11663 |  26.98536 |\n",
       "| -19.71538 |  31.40757 |\n",
       "| -23.64925 |  33.53108 |\n",
       "| -18.31301 |  28.82557 |\n",
       "| -20.61425 |  29.55873 |\n",
       "| -22.91535 |  30.50661 |\n",
       "| -22.81627 |  34.44982 |\n",
       "| -21.47807 |  34.32997 |\n",
       "| -21.91478 |  36.57118 |\n",
       "| -21.58038 |  32.36830 |\n",
       "| -23.31240 |  29.45833 |\n",
       "|  16.57987 | -20.00827 |\n",
       "|  19.69455 | -26.33893 |\n",
       "|  18.99482 | -25.05411 |\n",
       "|  19.32044 | -30.09920 |\n",
       "|  15.80562 | -21.17996 |\n",
       "|  20.85350 | -28.10668 |\n",
       "|  19.37754 | -23.35491 |\n",
       "|  16.58962 | -22.41623 |\n",
       "|  21.13284 | -29.82587 |\n",
       "|  11.57805 | -25.12296 |\n",
       "|  23.78530 | -28.46064 |\n",
       "|  15.48532 | -22.90123 |\n",
       "|  24.19182 | -29.37319 |\n",
       "|  14.31151 | -28.44998 |\n",
       "|  22.00717 | -26.49191 |\n",
       "|  16.61532 | -30.70365 |\n",
       "|  11.30012 | -26.25615 |\n",
       "|  16.91404 | -23.90214 |\n",
       "|  16.62813 | -29.42213 |\n",
       "|  11.24104 | -28.10617 |\n",
       "|  19.34833 | -29.07108 |\n",
       "|  15.57664 | -29.63305 |\n",
       "|  13.63618 | -22.93139 |\n",
       "|  22.28995 | -31.35497 |\n",
       "|  14.28772 | -24.46605 |\n",
       "|  13.84366 | -20.32683 |\n",
       "| -19.17914 |  30.27278 |\n",
       "| -20.81649 |  30.88937 |\n",
       "| -23.06789 |  35.79039 |\n",
       "| -23.20689 |  37.26976 |\n",
       "| -23.78531 |  38.42516 |\n",
       "| -24.40013 |  34.68405 |\n",
       "| -21.38394 |  39.06017 |\n",
       "| -22.00435 |  39.79158 |\n",
       "| -24.83766 |  39.88914 |\n",
       "| -25.78048 |  40.94244 |\n",
       "| -24.49005 |  41.20474 |\n",
       "| -25.17324 |  42.41489 |\n",
       "\n"
      ],
      "text/plain": [
       "      [,1]      [,2]     \n",
       " [1,]  21.90688 -32.77074\n",
       " [2,]  13.51845 -29.78085\n",
       " [3,]  13.78262 -27.24730\n",
       " [4,]  12.95428 -25.47041\n",
       " [5,] -19.11663  26.98536\n",
       " [6,] -19.71538  31.40757\n",
       " [7,] -23.64925  33.53108\n",
       " [8,] -18.31301  28.82557\n",
       " [9,] -20.61425  29.55873\n",
       "[10,] -22.91535  30.50661\n",
       "[11,] -22.81627  34.44982\n",
       "[12,] -21.47807  34.32997\n",
       "[13,] -21.91478  36.57118\n",
       "[14,] -21.58038  32.36830\n",
       "[15,] -23.31240  29.45833\n",
       "[16,]  16.57987 -20.00827\n",
       "[17,]  19.69455 -26.33893\n",
       "[18,]  18.99482 -25.05411\n",
       "[19,]  19.32044 -30.09920\n",
       "[20,]  15.80562 -21.17996\n",
       "[21,]  20.85350 -28.10668\n",
       "[22,]  19.37754 -23.35491\n",
       "[23,]  16.58962 -22.41623\n",
       "[24,]  21.13284 -29.82587\n",
       "[25,]  11.57805 -25.12296\n",
       "[26,]  23.78530 -28.46064\n",
       "[27,]  15.48532 -22.90123\n",
       "[28,]  24.19182 -29.37319\n",
       "[29,]  14.31151 -28.44998\n",
       "[30,]  22.00717 -26.49191\n",
       "[31,]  16.61532 -30.70365\n",
       "[32,]  11.30012 -26.25615\n",
       "[33,]  16.91404 -23.90214\n",
       "[34,]  16.62813 -29.42213\n",
       "[35,]  11.24104 -28.10617\n",
       "[36,]  19.34833 -29.07108\n",
       "[37,]  15.57664 -29.63305\n",
       "[38,]  13.63618 -22.93139\n",
       "[39,]  22.28995 -31.35497\n",
       "[40,]  14.28772 -24.46605\n",
       "[41,]  13.84366 -20.32683\n",
       "[42,] -19.17914  30.27278\n",
       "[43,] -20.81649  30.88937\n",
       "[44,] -23.06789  35.79039\n",
       "[45,] -23.20689  37.26976\n",
       "[46,] -23.78531  38.42516\n",
       "[47,] -24.40013  34.68405\n",
       "[48,] -21.38394  39.06017\n",
       "[49,] -22.00435  39.79158\n",
       "[50,] -24.83766  39.88914\n",
       "[51,] -25.78048  40.94244\n",
       "[52,] -24.49005  41.20474\n",
       "[53,] -25.17324  42.41489"
      ]
     },
     "metadata": {},
     "output_type": "display_data"
    }
   ],
   "source": [
    "t$Y"
   ]
  },
  {
   "cell_type": "code",
   "execution_count": 80,
   "metadata": {},
   "outputs": [
    {
     "name": "stderr",
     "output_type": "stream",
     "text": [
      "Warning message in if (distinct) c[!duplicated(t(col2rgb(c)))] else c:\n",
      "\"the condition has length > 1 and only the first element will be used\""
     ]
    },
    {
     "ename": "ERROR",
     "evalue": "Error in if (distinct) c[!duplicated(t(col2rgb(c)))] else c: argument is not interpretable as logical\n",
     "output_type": "error",
     "traceback": [
      "Error in if (distinct) c[!duplicated(t(col2rgb(c)))] else c: argument is not interpretable as logical\nTraceback:\n",
      "1. text(t$Y, labels = colnames(data), col = colors(colnames(data)))",
      "2. text.default(t$Y, labels = colnames(data), col = colors(colnames(data)))",
      "3. colors(colnames(data))"
     ]
    },
    {
     "data": {
      "image/png": "[encoded data removed]",
      "text/plain": [
       "Plot with title \"tsne\""
      ]
     },
     "metadata": {},
     "output_type": "display_data"
    }
   ],
   "source": [
    "plot(t$Y,main=\"tsne\")\n",
    "text(t$Y, labels = colnames(data), col = colors(colnames(data)))"
   ]
  },
  {
   "cell_type": "code",
   "execution_count": 50,
   "metadata": {},
   "outputs": [],
   "source": [
    "?Rtsne"
   ]
  },
  {
   "cell_type": "code",
   "execution_count": 23,
   "metadata": {
    "collapsed": true
   },
   "outputs": [
    {
     "data": {
      "text/plain": [
       "K-means clustering with 2 clusters of sizes 2, 2\n",
       "\n",
       "Cluster means:\n",
       "     [,1]    [,2]    [,3]    [,4]    [,5]    [,6]    [,7]   [,8]    [,9]  [,10]\n",
       "1 24.8440 25.7495 25.7185 25.9065 26.6560 27.3435 27.5000 27.031 27.3125 27.000\n",
       "2 25.8435 26.5000 26.6870 26.7500 27.4065 27.5310 27.7185 27.250 27.5000 27.844\n",
       "   [,11]   [,12]  [,13]   [,14]   [,15]  [,16]  [,17]   [,18]  [,19]   [,20]\n",
       "1 27.469 27.3750 27.656 27.3120 26.8435 26.156 25.375 25.4995 25.406 26.0310\n",
       "2 27.937 27.9685 27.906 27.7815 27.9995 27.500 27.094 27.2185 26.656 27.2185\n",
       "    [,21]   [,22]   [,23]   [,24]   [,25]   [,26]  [,27]   [,28]   [,29]  [,30]\n",
       "1 25.1875 25.5000 25.8435 25.1560 25.6875 24.6875 25.875 24.4690 25.7500 25.125\n",
       "2 26.9995 27.3125 27.1875 26.8435 26.8125 27.0310 27.125 26.8745 26.6875 26.906\n",
       "    [,31]   [,32]   [,33]   [,34]   [,35]   [,36]   [,37]  [,38]   [,39]  [,40]\n",
       "1 25.3435 25.6560 25.6875 25.4685 25.6875 25.3745 25.5310 26.031 24.8440 25.844\n",
       "2 26.6875 26.8125 27.1245 26.6875 26.3750 26.8120 26.6875 26.875 26.4685 26.906\n",
       "   [,41]   [,42]  [,43]   [,44]  [,45]   [,46]   [,47]   [,48]   [,49]   [,50]\n",
       "1 26.156 27.2185 27.219 27.6255 27.781 27.9060 27.5620 27.7185 27.7815 28.1250\n",
       "2 27.156 27.4375 27.656 27.7810 27.906 27.9375 27.8435 28.1870 28.2810 28.0935\n",
       "   [,51]  [,52]   [,53]\n",
       "1 28.375 28.375 28.5310\n",
       "2 28.219 28.281 28.5625\n",
       "\n",
       "Clustering vector:\n",
       "Temp_1 Temp_2 Temp_3 Temp_4 \n",
       "     2      2      1      1 \n",
       "\n",
       "Within cluster sum of squares by cluster:\n",
       "[1] 9.753850 4.352599\n",
       " (between_SS / total_SS =  81.9 %)\n",
       "\n",
       "Available components:\n",
       "\n",
       "[1] \"cluster\"      \"centers\"      \"totss\"        \"withinss\"     \"tot.withinss\"\n",
       "[6] \"betweenss\"    \"size\"         \"iter\"         \"ifault\"      "
      ]
     },
     "metadata": {},
     "output_type": "display_data"
    }
   ],
   "source": [
    "kmeans(data, 2, iter.max = 10, nstart = 1,\n",
    " algorithm = c(\"Hartigan-Wong\", \"Lloyd\", \"Forgy\",\n",
    " \"MacQueen\"), trace=FALSE)"
   ]
  },
  {
   "cell_type": "code",
   "execution_count": null,
   "metadata": {},
   "outputs": [],
   "source": []
  },
  {
   "cell_type": "code",
   "execution_count": 5,
   "metadata": {},
   "outputs": [],
   "source": [
    "x=c(2,3,4,4)\n",
    "y=c(3,4,7,8)"
   ]
  },
  {
   "cell_type": "code",
   "execution_count": 7,
   "metadata": {},
   "outputs": [
    {
     "data": {
      "text/html": [
       "0.95065415136527"
      ],
      "text/latex": [
       "0.95065415136527"
      ],
      "text/markdown": [
       "0.95065415136527"
      ],
      "text/plain": [
       "[1] 0.9506542"
      ]
     },
     "metadata": {},
     "output_type": "display_data"
    }
   ],
   "source": [
    "cor(x,y)"
   ]
  },
  {
   "cell_type": "code",
   "execution_count": 8,
   "metadata": {},
   "outputs": [
    {
     "data": {
      "text/html": [
       "<table>\n",
       "<caption>A matrix: 5 × 1 of type dbl</caption>\n",
       "<tbody>\n",
       "\t<tr><td>0.2655087</td></tr>\n",
       "\t<tr><td>0.3721239</td></tr>\n",
       "\t<tr><td>0.5728534</td></tr>\n",
       "\t<tr><td>0.9082078</td></tr>\n",
       "\t<tr><td>0.2016819</td></tr>\n",
       "</tbody>\n",
       "</table>\n"
      ],
      "text/latex": [
       "A matrix: 5 × 1 of type dbl\n",
       "\\begin{tabular}{l}\n",
       "\t 0.2655087\\\\\n",
       "\t 0.3721239\\\\\n",
       "\t 0.5728534\\\\\n",
       "\t 0.9082078\\\\\n",
       "\t 0.2016819\\\\\n",
       "\\end{tabular}\n"
      ],
      "text/markdown": [
       "\n",
       "A matrix: 5 × 1 of type dbl\n",
       "\n",
       "| 0.2655087 |\n",
       "| 0.3721239 |\n",
       "| 0.5728534 |\n",
       "| 0.9082078 |\n",
       "| 0.2016819 |\n",
       "\n"
      ],
      "text/plain": [
       "     [,1]     \n",
       "[1,] 0.2655087\n",
       "[2,] 0.3721239\n",
       "[3,] 0.5728534\n",
       "[4,] 0.9082078\n",
       "[5,] 0.2016819"
      ]
     },
     "metadata": {},
     "output_type": "display_data"
    }
   ],
   "source": [
    "mat <- matrix(runif(5))\n",
    "mat"
   ]
  },
  {
   "cell_type": "code",
   "execution_count": 12,
   "metadata": {},
   "outputs": [
    {
     "data": {
      "text/plain": [
       "            1           2           3           4\n",
       "2 0.024084935                                    \n",
       "3 0.119654797 0.037381593                        \n",
       "4 0.006914433 0.056442160 0.181425203            \n",
       "5 0.038874393 0.001789084 0.022908727 0.077933519"
      ]
     },
     "metadata": {},
     "output_type": "display_data"
    }
   ],
   "source": [
    "\n",
    "mat <- matrix(runif(5))\n",
    "fn <- function(x, y) 1 - cos(x - y)\n",
    "\n",
    "proxy::dist(mat, method = fn)"
   ]
  },
  {
   "cell_type": "code",
   "execution_count": 45,
   "metadata": {},
   "outputs": [
    {
     "name": "stderr",
     "output_type": "stream",
     "text": [
      "Installing package into 'C:/Users/admin/Documents/R/win-library/3.6'\n",
      "(as 'lib' is unspecified)\n"
     ]
    },
    {
     "name": "stdout",
     "output_type": "stream",
     "text": [
      "package 'Rtsne' successfully unpacked and MD5 sums checked\n",
      "\n",
      "The downloaded binary packages are in\n",
      "\tC:\\Users\\admin\\AppData\\Local\\Temp\\RtmpiiGSCS\\downloaded_packages\n"
     ]
    }
   ],
   "source": [
    "install.packages('Rtsne')"
   ]
  }
 ],
 "metadata": {
  "kernelspec": {
   "display_name": "R",
   "language": "R",
   "name": "ir"
  },
  "language_info": {
   "codemirror_mode": "r",
   "file_extension": ".r",
   "mimetype": "text/x-r-source",
   "name": "R",
   "pygments_lexer": "r",
   "version": "3.6.0"
  }
 },
 "nbformat": 4,
 "nbformat_minor": 2
}
