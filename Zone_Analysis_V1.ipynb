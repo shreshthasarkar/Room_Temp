{
 "cells": [
  {
   "cell_type": "code",
   "execution_count": 1,
   "metadata": {},
   "outputs": [
    {
     "data": {
      "text/html": [
       "        <script type=\"text/javascript\">\n",
       "        window.PlotlyConfig = {MathJaxConfig: 'local'};\n",
       "        if (window.MathJax) {MathJax.Hub.Config({SVG: {font: \"STIX-Web\"}});}\n",
       "        if (typeof require !== 'undefined') {\n",
       "        require.undef(\"plotly\");\n",
       "        requirejs.config({\n",
       "            paths: {\n",
       "                'plotly': ['https://cdn.plot.ly/plotly-latest.min']\n",
       "            }\n",
       "        });\n",
       "        require(['plotly'], function(Plotly) {\n",
       "            window._Plotly = Plotly;\n",
       "        });\n",
       "        }\n",
       "        </script>\n",
       "        "
      ]
     },
     "metadata": {},
     "output_type": "display_data"
    }
   ],
   "source": [
    "# Importing Relevant Libraries\n",
    "import numpy as np\n",
    "import pandas as pd\n",
    "import time\n",
    "import matplotlib.pyplot as plt\n",
    "import pylab\n",
    "import collections\n",
    "import pymongo\n",
    "import psycopg2\n",
    "import paho.mqtt.client as mqtt\n",
    "import seaborn as sns\n",
    "from IPython import display\n",
    "from pandas import datetime\n",
    "from datetime import timedelta\n",
    "from pymongo import MongoClient\n",
    "from scipy import stats\n",
    "\n",
    "import plotly.graph_objects as go\n",
    "import plotly as py\n",
    "\n",
    "py.offline.init_notebook_mode(connected=True)"
   ]
  },
  {
   "cell_type": "code",
   "execution_count": 2,
   "metadata": {},
   "outputs": [],
   "source": [
    "# Set up MongoDB Client\n",
    "client_mqtt = mqtt.Client()\n",
    "\n",
    "# Set up NodeMCU Client\n",
    "client_mongo = MongoClient('192.168.1.5')\n",
    "temp_database = client_mongo['temp_collect']\n",
    "data_1=temp_database['Temperature_1']\n",
    "data_2=temp_database['Temperature_2']"
   ]
  },
  {
   "cell_type": "code",
   "execution_count": null,
   "metadata": {},
   "outputs": [],
   "source": [
    "#Time : 2pm - 3pm , AC Temperature : 26, Date : 18/7/19\n",
    "date_time=[]\n",
    "tmp_1=[]\n",
    "tmp_2=[]\n",
    "tmp_3=[]\n",
    "avg=[]\n",
    "#specifying every n'th minute\n",
    "time=3\n",
    "#counter\n",
    "c=time\n",
    "for obj in data_1.find():\n",
    "    time_h=(obj['Date-Time'][11:])\n",
    "    \n",
    "    #if(\"15:\" in time_h or \"15:0\" in time_h):\n",
    "    if(\"16:\" in time_h):\n",
    "        if(c==time):\n",
    "            date_time.append(datetime.strptime(obj['Date-Time'],'%m/%d,%Y %H:%M'))\n",
    "            tmp_1.append(float(obj['tmp_1']))\n",
    "            tmp_2.append(float(obj['tmp_2']))\n",
    "            tmp_3.append(float(obj['tmp_3']))\n",
    "            avg.append((float(obj['tmp_1'])+float(obj['tmp_2'])+float(obj['tmp_3']))/3)\n",
    "            c=0\n",
    "        c=c+1\n",
    "\n",
    "d = {'Temp_1':tmp_1,'Temp_2':tmp_2,'Temp_3':tmp_3,'Avg':avg}\n",
    "data=pd.DataFrame(d)\n",
    "d_2 = {'Time':date_time,'Temp_1':tmp_1,'Temp_2':tmp_2,'Temp_3':tmp_3,'Avg':avg}\n",
    "data_time=pd.DataFrame(d_2)\n",
    "data_time=data_time.set_index('Time')\n",
    "sns.lineplot(data=data, palette=\"tab10\", linewidth=2.5)"
   ]
  },
  {
   "cell_type": "code",
   "execution_count": null,
   "metadata": {},
   "outputs": [],
   "source": []
  }
 ],
 "metadata": {
  "kernelspec": {
   "display_name": "Python 3",
   "language": "python",
   "name": "python3"
  },
  "language_info": {
   "codemirror_mode": {
    "name": "ipython",
    "version": 3
   },
   "file_extension": ".py",
   "mimetype": "text/x-python",
   "name": "python",
   "nbconvert_exporter": "python",
   "pygments_lexer": "ipython3",
   "version": "3.7.4"
  }
 },
 "nbformat": 4,
 "nbformat_minor": 2
}
