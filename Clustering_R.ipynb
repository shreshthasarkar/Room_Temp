{
 "cells": [
  {
   "cell_type": "code",
   "execution_count": 46,
   "metadata": {},
   "outputs": [
    {
     "name": "stderr",
     "output_type": "stream",
     "text": [
      "Warning message:\n",
      "\"package 'Rtsne' was built under R version 3.6.1\""
     ]
    }
   ],
   "source": [
    "library(Rtsne)"
   ]
  },
  {
   "cell_type": "code",
   "execution_count": 3,
   "metadata": {},
   "outputs": [],
   "source": [
    "set.seed(1)"
   ]
  },
  {
   "cell_type": "code",
   "execution_count": 101,
   "metadata": {},
   "outputs": [],
   "source": [
    "data <- read.csv(file=\"tempsensor_data.csv\", header=TRUE, sep=\",\")"
   ]
  },
  {
   "cell_type": "code",
   "execution_count": 102,
   "metadata": {},
   "outputs": [],
   "source": [
    "data=data[,2:5]"
   ]
  },
  {
   "cell_type": "code",
   "execution_count": 122,
   "metadata": {},
   "outputs": [],
   "source": [
    "data_t=t(data)"
   ]
  },
  {
   "cell_type": "code",
   "execution_count": 103,
   "metadata": {},
   "outputs": [
    {
     "data": {
      "text/html": [
       "<table>\n",
       "<caption>A data.frame: 6 × 4</caption>\n",
       "<thead>\n",
       "\t<tr><th scope=col>Temp_1</th><th scope=col>Temp_2</th><th scope=col>Temp_3</th><th scope=col>Temp_4</th></tr>\n",
       "\t<tr><th scope=col>&lt;dbl&gt;</th><th scope=col>&lt;dbl&gt;</th><th scope=col>&lt;dbl&gt;</th><th scope=col>&lt;dbl&gt;</th></tr>\n",
       "</thead>\n",
       "<tbody>\n",
       "\t<tr><td>25.687</td><td>26.000</td><td>24.188</td><td>25.500</td></tr>\n",
       "\t<tr><td>26.063</td><td>26.937</td><td>25.562</td><td>25.937</td></tr>\n",
       "\t<tr><td>26.562</td><td>26.812</td><td>25.500</td><td>25.937</td></tr>\n",
       "\t<tr><td>26.812</td><td>26.688</td><td>25.750</td><td>26.063</td></tr>\n",
       "\t<tr><td>27.313</td><td>27.500</td><td>26.812</td><td>26.500</td></tr>\n",
       "\t<tr><td>27.375</td><td>27.687</td><td>27.125</td><td>27.562</td></tr>\n",
       "</tbody>\n",
       "</table>\n"
      ],
      "text/latex": [
       "A data.frame: 6 × 4\n",
       "\\begin{tabular}{r|llll}\n",
       " Temp\\_1 & Temp\\_2 & Temp\\_3 & Temp\\_4\\\\\n",
       " <dbl> & <dbl> & <dbl> & <dbl>\\\\\n",
       "\\hline\n",
       "\t 25.687 & 26.000 & 24.188 & 25.500\\\\\n",
       "\t 26.063 & 26.937 & 25.562 & 25.937\\\\\n",
       "\t 26.562 & 26.812 & 25.500 & 25.937\\\\\n",
       "\t 26.812 & 26.688 & 25.750 & 26.063\\\\\n",
       "\t 27.313 & 27.500 & 26.812 & 26.500\\\\\n",
       "\t 27.375 & 27.687 & 27.125 & 27.562\\\\\n",
       "\\end{tabular}\n"
      ],
      "text/markdown": [
       "\n",
       "A data.frame: 6 × 4\n",
       "\n",
       "| Temp_1 &lt;dbl&gt; | Temp_2 &lt;dbl&gt; | Temp_3 &lt;dbl&gt; | Temp_4 &lt;dbl&gt; |\n",
       "|---|---|---|---|\n",
       "| 25.687 | 26.000 | 24.188 | 25.500 |\n",
       "| 26.063 | 26.937 | 25.562 | 25.937 |\n",
       "| 26.562 | 26.812 | 25.500 | 25.937 |\n",
       "| 26.812 | 26.688 | 25.750 | 26.063 |\n",
       "| 27.313 | 27.500 | 26.812 | 26.500 |\n",
       "| 27.375 | 27.687 | 27.125 | 27.562 |\n",
       "\n"
      ],
      "text/plain": [
       "  Temp_1 Temp_2 Temp_3 Temp_4\n",
       "1 25.687 26.000 24.188 25.500\n",
       "2 26.063 26.937 25.562 25.937\n",
       "3 26.562 26.812 25.500 25.937\n",
       "4 26.812 26.688 25.750 26.063\n",
       "5 27.313 27.500 26.812 26.500\n",
       "6 27.375 27.687 27.125 27.562"
      ]
     },
     "metadata": {},
     "output_type": "display_data"
    }
   ],
   "source": [
    "head(data)"
   ]
  },
  {
   "cell_type": "code",
   "execution_count": 127,
   "metadata": {},
   "outputs": [],
   "source": [
    "pca=princomp(data)"
   ]
  },
  {
   "cell_type": "code",
   "execution_count": 128,
   "metadata": {},
   "outputs": [],
   "source": [
    "l=pca$loadings"
   ]
  },
  {
   "cell_type": "code",
   "execution_count": 129,
   "metadata": {},
   "outputs": [
    {
     "data": {
      "text/plain": [
       "\n",
       "Loadings:\n",
       "       Comp.1 Comp.2 Comp.3 Comp.4\n",
       "Temp_1  0.333  0.577         0.746\n",
       "Temp_2  0.303  0.682        -0.662\n",
       "Temp_3  0.663 -0.299  0.682       \n",
       "Temp_4  0.598 -0.335 -0.728       \n",
       "\n",
       "               Comp.1 Comp.2 Comp.3 Comp.4\n",
       "SS loadings      1.00   1.00   1.00   1.00\n",
       "Proportion Var   0.25   0.25   0.25   0.25\n",
       "Cumulative Var   0.25   0.50   0.75   1.00"
      ]
     },
     "metadata": {},
     "output_type": "display_data"
    }
   ],
   "source": [
    "l"
   ]
  },
  {
   "cell_type": "code",
   "execution_count": 43,
   "metadata": {
    "collapsed": true
   },
   "outputs": [
    {
     "data": {
      "image/png": "[encoded data removed]",
      "text/plain": [
       "plot without title"
      ]
     },
     "metadata": {},
     "output_type": "display_data"
    }
   ],
   "source": [
    "plot(l)"
   ]
  },
  {
   "cell_type": "code",
   "execution_count": 109,
   "metadata": {},
   "outputs": [],
   "source": [
    "Labels<-c('Temp_1', 'Temp_2', 'Temp_3', 'Temp_4')"
   ]
  },
  {
   "cell_type": "code",
   "execution_count": 111,
   "metadata": {},
   "outputs": [
    {
     "data": {
      "text/html": [
       "<ol class=list-inline>\n",
       "\t<li>'Temp_1'</li>\n",
       "\t<li>'Temp_2'</li>\n",
       "\t<li>'Temp_3'</li>\n",
       "\t<li>'Temp_4'</li>\n",
       "</ol>\n"
      ],
      "text/latex": [
       "\\begin{enumerate*}\n",
       "\\item 'Temp\\_1'\n",
       "\\item 'Temp\\_2'\n",
       "\\item 'Temp\\_3'\n",
       "\\item 'Temp\\_4'\n",
       "\\end{enumerate*}\n"
      ],
      "text/markdown": [
       "1. 'Temp_1'\n",
       "2. 'Temp_2'\n",
       "3. 'Temp_3'\n",
       "4. 'Temp_4'\n",
       "\n",
       "\n"
      ],
      "text/plain": [
       "[1] \"Temp_1\" \"Temp_2\" \"Temp_3\" \"Temp_4\""
      ]
     },
     "metadata": {},
     "output_type": "display_data"
    }
   ],
   "source": [
    "unique(Labels)"
   ]
  },
  {
   "cell_type": "code",
   "execution_count": 113,
   "metadata": {},
   "outputs": [],
   "source": [
    "color <- rainbow(length(unique(Labels)))\n",
    "names(color) <- unique(Labels)"
   ]
  },
  {
   "cell_type": "code",
   "execution_count": 130,
   "metadata": {},
   "outputs": [
    {
     "ename": "ERROR",
     "evalue": "Error in .check_tsne_params(nrow(X), dims = dims, perplexity = perplexity, : perplexity is too large for the number of samples\n",
     "output_type": "error",
     "traceback": [
      "Error in .check_tsne_params(nrow(X), dims = dims, perplexity = perplexity, : perplexity is too large for the number of samples\nTraceback:\n",
      "1. Rtsne(data_t, dim = 2, perplexity = 4)",
      "2. Rtsne.default(data_t, dim = 2, perplexity = 4)",
      "3. .check_tsne_params(nrow(X), dims = dims, perplexity = perplexity, \n .     theta = theta, max_iter = max_iter, verbose = verbose, Y_init = Y_init, \n .     stop_lying_iter = stop_lying_iter, mom_switch_iter = mom_switch_iter, \n .     momentum = momentum, final_momentum = final_momentum, eta = eta, \n .     exaggeration_factor = exaggeration_factor)",
      "4. stop(\"perplexity is too large for the number of samples\")"
     ]
    }
   ],
   "source": [
    "t=Rtsne(data_t,dim=2,perplexity =4)"
   ]
  },
  {
   "cell_type": "code",
   "execution_count": 119,
   "metadata": {},
   "outputs": [
    {
     "data": {
      "text/html": [
       "<pre class=language-r><code>.Primitive(\"names\")</code></pre>"
      ],
      "text/latex": [
       "\\begin{minted}{r}\n",
       ".Primitive(\"names\")\n",
       "\\end{minted}"
      ],
      "text/markdown": [
       "```r\n",
       ".Primitive(\"names\")\n",
       "```"
      ],
      "text/plain": [
       "function (x)  .Primitive(\"names\")"
      ]
     },
     "metadata": {},
     "output_type": "display_data"
    }
   ],
   "source": [
    "names"
   ]
  },
  {
   "cell_type": "code",
   "execution_count": 118,
   "metadata": {},
   "outputs": [
    {
     "data": {
      "text/html": [
       "<dl class=dl-horizontal>\n",
       "\t<dt>Temp_1</dt>\n",
       "\t\t<dd>'#FF0000FF'</dd>\n",
       "\t<dt>Temp_2</dt>\n",
       "\t\t<dd>'#80FF00FF'</dd>\n",
       "\t<dt>Temp_3</dt>\n",
       "\t\t<dd>'#00FFFFFF'</dd>\n",
       "\t<dt>Temp_4</dt>\n",
       "\t\t<dd>'#8000FFFF'</dd>\n",
       "</dl>\n"
      ],
      "text/latex": [
       "\\begin{description*}\n",
       "\\item[Temp\\textbackslash{}\\_1] '\\#FF0000FF'\n",
       "\\item[Temp\\textbackslash{}\\_2] '\\#80FF00FF'\n",
       "\\item[Temp\\textbackslash{}\\_3] '\\#00FFFFFF'\n",
       "\\item[Temp\\textbackslash{}\\_4] '\\#8000FFFF'\n",
       "\\end{description*}\n"
      ],
      "text/markdown": [
       "Temp_1\n",
       ":   '#FF0000FF'Temp_2\n",
       ":   '#80FF00FF'Temp_3\n",
       ":   '#00FFFFFF'Temp_4\n",
       ":   '#8000FFFF'\n",
       "\n"
      ],
      "text/plain": [
       "     Temp_1      Temp_2      Temp_3      Temp_4 \n",
       "\"#FF0000FF\" \"#80FF00FF\" \"#00FFFFFF\" \"#8000FFFF\" "
      ]
     },
     "metadata": {},
     "output_type": "display_data"
    }
   ],
   "source": [
    "color"
   ]
  },
  {
   "cell_type": "code",
   "execution_count": 124,
   "metadata": {},
   "outputs": [
    {
     "data": {
      "image/png": "[encoded data removed]",
      "text/plain": [
       "Plot with title \"tsne\""
      ]
     },
     "metadata": {},
     "output_type": "display_data"
    }
   ],
   "source": [
    "plot(t$Y,main=\"tsne\")\n",
    "# text(t$Y, labels = Labels, col = color[Labels])\n",
    "text(t$Y, col = color[Labels])"
   ]
  },
  {
   "cell_type": "code",
   "execution_count": 108,
   "metadata": {},
   "outputs": [
    {
     "data": {
      "text/html": [
       "<ol class=list-inline>\n",
       "\t<li>'Temp_1'</li>\n",
       "\t<li>'Temp_2'</li>\n",
       "\t<li>'Temp_3'</li>\n",
       "\t<li>'Temp_4'</li>\n",
       "</ol>\n"
      ],
      "text/latex": [
       "\\begin{enumerate*}\n",
       "\\item 'Temp\\_1'\n",
       "\\item 'Temp\\_2'\n",
       "\\item 'Temp\\_3'\n",
       "\\item 'Temp\\_4'\n",
       "\\end{enumerate*}\n"
      ],
      "text/markdown": [
       "1. 'Temp_1'\n",
       "2. 'Temp_2'\n",
       "3. 'Temp_3'\n",
       "4. 'Temp_4'\n",
       "\n",
       "\n"
      ],
      "text/plain": [
       "[1] \"Temp_1\" \"Temp_2\" \"Temp_3\" \"Temp_4\""
      ]
     },
     "metadata": {},
     "output_type": "display_data"
    }
   ],
   "source": [
    "colnames(data)"
   ]
  },
  {
   "cell_type": "code",
   "execution_count": 134,
   "metadata": {},
   "outputs": [],
   "source": [
    "k=kmeans(data_t, 2, iter.max = 10, nstart = 1,\n",
    " algorithm = c(\"Hartigan-Wong\", \"Lloyd\", \"Forgy\",\n",
    " \"MacQueen\"), trace=FALSE)"
   ]
  },
  {
   "cell_type": "code",
   "execution_count": 135,
   "metadata": {},
   "outputs": [
    {
     "data": {
      "text/html": [
       "<table>\n",
       "<caption>A matrix: 2 × 53 of type dbl</caption>\n",
       "<tbody>\n",
       "\t<tr><td>25.8435</td><td>26.5000</td><td>26.6870</td><td>26.7500</td><td>27.4065</td><td>27.5310</td><td>27.7185</td><td>27.250</td><td>27.5000</td><td>27.844</td><td>...</td><td>27.7810</td><td>27.906</td><td>27.9375</td><td>27.8435</td><td>28.1870</td><td>28.2810</td><td>28.0935</td><td>28.219</td><td>28.281</td><td>28.5625</td></tr>\n",
       "\t<tr><td>24.8440</td><td>25.7495</td><td>25.7185</td><td>25.9065</td><td>26.6560</td><td>27.3435</td><td>27.5000</td><td>27.031</td><td>27.3125</td><td>27.000</td><td>...</td><td>27.6255</td><td>27.781</td><td>27.9060</td><td>27.5620</td><td>27.7185</td><td>27.7815</td><td>28.1250</td><td>28.375</td><td>28.375</td><td>28.5310</td></tr>\n",
       "</tbody>\n",
       "</table>\n"
      ],
      "text/latex": [
       "A matrix: 2 × 53 of type dbl\n",
       "\\begin{tabular}{r|lllllllllllllllllllllllllllllllllllllllllllllllllllll}\n",
       "\t 25.8435 & 26.5000 & 26.6870 & 26.7500 & 27.4065 & 27.5310 & 27.7185 & 27.250 & 27.5000 & 27.844 & 27.937 & 27.9685 & 27.906 & 27.7815 & 27.9995 & 27.500 & 27.094 & 27.2185 & 26.656 & 27.2185 & 26.9995 & 27.3125 & 27.1875 & 26.8435 & 26.8125 & 27.0310 & 27.125 & 26.8745 & 26.6875 & 26.906 & 26.6875 & 26.8125 & 27.1245 & 26.6875 & 26.3750 & 26.8120 & 26.6875 & 26.875 & 26.4685 & 26.906 & 27.156 & 27.4375 & 27.656 & 27.7810 & 27.906 & 27.9375 & 27.8435 & 28.1870 & 28.2810 & 28.0935 & 28.219 & 28.281 & 28.5625\\\\\n",
       "\t 24.8440 & 25.7495 & 25.7185 & 25.9065 & 26.6560 & 27.3435 & 27.5000 & 27.031 & 27.3125 & 27.000 & 27.469 & 27.3750 & 27.656 & 27.3120 & 26.8435 & 26.156 & 25.375 & 25.4995 & 25.406 & 26.0310 & 25.1875 & 25.5000 & 25.8435 & 25.1560 & 25.6875 & 24.6875 & 25.875 & 24.4690 & 25.7500 & 25.125 & 25.3435 & 25.6560 & 25.6875 & 25.4685 & 25.6875 & 25.3745 & 25.5310 & 26.031 & 24.8440 & 25.844 & 26.156 & 27.2185 & 27.219 & 27.6255 & 27.781 & 27.9060 & 27.5620 & 27.7185 & 27.7815 & 28.1250 & 28.375 & 28.375 & 28.5310\\\\\n",
       "\\end{tabular}\n"
      ],
      "text/markdown": [
       "\n",
       "A matrix: 2 × 53 of type dbl\n",
       "\n",
       "| 25.8435 | 26.5000 | 26.6870 | 26.7500 | 27.4065 | 27.5310 | 27.7185 | 27.250 | 27.5000 | 27.844 | ... | 27.7810 | 27.906 | 27.9375 | 27.8435 | 28.1870 | 28.2810 | 28.0935 | 28.219 | 28.281 | 28.5625 |\n",
       "| 24.8440 | 25.7495 | 25.7185 | 25.9065 | 26.6560 | 27.3435 | 27.5000 | 27.031 | 27.3125 | 27.000 | ... | 27.6255 | 27.781 | 27.9060 | 27.5620 | 27.7185 | 27.7815 | 28.1250 | 28.375 | 28.375 | 28.5310 |\n",
       "\n"
      ],
      "text/plain": [
       "  [,1]    [,2]    [,3]    [,4]    [,5]    [,6]    [,7]    [,8]   [,9]    [,10] \n",
       "1 25.8435 26.5000 26.6870 26.7500 27.4065 27.5310 27.7185 27.250 27.5000 27.844\n",
       "2 24.8440 25.7495 25.7185 25.9065 26.6560 27.3435 27.5000 27.031 27.3125 27.000\n",
       "  [,11] [,12]   [,13]  [,14]   [,15]   [,16]   [,17]   [,18]   [,19]  [,20] \n",
       "1 ...   27.7810 27.906 27.9375 27.8435 28.1870 28.2810 28.0935 28.219 28.281\n",
       "2 ...   27.6255 27.781 27.9060 27.5620 27.7185 27.7815 28.1250 28.375 28.375\n",
       "  [,21]  \n",
       "1 28.5625\n",
       "2 28.5310"
      ]
     },
     "metadata": {},
     "output_type": "display_data"
    },
    {
     "data": {
      "text/plain": [
       "\n",
       "1 2 \n",
       "2 2 "
      ]
     },
     "metadata": {},
     "output_type": "display_data"
    }
   ],
   "source": [
    "k$centers #Display&nbsp;cluster centers\n",
    "table(k$cluster)"
   ]
  },
  {
   "cell_type": "code",
   "execution_count": 136,
   "metadata": {},
   "outputs": [
    {
     "data": {
      "text/plain": [
       "K-means clustering with 2 clusters of sizes 2, 2\n",
       "\n",
       "Cluster means:\n",
       "     [,1]    [,2]    [,3]    [,4]    [,5]    [,6]    [,7]   [,8]    [,9]  [,10]\n",
       "1 25.8435 26.5000 26.6870 26.7500 27.4065 27.5310 27.7185 27.250 27.5000 27.844\n",
       "2 24.8440 25.7495 25.7185 25.9065 26.6560 27.3435 27.5000 27.031 27.3125 27.000\n",
       "   [,11]   [,12]  [,13]   [,14]   [,15]  [,16]  [,17]   [,18]  [,19]   [,20]\n",
       "1 27.937 27.9685 27.906 27.7815 27.9995 27.500 27.094 27.2185 26.656 27.2185\n",
       "2 27.469 27.3750 27.656 27.3120 26.8435 26.156 25.375 25.4995 25.406 26.0310\n",
       "    [,21]   [,22]   [,23]   [,24]   [,25]   [,26]  [,27]   [,28]   [,29]  [,30]\n",
       "1 26.9995 27.3125 27.1875 26.8435 26.8125 27.0310 27.125 26.8745 26.6875 26.906\n",
       "2 25.1875 25.5000 25.8435 25.1560 25.6875 24.6875 25.875 24.4690 25.7500 25.125\n",
       "    [,31]   [,32]   [,33]   [,34]   [,35]   [,36]   [,37]  [,38]   [,39]  [,40]\n",
       "1 26.6875 26.8125 27.1245 26.6875 26.3750 26.8120 26.6875 26.875 26.4685 26.906\n",
       "2 25.3435 25.6560 25.6875 25.4685 25.6875 25.3745 25.5310 26.031 24.8440 25.844\n",
       "   [,41]   [,42]  [,43]   [,44]  [,45]   [,46]   [,47]   [,48]   [,49]   [,50]\n",
       "1 27.156 27.4375 27.656 27.7810 27.906 27.9375 27.8435 28.1870 28.2810 28.0935\n",
       "2 26.156 27.2185 27.219 27.6255 27.781 27.9060 27.5620 27.7185 27.7815 28.1250\n",
       "   [,51]  [,52]   [,53]\n",
       "1 28.219 28.281 28.5625\n",
       "2 28.375 28.375 28.5310\n",
       "\n",
       "Clustering vector:\n",
       "Temp_1 Temp_2 Temp_3 Temp_4 \n",
       "     1      1      2      2 \n",
       "\n",
       "Within cluster sum of squares by cluster:\n",
       "[1] 4.352599 9.753850\n",
       " (between_SS / total_SS =  81.9 %)\n",
       "\n",
       "Available components:\n",
       "\n",
       "[1] \"cluster\"      \"centers\"      \"totss\"        \"withinss\"     \"tot.withinss\"\n",
       "[6] \"betweenss\"    \"size\"         \"iter\"         \"ifault\"      "
      ]
     },
     "metadata": {},
     "output_type": "display_data"
    }
   ],
   "source": [
    "k"
   ]
  },
  {
   "cell_type": "code",
   "execution_count": 5,
   "metadata": {},
   "outputs": [],
   "source": [
    "x=c(2,3,4,4)\n",
    "y=c(3,4,7,8)"
   ]
  },
  {
   "cell_type": "code",
   "execution_count": 7,
   "metadata": {},
   "outputs": [
    {
     "data": {
      "text/html": [
       "0.95065415136527"
      ],
      "text/latex": [
       "0.95065415136527"
      ],
      "text/markdown": [
       "0.95065415136527"
      ],
      "text/plain": [
       "[1] 0.9506542"
      ]
     },
     "metadata": {},
     "output_type": "display_data"
    }
   ],
   "source": [
    "cor(x,y)"
   ]
  },
  {
   "cell_type": "code",
   "execution_count": 8,
   "metadata": {},
   "outputs": [
    {
     "data": {
      "text/html": [
       "<table>\n",
       "<caption>A matrix: 5 × 1 of type dbl</caption>\n",
       "<tbody>\n",
       "\t<tr><td>0.2655087</td></tr>\n",
       "\t<tr><td>0.3721239</td></tr>\n",
       "\t<tr><td>0.5728534</td></tr>\n",
       "\t<tr><td>0.9082078</td></tr>\n",
       "\t<tr><td>0.2016819</td></tr>\n",
       "</tbody>\n",
       "</table>\n"
      ],
      "text/latex": [
       "A matrix: 5 × 1 of type dbl\n",
       "\\begin{tabular}{l}\n",
       "\t 0.2655087\\\\\n",
       "\t 0.3721239\\\\\n",
       "\t 0.5728534\\\\\n",
       "\t 0.9082078\\\\\n",
       "\t 0.2016819\\\\\n",
       "\\end{tabular}\n"
      ],
      "text/markdown": [
       "\n",
       "A matrix: 5 × 1 of type dbl\n",
       "\n",
       "| 0.2655087 |\n",
       "| 0.3721239 |\n",
       "| 0.5728534 |\n",
       "| 0.9082078 |\n",
       "| 0.2016819 |\n",
       "\n"
      ],
      "text/plain": [
       "     [,1]     \n",
       "[1,] 0.2655087\n",
       "[2,] 0.3721239\n",
       "[3,] 0.5728534\n",
       "[4,] 0.9082078\n",
       "[5,] 0.2016819"
      ]
     },
     "metadata": {},
     "output_type": "display_data"
    }
   ],
   "source": [
    "mat <- matrix(runif(5))\n",
    "mat"
   ]
  },
  {
   "cell_type": "code",
   "execution_count": 12,
   "metadata": {},
   "outputs": [
    {
     "data": {
      "text/plain": [
       "            1           2           3           4\n",
       "2 0.024084935                                    \n",
       "3 0.119654797 0.037381593                        \n",
       "4 0.006914433 0.056442160 0.181425203            \n",
       "5 0.038874393 0.001789084 0.022908727 0.077933519"
      ]
     },
     "metadata": {},
     "output_type": "display_data"
    }
   ],
   "source": [
    "\n",
    "mat <- matrix(runif(5))\n",
    "fn <- function(x, y) 1 - cos(x - y)\n",
    "\n",
    "proxy::dist(mat, method = fn)"
   ]
  },
  {
   "cell_type": "code",
   "execution_count": 45,
   "metadata": {},
   "outputs": [
    {
     "name": "stderr",
     "output_type": "stream",
     "text": [
      "Installing package into 'C:/Users/admin/Documents/R/win-library/3.6'\n",
      "(as 'lib' is unspecified)\n"
     ]
    },
    {
     "name": "stdout",
     "output_type": "stream",
     "text": [
      "package 'Rtsne' successfully unpacked and MD5 sums checked\n",
      "\n",
      "The downloaded binary packages are in\n",
      "\tC:\\Users\\admin\\AppData\\Local\\Temp\\RtmpiiGSCS\\downloaded_packages\n"
     ]
    }
   ],
   "source": [
    "install.packages('Rtsne')"
   ]
  }
 ],
 "metadata": {
  "kernelspec": {
   "display_name": "R",
   "language": "R",
   "name": "ir"
  },
  "language_info": {
   "codemirror_mode": "r",
   "file_extension": ".r",
   "mimetype": "text/x-r-source",
   "name": "R",
   "pygments_lexer": "r",
   "version": "3.6.0"
  }
 },
 "nbformat": 4,
 "nbformat_minor": 2
}
