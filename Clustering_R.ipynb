{
 "cells": [
  {
   "cell_type": "code",
   "execution_count": 1,
   "metadata": {},
   "outputs": [
    {
     "name": "stderr",
     "output_type": "stream",
     "text": [
      "Warning message:\n",
      "\"package 'Rtsne' was built under R version 3.6.1\""
     ]
    }
   ],
   "source": [
    "library(Rtsne)"
   ]
  },
  {
   "cell_type": "code",
   "execution_count": 2,
   "metadata": {},
   "outputs": [],
   "source": [
    "set.seed(1)"
   ]
  },
  {
   "cell_type": "code",
   "execution_count": 42,
   "metadata": {},
   "outputs": [],
   "source": [
    "data <- read.csv(file=\"tempsensor_data_sim_sensors_15.csv\", header=TRUE, sep=\",\")"
   ]
  },
  {
   "cell_type": "code",
   "execution_count": 67,
   "metadata": {},
   "outputs": [
    {
     "data": {
      "text/html": [
       "<table>\n",
       "<caption>A data.frame: 5 × 20</caption>\n",
       "<thead>\n",
       "\t<tr><th></th><th scope=col>Temp_1_1</th><th scope=col>Temp_1_2</th><th scope=col>Temp_1_3</th><th scope=col>Temp_1_4</th><th scope=col>Temp_2_1</th><th scope=col>Temp_2_2</th><th scope=col>Temp_2_3</th><th scope=col>Temp_2_4</th><th scope=col>Temp_12_avg_open</th><th scope=col>Temp_12_avg_close</th><th scope=col>Temp_3_1</th><th scope=col>Temp_3_2</th><th scope=col>Temp_3_3</th><th scope=col>Temp_3_4</th><th scope=col>Temp_4_1</th><th scope=col>Temp_4_2</th><th scope=col>Temp_4_3</th><th scope=col>Temp_4_4</th><th scope=col>Temp_34_avg_open</th><th scope=col>Temp_34_avg_close</th></tr>\n",
       "\t<tr><th></th><th scope=col>&lt;dbl&gt;</th><th scope=col>&lt;dbl&gt;</th><th scope=col>&lt;dbl&gt;</th><th scope=col>&lt;dbl&gt;</th><th scope=col>&lt;dbl&gt;</th><th scope=col>&lt;dbl&gt;</th><th scope=col>&lt;dbl&gt;</th><th scope=col>&lt;dbl&gt;</th><th scope=col>&lt;dbl&gt;</th><th scope=col>&lt;dbl&gt;</th><th scope=col>&lt;dbl&gt;</th><th scope=col>&lt;dbl&gt;</th><th scope=col>&lt;dbl&gt;</th><th scope=col>&lt;dbl&gt;</th><th scope=col>&lt;dbl&gt;</th><th scope=col>&lt;dbl&gt;</th><th scope=col>&lt;dbl&gt;</th><th scope=col>&lt;dbl&gt;</th><th scope=col>&lt;dbl&gt;</th><th scope=col>&lt;dbl&gt;</th></tr>\n",
       "</thead>\n",
       "<tbody>\n",
       "\t<tr><th scope=row>22</th><td>26.812</td><td>27.000</td><td>26.250</td><td>26.750</td><td>27.125</td><td>27.187</td><td>26.688</td><td>27.125</td><td>26.9685</td><td>26.9375</td><td>24.937</td><td>25.562</td><td>24.188</td><td>24.937</td><td>25.687</td><td>26.063</td><td>24.750</td><td>25.625</td><td>25.312</td><td>25.2810</td></tr>\n",
       "\t<tr><th scope=row>23</th><td>26.812</td><td>27.062</td><td>26.312</td><td>26.375</td><td>27.125</td><td>27.187</td><td>26.375</td><td>26.375</td><td>26.9685</td><td>26.3750</td><td>25.187</td><td>25.812</td><td>24.312</td><td>25.750</td><td>25.187</td><td>26.125</td><td>25.062</td><td>25.625</td><td>25.187</td><td>25.6875</td></tr>\n",
       "\t<tr><th scope=row>24</th><td>27.000</td><td>27.062</td><td>26.250</td><td>26.812</td><td>26.562</td><td>27.187</td><td>26.562</td><td>26.875</td><td>26.7810</td><td>26.8435</td><td>25.187</td><td>25.812</td><td>24.312</td><td>25.750</td><td>25.187</td><td>26.125</td><td>25.062</td><td>25.625</td><td>25.187</td><td>25.6875</td></tr>\n",
       "\t<tr><th scope=row>25</th><td>27.000</td><td>27.062</td><td>26.250</td><td>26.812</td><td>26.562</td><td>27.187</td><td>26.562</td><td>26.875</td><td>26.7810</td><td>26.8435</td><td>25.562</td><td>25.750</td><td>24.687</td><td>25.062</td><td>25.500</td><td>26.312</td><td>24.875</td><td>25.750</td><td>25.531</td><td>25.4060</td></tr>\n",
       "\t<tr><th scope=row>26</th><td>26.625</td><td>27.437</td><td>25.937</td><td>26.875</td><td>26.312</td><td>27.625</td><td>26.250</td><td>27.625</td><td>26.4685</td><td>27.2500</td><td>24.250</td><td>27.000</td><td>24.250</td><td>27.000</td><td>25.438</td><td>27.687</td><td>25.312</td><td>27.687</td><td>24.844</td><td>27.3435</td></tr>\n",
       "</tbody>\n",
       "</table>\n"
      ],
      "text/latex": [
       "A data.frame: 5 × 20\n",
       "\\begin{tabular}{r|llllllllllllllllllll}\n",
       "  & Temp\\_1\\_1 & Temp\\_1\\_2 & Temp\\_1\\_3 & Temp\\_1\\_4 & Temp\\_2\\_1 & Temp\\_2\\_2 & Temp\\_2\\_3 & Temp\\_2\\_4 & Temp\\_12\\_avg\\_open & Temp\\_12\\_avg\\_close & Temp\\_3\\_1 & Temp\\_3\\_2 & Temp\\_3\\_3 & Temp\\_3\\_4 & Temp\\_4\\_1 & Temp\\_4\\_2 & Temp\\_4\\_3 & Temp\\_4\\_4 & Temp\\_34\\_avg\\_open & Temp\\_34\\_avg\\_close\\\\\n",
       "  & <dbl> & <dbl> & <dbl> & <dbl> & <dbl> & <dbl> & <dbl> & <dbl> & <dbl> & <dbl> & <dbl> & <dbl> & <dbl> & <dbl> & <dbl> & <dbl> & <dbl> & <dbl> & <dbl> & <dbl>\\\\\n",
       "\\hline\n",
       "\t22 & 26.812 & 27.000 & 26.250 & 26.750 & 27.125 & 27.187 & 26.688 & 27.125 & 26.9685 & 26.9375 & 24.937 & 25.562 & 24.188 & 24.937 & 25.687 & 26.063 & 24.750 & 25.625 & 25.312 & 25.2810\\\\\n",
       "\t23 & 26.812 & 27.062 & 26.312 & 26.375 & 27.125 & 27.187 & 26.375 & 26.375 & 26.9685 & 26.3750 & 25.187 & 25.812 & 24.312 & 25.750 & 25.187 & 26.125 & 25.062 & 25.625 & 25.187 & 25.6875\\\\\n",
       "\t24 & 27.000 & 27.062 & 26.250 & 26.812 & 26.562 & 27.187 & 26.562 & 26.875 & 26.7810 & 26.8435 & 25.187 & 25.812 & 24.312 & 25.750 & 25.187 & 26.125 & 25.062 & 25.625 & 25.187 & 25.6875\\\\\n",
       "\t25 & 27.000 & 27.062 & 26.250 & 26.812 & 26.562 & 27.187 & 26.562 & 26.875 & 26.7810 & 26.8435 & 25.562 & 25.750 & 24.687 & 25.062 & 25.500 & 26.312 & 24.875 & 25.750 & 25.531 & 25.4060\\\\\n",
       "\t26 & 26.625 & 27.437 & 25.937 & 26.875 & 26.312 & 27.625 & 26.250 & 27.625 & 26.4685 & 27.2500 & 24.250 & 27.000 & 24.250 & 27.000 & 25.438 & 27.687 & 25.312 & 27.687 & 24.844 & 27.3435\\\\\n",
       "\\end{tabular}\n"
      ],
      "text/markdown": [
       "\n",
       "A data.frame: 5 × 20\n",
       "\n",
       "| <!--/--> | Temp_1_1 &lt;dbl&gt; | Temp_1_2 &lt;dbl&gt; | Temp_1_3 &lt;dbl&gt; | Temp_1_4 &lt;dbl&gt; | Temp_2_1 &lt;dbl&gt; | Temp_2_2 &lt;dbl&gt; | Temp_2_3 &lt;dbl&gt; | Temp_2_4 &lt;dbl&gt; | Temp_12_avg_open &lt;dbl&gt; | Temp_12_avg_close &lt;dbl&gt; | Temp_3_1 &lt;dbl&gt; | Temp_3_2 &lt;dbl&gt; | Temp_3_3 &lt;dbl&gt; | Temp_3_4 &lt;dbl&gt; | Temp_4_1 &lt;dbl&gt; | Temp_4_2 &lt;dbl&gt; | Temp_4_3 &lt;dbl&gt; | Temp_4_4 &lt;dbl&gt; | Temp_34_avg_open &lt;dbl&gt; | Temp_34_avg_close &lt;dbl&gt; |\n",
       "|---|---|---|---|---|---|---|---|---|---|---|---|---|---|---|---|---|---|---|---|---|\n",
       "| 22 | 26.812 | 27.000 | 26.250 | 26.750 | 27.125 | 27.187 | 26.688 | 27.125 | 26.9685 | 26.9375 | 24.937 | 25.562 | 24.188 | 24.937 | 25.687 | 26.063 | 24.750 | 25.625 | 25.312 | 25.2810 |\n",
       "| 23 | 26.812 | 27.062 | 26.312 | 26.375 | 27.125 | 27.187 | 26.375 | 26.375 | 26.9685 | 26.3750 | 25.187 | 25.812 | 24.312 | 25.750 | 25.187 | 26.125 | 25.062 | 25.625 | 25.187 | 25.6875 |\n",
       "| 24 | 27.000 | 27.062 | 26.250 | 26.812 | 26.562 | 27.187 | 26.562 | 26.875 | 26.7810 | 26.8435 | 25.187 | 25.812 | 24.312 | 25.750 | 25.187 | 26.125 | 25.062 | 25.625 | 25.187 | 25.6875 |\n",
       "| 25 | 27.000 | 27.062 | 26.250 | 26.812 | 26.562 | 27.187 | 26.562 | 26.875 | 26.7810 | 26.8435 | 25.562 | 25.750 | 24.687 | 25.062 | 25.500 | 26.312 | 24.875 | 25.750 | 25.531 | 25.4060 |\n",
       "| 26 | 26.625 | 27.437 | 25.937 | 26.875 | 26.312 | 27.625 | 26.250 | 27.625 | 26.4685 | 27.2500 | 24.250 | 27.000 | 24.250 | 27.000 | 25.438 | 27.687 | 25.312 | 27.687 | 24.844 | 27.3435 |\n",
       "\n"
      ],
      "text/plain": [
       "   Temp_1_1 Temp_1_2 Temp_1_3 Temp_1_4 Temp_2_1 Temp_2_2 Temp_2_3 Temp_2_4\n",
       "22 26.812   27.000   26.250   26.750   27.125   27.187   26.688   27.125  \n",
       "23 26.812   27.062   26.312   26.375   27.125   27.187   26.375   26.375  \n",
       "24 27.000   27.062   26.250   26.812   26.562   27.187   26.562   26.875  \n",
       "25 27.000   27.062   26.250   26.812   26.562   27.187   26.562   26.875  \n",
       "26 26.625   27.437   25.937   26.875   26.312   27.625   26.250   27.625  \n",
       "   Temp_12_avg_open Temp_12_avg_close Temp_3_1 Temp_3_2 Temp_3_3 Temp_3_4\n",
       "22 26.9685          26.9375           24.937   25.562   24.188   24.937  \n",
       "23 26.9685          26.3750           25.187   25.812   24.312   25.750  \n",
       "24 26.7810          26.8435           25.187   25.812   24.312   25.750  \n",
       "25 26.7810          26.8435           25.562   25.750   24.687   25.062  \n",
       "26 26.4685          27.2500           24.250   27.000   24.250   27.000  \n",
       "   Temp_4_1 Temp_4_2 Temp_4_3 Temp_4_4 Temp_34_avg_open Temp_34_avg_close\n",
       "22 25.687   26.063   24.750   25.625   25.312           25.2810          \n",
       "23 25.187   26.125   25.062   25.625   25.187           25.6875          \n",
       "24 25.187   26.125   25.062   25.625   25.187           25.6875          \n",
       "25 25.500   26.312   24.875   25.750   25.531           25.4060          \n",
       "26 25.438   27.687   25.312   27.687   24.844           27.3435          "
      ]
     },
     "metadata": {},
     "output_type": "display_data"
    },
    {
     "data": {
      "text/html": [
       "<table>\n",
       "<caption>A data.frame: 1 × 20</caption>\n",
       "<thead>\n",
       "\t<tr><th></th><th scope=col>Temp_1_1</th><th scope=col>Temp_1_2</th><th scope=col>Temp_1_3</th><th scope=col>Temp_1_4</th><th scope=col>Temp_2_1</th><th scope=col>Temp_2_2</th><th scope=col>Temp_2_3</th><th scope=col>Temp_2_4</th><th scope=col>Temp_12_avg_open</th><th scope=col>Temp_12_avg_close</th><th scope=col>Temp_3_1</th><th scope=col>Temp_3_2</th><th scope=col>Temp_3_3</th><th scope=col>Temp_3_4</th><th scope=col>Temp_4_1</th><th scope=col>Temp_4_2</th><th scope=col>Temp_4_3</th><th scope=col>Temp_4_4</th><th scope=col>Temp_34_avg_open</th><th scope=col>Temp_34_avg_close</th></tr>\n",
       "\t<tr><th></th><th scope=col>&lt;dbl&gt;</th><th scope=col>&lt;dbl&gt;</th><th scope=col>&lt;dbl&gt;</th><th scope=col>&lt;dbl&gt;</th><th scope=col>&lt;dbl&gt;</th><th scope=col>&lt;dbl&gt;</th><th scope=col>&lt;dbl&gt;</th><th scope=col>&lt;dbl&gt;</th><th scope=col>&lt;dbl&gt;</th><th scope=col>&lt;dbl&gt;</th><th scope=col>&lt;dbl&gt;</th><th scope=col>&lt;dbl&gt;</th><th scope=col>&lt;dbl&gt;</th><th scope=col>&lt;dbl&gt;</th><th scope=col>&lt;dbl&gt;</th><th scope=col>&lt;dbl&gt;</th><th scope=col>&lt;dbl&gt;</th><th scope=col>&lt;dbl&gt;</th><th scope=col>&lt;dbl&gt;</th><th scope=col>&lt;dbl&gt;</th></tr>\n",
       "</thead>\n",
       "<tbody>\n",
       "\t<tr><th scope=row>42</th><td>25.812</td><td>26.312</td><td>25.687</td><td>25.687</td><td>25.438</td><td>26.125</td><td>25.187</td><td>25.687</td><td>25.625</td><td>25.687</td><td>24.25</td><td>24.75</td><td>22.812</td><td>23.875</td><td>25.062</td><td>25.312</td><td>23.687</td><td>24</td><td>24.656</td><td>23.9375</td></tr>\n",
       "</tbody>\n",
       "</table>\n"
      ],
      "text/latex": [
       "A data.frame: 1 × 20\n",
       "\\begin{tabular}{r|llllllllllllllllllll}\n",
       "  & Temp\\_1\\_1 & Temp\\_1\\_2 & Temp\\_1\\_3 & Temp\\_1\\_4 & Temp\\_2\\_1 & Temp\\_2\\_2 & Temp\\_2\\_3 & Temp\\_2\\_4 & Temp\\_12\\_avg\\_open & Temp\\_12\\_avg\\_close & Temp\\_3\\_1 & Temp\\_3\\_2 & Temp\\_3\\_3 & Temp\\_3\\_4 & Temp\\_4\\_1 & Temp\\_4\\_2 & Temp\\_4\\_3 & Temp\\_4\\_4 & Temp\\_34\\_avg\\_open & Temp\\_34\\_avg\\_close\\\\\n",
       "  & <dbl> & <dbl> & <dbl> & <dbl> & <dbl> & <dbl> & <dbl> & <dbl> & <dbl> & <dbl> & <dbl> & <dbl> & <dbl> & <dbl> & <dbl> & <dbl> & <dbl> & <dbl> & <dbl> & <dbl>\\\\\n",
       "\\hline\n",
       "\t42 & 25.812 & 26.312 & 25.687 & 25.687 & 25.438 & 26.125 & 25.187 & 25.687 & 25.625 & 25.687 & 24.25 & 24.75 & 22.812 & 23.875 & 25.062 & 25.312 & 23.687 & 24 & 24.656 & 23.9375\\\\\n",
       "\\end{tabular}\n"
      ],
      "text/markdown": [
       "\n",
       "A data.frame: 1 × 20\n",
       "\n",
       "| <!--/--> | Temp_1_1 &lt;dbl&gt; | Temp_1_2 &lt;dbl&gt; | Temp_1_3 &lt;dbl&gt; | Temp_1_4 &lt;dbl&gt; | Temp_2_1 &lt;dbl&gt; | Temp_2_2 &lt;dbl&gt; | Temp_2_3 &lt;dbl&gt; | Temp_2_4 &lt;dbl&gt; | Temp_12_avg_open &lt;dbl&gt; | Temp_12_avg_close &lt;dbl&gt; | Temp_3_1 &lt;dbl&gt; | Temp_3_2 &lt;dbl&gt; | Temp_3_3 &lt;dbl&gt; | Temp_3_4 &lt;dbl&gt; | Temp_4_1 &lt;dbl&gt; | Temp_4_2 &lt;dbl&gt; | Temp_4_3 &lt;dbl&gt; | Temp_4_4 &lt;dbl&gt; | Temp_34_avg_open &lt;dbl&gt; | Temp_34_avg_close &lt;dbl&gt; |\n",
       "|---|---|---|---|---|---|---|---|---|---|---|---|---|---|---|---|---|---|---|---|---|\n",
       "| 42 | 25.812 | 26.312 | 25.687 | 25.687 | 25.438 | 26.125 | 25.187 | 25.687 | 25.625 | 25.687 | 24.25 | 24.75 | 22.812 | 23.875 | 25.062 | 25.312 | 23.687 | 24 | 24.656 | 23.9375 |\n",
       "\n"
      ],
      "text/plain": [
       "   Temp_1_1 Temp_1_2 Temp_1_3 Temp_1_4 Temp_2_1 Temp_2_2 Temp_2_3 Temp_2_4\n",
       "42 25.812   26.312   25.687   25.687   25.438   26.125   25.187   25.687  \n",
       "   Temp_12_avg_open Temp_12_avg_close Temp_3_1 Temp_3_2 Temp_3_3 Temp_3_4\n",
       "42 25.625           25.687            24.25    24.75    22.812   23.875  \n",
       "   Temp_4_1 Temp_4_2 Temp_4_3 Temp_4_4 Temp_34_avg_open Temp_34_avg_close\n",
       "42 25.062   25.312   23.687   24       24.656           23.9375          "
      ]
     },
     "metadata": {},
     "output_type": "display_data"
    }
   ],
   "source": [
    "head(data,5)\n",
    "tail(data,1)"
   ]
  },
  {
   "cell_type": "code",
   "execution_count": 68,
   "metadata": {},
   "outputs": [
    {
     "data": {
      "text/html": [
       "<table>\n",
       "<caption>A matrix: 6 × 20 of type dbl</caption>\n",
       "<thead>\n",
       "\t<tr><th></th><th scope=col>23</th><th scope=col>24</th><th scope=col>25</th><th scope=col>26</th><th scope=col>27</th><th scope=col>28</th><th scope=col>29</th><th scope=col>30</th><th scope=col>31</th><th scope=col>32</th><th scope=col>33</th><th scope=col>34</th><th scope=col>35</th><th scope=col>36</th><th scope=col>37</th><th scope=col>38</th><th scope=col>39</th><th scope=col>40</th><th scope=col>41</th><th scope=col>42</th></tr>\n",
       "</thead>\n",
       "<tbody>\n",
       "\t<tr><th scope=row>Temp_1_1</th><td>26.812</td><td>27.000</td><td>27.000</td><td>26.625</td><td>27.500</td><td>27.500</td><td>27.500</td><td>27.500</td><td>27.500</td><td>28.312</td><td>28.312</td><td>28.437</td><td>28.437</td><td>28.250</td><td>28.250</td><td>27.125</td><td>27.125</td><td>26.250</td><td>26.250</td><td>25.812</td></tr>\n",
       "\t<tr><th scope=row>Temp_1_2</th><td>27.062</td><td>27.062</td><td>27.062</td><td>27.437</td><td>27.938</td><td>28.312</td><td>28.312</td><td>28.312</td><td>28.312</td><td>28.563</td><td>28.563</td><td>28.437</td><td>28.437</td><td>28.375</td><td>28.375</td><td>27.125</td><td>27.125</td><td>26.500</td><td>26.500</td><td>26.312</td></tr>\n",
       "\t<tr><th scope=row>Temp_1_3</th><td>26.312</td><td>26.250</td><td>26.250</td><td>25.937</td><td>27.125</td><td>27.500</td><td>27.500</td><td>27.500</td><td>27.500</td><td>28.000</td><td>28.000</td><td>27.562</td><td>27.562</td><td>26.750</td><td>26.750</td><td>25.687</td><td>25.687</td><td>25.687</td><td>25.687</td><td>25.687</td></tr>\n",
       "\t<tr><th scope=row>Temp_1_4</th><td>26.375</td><td>26.812</td><td>26.812</td><td>26.875</td><td>27.938</td><td>28.312</td><td>28.312</td><td>28.312</td><td>28.312</td><td>28.437</td><td>28.437</td><td>28.125</td><td>28.125</td><td>27.062</td><td>27.062</td><td>26.250</td><td>26.250</td><td>25.937</td><td>25.937</td><td>25.687</td></tr>\n",
       "\t<tr><th scope=row>Temp_2_1</th><td>27.125</td><td>26.562</td><td>26.562</td><td>26.312</td><td>27.125</td><td>28.125</td><td>28.125</td><td>28.125</td><td>28.125</td><td>28.500</td><td>28.500</td><td>27.812</td><td>27.812</td><td>28.125</td><td>28.125</td><td>26.375</td><td>26.375</td><td>25.125</td><td>25.125</td><td>25.438</td></tr>\n",
       "\t<tr><th scope=row>Temp_2_2</th><td>27.187</td><td>27.187</td><td>27.187</td><td>27.625</td><td>28.187</td><td>28.437</td><td>28.437</td><td>28.437</td><td>28.437</td><td>28.687</td><td>28.687</td><td>28.500</td><td>28.500</td><td>28.437</td><td>28.437</td><td>26.375</td><td>26.375</td><td>26.688</td><td>26.688</td><td>26.125</td></tr>\n",
       "</tbody>\n",
       "</table>\n"
      ],
      "text/latex": [
       "A matrix: 6 × 20 of type dbl\n",
       "\\begin{tabular}{r|llllllllllllllllllll}\n",
       "  & 23 & 24 & 25 & 26 & 27 & 28 & 29 & 30 & 31 & 32 & 33 & 34 & 35 & 36 & 37 & 38 & 39 & 40 & 41 & 42\\\\\n",
       "\\hline\n",
       "\tTemp\\_1\\_1 & 26.812 & 27.000 & 27.000 & 26.625 & 27.500 & 27.500 & 27.500 & 27.500 & 27.500 & 28.312 & 28.312 & 28.437 & 28.437 & 28.250 & 28.250 & 27.125 & 27.125 & 26.250 & 26.250 & 25.812\\\\\n",
       "\tTemp\\_1\\_2 & 27.062 & 27.062 & 27.062 & 27.437 & 27.938 & 28.312 & 28.312 & 28.312 & 28.312 & 28.563 & 28.563 & 28.437 & 28.437 & 28.375 & 28.375 & 27.125 & 27.125 & 26.500 & 26.500 & 26.312\\\\\n",
       "\tTemp\\_1\\_3 & 26.312 & 26.250 & 26.250 & 25.937 & 27.125 & 27.500 & 27.500 & 27.500 & 27.500 & 28.000 & 28.000 & 27.562 & 27.562 & 26.750 & 26.750 & 25.687 & 25.687 & 25.687 & 25.687 & 25.687\\\\\n",
       "\tTemp\\_1\\_4 & 26.375 & 26.812 & 26.812 & 26.875 & 27.938 & 28.312 & 28.312 & 28.312 & 28.312 & 28.437 & 28.437 & 28.125 & 28.125 & 27.062 & 27.062 & 26.250 & 26.250 & 25.937 & 25.937 & 25.687\\\\\n",
       "\tTemp\\_2\\_1 & 27.125 & 26.562 & 26.562 & 26.312 & 27.125 & 28.125 & 28.125 & 28.125 & 28.125 & 28.500 & 28.500 & 27.812 & 27.812 & 28.125 & 28.125 & 26.375 & 26.375 & 25.125 & 25.125 & 25.438\\\\\n",
       "\tTemp\\_2\\_2 & 27.187 & 27.187 & 27.187 & 27.625 & 28.187 & 28.437 & 28.437 & 28.437 & 28.437 & 28.687 & 28.687 & 28.500 & 28.500 & 28.437 & 28.437 & 26.375 & 26.375 & 26.688 & 26.688 & 26.125\\\\\n",
       "\\end{tabular}\n"
      ],
      "text/markdown": [
       "\n",
       "A matrix: 6 × 20 of type dbl\n",
       "\n",
       "| <!--/--> | 23 | 24 | 25 | 26 | 27 | 28 | 29 | 30 | 31 | 32 | 33 | 34 | 35 | 36 | 37 | 38 | 39 | 40 | 41 | 42 |\n",
       "|---|---|---|---|---|---|---|---|---|---|---|---|---|---|---|---|---|---|---|---|---|\n",
       "| Temp_1_1 | 26.812 | 27.000 | 27.000 | 26.625 | 27.500 | 27.500 | 27.500 | 27.500 | 27.500 | 28.312 | 28.312 | 28.437 | 28.437 | 28.250 | 28.250 | 27.125 | 27.125 | 26.250 | 26.250 | 25.812 |\n",
       "| Temp_1_2 | 27.062 | 27.062 | 27.062 | 27.437 | 27.938 | 28.312 | 28.312 | 28.312 | 28.312 | 28.563 | 28.563 | 28.437 | 28.437 | 28.375 | 28.375 | 27.125 | 27.125 | 26.500 | 26.500 | 26.312 |\n",
       "| Temp_1_3 | 26.312 | 26.250 | 26.250 | 25.937 | 27.125 | 27.500 | 27.500 | 27.500 | 27.500 | 28.000 | 28.000 | 27.562 | 27.562 | 26.750 | 26.750 | 25.687 | 25.687 | 25.687 | 25.687 | 25.687 |\n",
       "| Temp_1_4 | 26.375 | 26.812 | 26.812 | 26.875 | 27.938 | 28.312 | 28.312 | 28.312 | 28.312 | 28.437 | 28.437 | 28.125 | 28.125 | 27.062 | 27.062 | 26.250 | 26.250 | 25.937 | 25.937 | 25.687 |\n",
       "| Temp_2_1 | 27.125 | 26.562 | 26.562 | 26.312 | 27.125 | 28.125 | 28.125 | 28.125 | 28.125 | 28.500 | 28.500 | 27.812 | 27.812 | 28.125 | 28.125 | 26.375 | 26.375 | 25.125 | 25.125 | 25.438 |\n",
       "| Temp_2_2 | 27.187 | 27.187 | 27.187 | 27.625 | 28.187 | 28.437 | 28.437 | 28.437 | 28.437 | 28.687 | 28.687 | 28.500 | 28.500 | 28.437 | 28.437 | 26.375 | 26.375 | 26.688 | 26.688 | 26.125 |\n",
       "\n"
      ],
      "text/plain": [
       "         23     24     25     26     27     28     29     30     31     32    \n",
       "Temp_1_1 26.812 27.000 27.000 26.625 27.500 27.500 27.500 27.500 27.500 28.312\n",
       "Temp_1_2 27.062 27.062 27.062 27.437 27.938 28.312 28.312 28.312 28.312 28.563\n",
       "Temp_1_3 26.312 26.250 26.250 25.937 27.125 27.500 27.500 27.500 27.500 28.000\n",
       "Temp_1_4 26.375 26.812 26.812 26.875 27.938 28.312 28.312 28.312 28.312 28.437\n",
       "Temp_2_1 27.125 26.562 26.562 26.312 27.125 28.125 28.125 28.125 28.125 28.500\n",
       "Temp_2_2 27.187 27.187 27.187 27.625 28.187 28.437 28.437 28.437 28.437 28.687\n",
       "         33     34     35     36     37     38     39     40     41     42    \n",
       "Temp_1_1 28.312 28.437 28.437 28.250 28.250 27.125 27.125 26.250 26.250 25.812\n",
       "Temp_1_2 28.563 28.437 28.437 28.375 28.375 27.125 27.125 26.500 26.500 26.312\n",
       "Temp_1_3 28.000 27.562 27.562 26.750 26.750 25.687 25.687 25.687 25.687 25.687\n",
       "Temp_1_4 28.437 28.125 28.125 27.062 27.062 26.250 26.250 25.937 25.937 25.687\n",
       "Temp_2_1 28.500 27.812 27.812 28.125 28.125 26.375 26.375 25.125 25.125 25.438\n",
       "Temp_2_2 28.687 28.500 28.500 28.437 28.437 26.375 26.375 26.688 26.688 26.125"
      ]
     },
     "metadata": {},
     "output_type": "display_data"
    }
   ],
   "source": [
    "head(data_t)"
   ]
  },
  {
   "cell_type": "code",
   "execution_count": 38,
   "metadata": {},
   "outputs": [],
   "source": [
    "data=data[12:nrow(data),]"
   ]
  },
  {
   "cell_type": "code",
   "execution_count": 4,
   "metadata": {},
   "outputs": [],
   "source": [
    "# data=data[,2:5]"
   ]
  },
  {
   "cell_type": "code",
   "execution_count": 44,
   "metadata": {},
   "outputs": [],
   "source": [
    "data=data[,2:21]\n",
    "data=data[11:nrow(data),]\n",
    "data=data[11:nrow(data),]\n",
    "data_t=t(data)"
   ]
  },
  {
   "cell_type": "code",
   "execution_count": 48,
   "metadata": {},
   "outputs": [],
   "source": [
    "data_t=data_t[,3:ncol(data_t)]"
   ]
  },
  {
   "cell_type": "code",
   "execution_count": 49,
   "metadata": {},
   "outputs": [
    {
     "data": {
      "text/html": [
       "<ol class=list-inline>\n",
       "\t<li>20</li>\n",
       "\t<li>20</li>\n",
       "</ol>\n"
      ],
      "text/latex": [
       "\\begin{enumerate*}\n",
       "\\item 20\n",
       "\\item 20\n",
       "\\end{enumerate*}\n"
      ],
      "text/markdown": [
       "1. 20\n",
       "2. 20\n",
       "\n",
       "\n"
      ],
      "text/plain": [
       "[1] 20 20"
      ]
     },
     "metadata": {},
     "output_type": "display_data"
    }
   ],
   "source": [
    "dim(data_t)"
   ]
  },
  {
   "cell_type": "code",
   "execution_count": 22,
   "metadata": {},
   "outputs": [
    {
     "data": {
      "text/html": [
       "<table>\n",
       "<caption>A matrix: 6 × 42 of type dbl</caption>\n",
       "<tbody>\n",
       "\t<tr><th scope=row>Temp_1_1</th><td>26.063</td><td>26.812</td><td>26.937</td><td>27.313</td><td>26.750</td><td>26.500</td><td>26.500</td><td>26.250</td><td>26.312</td><td>26.375</td><td>...</td><td>28.312</td><td>28.437</td><td>28.437</td><td>28.250</td><td>28.250</td><td>27.125</td><td>27.125</td><td>26.250</td><td>26.250</td><td>25.812</td></tr>\n",
       "\t<tr><th scope=row>Temp_1_2</th><td>27.125</td><td>26.937</td><td>27.187</td><td>27.500</td><td>26.812</td><td>26.750</td><td>26.750</td><td>26.562</td><td>26.562</td><td>26.688</td><td>...</td><td>28.563</td><td>28.437</td><td>28.437</td><td>28.375</td><td>28.375</td><td>27.125</td><td>27.125</td><td>26.500</td><td>26.500</td><td>26.312</td></tr>\n",
       "\t<tr><th scope=row>Temp_1_3</th><td>26.063</td><td>26.063</td><td>25.937</td><td>26.125</td><td>25.937</td><td>26.187</td><td>26.187</td><td>25.687</td><td>25.500</td><td>25.687</td><td>...</td><td>28.000</td><td>27.562</td><td>27.562</td><td>26.750</td><td>26.750</td><td>25.687</td><td>25.687</td><td>25.687</td><td>25.687</td><td>25.687</td></tr>\n",
       "\t<tr><th scope=row>Temp_1_4</th><td>27.000</td><td>26.688</td><td>27.187</td><td>26.562</td><td>25.937</td><td>26.250</td><td>26.250</td><td>26.375</td><td>26.500</td><td>25.750</td><td>...</td><td>28.437</td><td>28.125</td><td>28.125</td><td>27.062</td><td>27.062</td><td>26.250</td><td>26.250</td><td>25.937</td><td>25.937</td><td>25.687</td></tr>\n",
       "\t<tr><th scope=row>Temp_2_1</th><td>26.937</td><td>27.062</td><td>27.250</td><td>27.062</td><td>27.062</td><td>26.312</td><td>26.312</td><td>26.562</td><td>26.063</td><td>26.750</td><td>...</td><td>28.500</td><td>27.812</td><td>27.812</td><td>28.125</td><td>28.125</td><td>26.375</td><td>26.375</td><td>25.125</td><td>25.125</td><td>25.438</td></tr>\n",
       "\t<tr><th scope=row>Temp_2_2</th><td>27.313</td><td>27.375</td><td>27.562</td><td>27.875</td><td>27.187</td><td>27.000</td><td>27.000</td><td>26.937</td><td>26.937</td><td>26.875</td><td>...</td><td>28.687</td><td>28.500</td><td>28.500</td><td>28.437</td><td>28.437</td><td>26.375</td><td>26.375</td><td>26.688</td><td>26.688</td><td>26.125</td></tr>\n",
       "</tbody>\n",
       "</table>\n"
      ],
      "text/latex": [
       "A matrix: 6 × 42 of type dbl\n",
       "\\begin{tabular}{r|llllllllllllllllllllllllllllllllllllllllll}\n",
       "\tTemp\\_1\\_1 & 26.063 & 26.812 & 26.937 & 27.313 & 26.750 & 26.500 & 26.500 & 26.250 & 26.312 & 26.375 & 26.250 & 26.250 & 26.500 & 26.500 & 27.250 & 27.125 & 27.812 & 27.062 & 27.062 & 27.000 & 26.937 & 26.812 & 26.812 & 27.000 & 27.000 & 26.625 & 27.500 & 27.500 & 27.500 & 27.500 & 27.500 & 28.312 & 28.312 & 28.437 & 28.437 & 28.250 & 28.250 & 27.125 & 27.125 & 26.250 & 26.250 & 25.812\\\\\n",
       "\tTemp\\_1\\_2 & 27.125 & 26.937 & 27.187 & 27.500 & 26.812 & 26.750 & 26.750 & 26.562 & 26.562 & 26.688 & 26.625 & 26.625 & 27.313 & 27.313 & 27.750 & 27.938 & 27.812 & 27.062 & 27.062 & 27.187 & 27.125 & 27.000 & 27.062 & 27.062 & 27.062 & 27.437 & 27.938 & 28.312 & 28.312 & 28.312 & 28.312 & 28.563 & 28.563 & 28.437 & 28.437 & 28.375 & 28.375 & 27.125 & 27.125 & 26.500 & 26.500 & 26.312\\\\\n",
       "\tTemp\\_1\\_3 & 26.063 & 26.063 & 25.937 & 26.125 & 25.937 & 26.187 & 26.187 & 25.687 & 25.500 & 25.687 & 25.687 & 25.687 & 26.000 & 26.000 & 26.750 & 27.062 & 26.937 & 26.375 & 26.375 & 26.250 & 26.187 & 26.250 & 26.312 & 26.250 & 26.250 & 25.937 & 27.125 & 27.500 & 27.500 & 27.500 & 27.500 & 28.000 & 28.000 & 27.562 & 27.562 & 26.750 & 26.750 & 25.687 & 25.687 & 25.687 & 25.687 & 25.687\\\\\n",
       "\tTemp\\_1\\_4 & 27.000 & 26.688 & 27.187 & 26.562 & 25.937 & 26.250 & 26.250 & 26.375 & 26.500 & 25.750 & 26.250 & 26.250 & 27.313 & 27.313 & 27.562 & 27.187 & 27.125 & 27.000 & 27.000 & 26.625 & 26.937 & 26.750 & 26.375 & 26.812 & 26.812 & 26.875 & 27.938 & 28.312 & 28.312 & 28.312 & 28.312 & 28.437 & 28.437 & 28.125 & 28.125 & 27.062 & 27.062 & 26.250 & 26.250 & 25.937 & 25.937 & 25.687\\\\\n",
       "\tTemp\\_2\\_1 & 26.937 & 27.062 & 27.250 & 27.062 & 27.062 & 26.312 & 26.312 & 26.562 & 26.063 & 26.750 & 26.562 & 26.562 & 26.812 & 26.812 & 27.500 & 27.875 & 28.062 & 27.500 & 27.500 & 26.750 & 26.750 & 27.125 & 27.125 & 26.562 & 26.562 & 26.312 & 27.125 & 28.125 & 28.125 & 28.125 & 28.125 & 28.500 & 28.500 & 27.812 & 27.812 & 28.125 & 28.125 & 26.375 & 26.375 & 25.125 & 25.125 & 25.438\\\\\n",
       "\tTemp\\_2\\_2 & 27.313 & 27.375 & 27.562 & 27.875 & 27.187 & 27.000 & 27.000 & 26.937 & 26.937 & 26.875 & 26.937 & 26.937 & 27.500 & 27.500 & 28.000 & 28.250 & 28.250 & 27.500 & 27.500 & 27.562 & 27.375 & 27.187 & 27.187 & 27.187 & 27.187 & 27.625 & 28.187 & 28.437 & 28.437 & 28.437 & 28.437 & 28.687 & 28.687 & 28.500 & 28.500 & 28.437 & 28.437 & 26.375 & 26.375 & 26.688 & 26.688 & 26.125\\\\\n",
       "\\end{tabular}\n"
      ],
      "text/markdown": [
       "\n",
       "A matrix: 6 × 42 of type dbl\n",
       "\n",
       "| Temp_1_1 | 26.063 | 26.812 | 26.937 | 27.313 | 26.750 | 26.500 | 26.500 | 26.250 | 26.312 | 26.375 | ... | 28.312 | 28.437 | 28.437 | 28.250 | 28.250 | 27.125 | 27.125 | 26.250 | 26.250 | 25.812 |\n",
       "| Temp_1_2 | 27.125 | 26.937 | 27.187 | 27.500 | 26.812 | 26.750 | 26.750 | 26.562 | 26.562 | 26.688 | ... | 28.563 | 28.437 | 28.437 | 28.375 | 28.375 | 27.125 | 27.125 | 26.500 | 26.500 | 26.312 |\n",
       "| Temp_1_3 | 26.063 | 26.063 | 25.937 | 26.125 | 25.937 | 26.187 | 26.187 | 25.687 | 25.500 | 25.687 | ... | 28.000 | 27.562 | 27.562 | 26.750 | 26.750 | 25.687 | 25.687 | 25.687 | 25.687 | 25.687 |\n",
       "| Temp_1_4 | 27.000 | 26.688 | 27.187 | 26.562 | 25.937 | 26.250 | 26.250 | 26.375 | 26.500 | 25.750 | ... | 28.437 | 28.125 | 28.125 | 27.062 | 27.062 | 26.250 | 26.250 | 25.937 | 25.937 | 25.687 |\n",
       "| Temp_2_1 | 26.937 | 27.062 | 27.250 | 27.062 | 27.062 | 26.312 | 26.312 | 26.562 | 26.063 | 26.750 | ... | 28.500 | 27.812 | 27.812 | 28.125 | 28.125 | 26.375 | 26.375 | 25.125 | 25.125 | 25.438 |\n",
       "| Temp_2_2 | 27.313 | 27.375 | 27.562 | 27.875 | 27.187 | 27.000 | 27.000 | 26.937 | 26.937 | 26.875 | ... | 28.687 | 28.500 | 28.500 | 28.437 | 28.437 | 26.375 | 26.375 | 26.688 | 26.688 | 26.125 |\n",
       "\n"
      ],
      "text/plain": [
       "         [,1]   [,2]   [,3]   [,4]   [,5]   [,6]   [,7]   [,8]   [,9]   [,10] \n",
       "Temp_1_1 26.063 26.812 26.937 27.313 26.750 26.500 26.500 26.250 26.312 26.375\n",
       "Temp_1_2 27.125 26.937 27.187 27.500 26.812 26.750 26.750 26.562 26.562 26.688\n",
       "Temp_1_3 26.063 26.063 25.937 26.125 25.937 26.187 26.187 25.687 25.500 25.687\n",
       "Temp_1_4 27.000 26.688 27.187 26.562 25.937 26.250 26.250 26.375 26.500 25.750\n",
       "Temp_2_1 26.937 27.062 27.250 27.062 27.062 26.312 26.312 26.562 26.063 26.750\n",
       "Temp_2_2 27.313 27.375 27.562 27.875 27.187 27.000 27.000 26.937 26.937 26.875\n",
       "         [,11] [,12]  [,13]  [,14]  [,15]  [,16]  [,17]  [,18]  [,19]  [,20] \n",
       "Temp_1_1 ...   28.312 28.437 28.437 28.250 28.250 27.125 27.125 26.250 26.250\n",
       "Temp_1_2 ...   28.563 28.437 28.437 28.375 28.375 27.125 27.125 26.500 26.500\n",
       "Temp_1_3 ...   28.000 27.562 27.562 26.750 26.750 25.687 25.687 25.687 25.687\n",
       "Temp_1_4 ...   28.437 28.125 28.125 27.062 27.062 26.250 26.250 25.937 25.937\n",
       "Temp_2_1 ...   28.500 27.812 27.812 28.125 28.125 26.375 26.375 25.125 25.125\n",
       "Temp_2_2 ...   28.687 28.500 28.500 28.437 28.437 26.375 26.375 26.688 26.688\n",
       "         [,21] \n",
       "Temp_1_1 25.812\n",
       "Temp_1_2 26.312\n",
       "Temp_1_3 25.687\n",
       "Temp_1_4 25.687\n",
       "Temp_2_1 25.438\n",
       "Temp_2_2 26.125"
      ]
     },
     "metadata": {},
     "output_type": "display_data"
    }
   ],
   "source": [
    "head(data_t)"
   ]
  },
  {
   "cell_type": "code",
   "execution_count": 50,
   "metadata": {},
   "outputs": [],
   "source": [
    "pca=princomp(data_t)"
   ]
  },
  {
   "cell_type": "code",
   "execution_count": 51,
   "metadata": {},
   "outputs": [],
   "source": [
    "l=pca$loadings"
   ]
  },
  {
   "cell_type": "code",
   "execution_count": 52,
   "metadata": {},
   "outputs": [
    {
     "data": {
      "text/plain": [
       "\n",
       "Loadings:\n",
       "   Comp.1 Comp.2 Comp.3 Comp.4 Comp.5 Comp.6 Comp.7 Comp.8 Comp.9 Comp.10\n",
       "23  0.244  0.135  0.154  0.261  0.389         0.219         0.160  0.234 \n",
       "24  0.250  0.212  0.198         0.181         0.218 -0.185 -0.305  0.310 \n",
       "25  0.249         0.184 -0.154  0.193 -0.256               -0.385 -0.266 \n",
       "26  0.217  0.671 -0.351  0.173        -0.212  0.146 -0.212  0.238 -0.186 \n",
       "27         0.128 -0.196 -0.267 -0.227         0.184  0.107 -0.337  0.413 \n",
       "28               -0.254         0.194  0.338 -0.275                      \n",
       "29               -0.376         0.188  0.194 -0.183               -0.110 \n",
       "30               -0.340         0.226  0.119               -0.247        \n",
       "31               -0.233 -0.305  0.206  0.133 -0.242  0.153               \n",
       "32  0.144               -0.239  0.151        -0.150                      \n",
       "33  0.202               -0.128        -0.441 -0.265  0.375  0.268        \n",
       "34  0.175        -0.148        -0.275 -0.417         0.180 -0.134        \n",
       "35  0.188 -0.121 -0.145 -0.190 -0.247 -0.178  0.134                0.395 \n",
       "36  0.150 -0.315 -0.412  0.390                0.388  0.358  0.124        \n",
       "37  0.412 -0.356  0.108         0.351         0.126  0.133 -0.147 -0.221 \n",
       "38  0.232 -0.408 -0.279               -0.147        -0.720               \n",
       "39  0.322         0.118  0.513 -0.231  0.154 -0.591        -0.119  0.305 \n",
       "40  0.260  0.152               -0.394  0.298         0.157 -0.122 -0.423 \n",
       "41  0.335         0.144 -0.277 -0.234  0.340  0.191               -0.181 \n",
       "42  0.305         0.149 -0.299         0.192                0.572  0.163 \n",
       "   Comp.11 Comp.12 Comp.13 Comp.14 Comp.15 Comp.16 Comp.17 Comp.18 Comp.19\n",
       "23  0.204           0.217   0.202   0.158                   0.265         \n",
       "24  0.129          -0.390   0.211  -0.167  -0.256           0.166         \n",
       "25 -0.137  -0.567          -0.205   0.266   0.224                         \n",
       "26 -0.235                  -0.106  -0.114                  -0.208         \n",
       "27 -0.233   0.283          -0.347   0.147   0.173           0.195  -0.299 \n",
       "28 -0.194                   0.164  -0.335   0.421  -0.497   0.176   0.208 \n",
       "29  0.128           0.109   0.265   0.298   0.216   0.551   0.251  -0.128 \n",
       "30  0.542           0.303  -0.250          -0.126  -0.293  -0.411  -0.145 \n",
       "31                 -0.340  -0.149          -0.523   0.245           0.368 \n",
       "32 -0.473           0.262   0.342          -0.391  -0.174  -0.122  -0.477 \n",
       "33  0.334          -0.386                   0.252          -0.117  -0.321 \n",
       "34  0.164           0.435          -0.247  -0.205           0.519   0.162 \n",
       "35                  0.113   0.417   0.162   0.168          -0.389   0.473 \n",
       "36         -0.411  -0.200                                                 \n",
       "37 -0.214   0.507   0.106  -0.140           0.106   0.142  -0.150   0.111 \n",
       "38  0.103          -0.187                          -0.105   0.141  -0.128 \n",
       "39                         -0.157                   0.129  -0.156         \n",
       "40  0.115   0.238  -0.168   0.239   0.427  -0.154  -0.282                 \n",
       "41  0.136  -0.202   0.122          -0.536           0.289  -0.121  -0.211 \n",
       "42                  0.129  -0.382   0.252          -0.116   0.157   0.116 \n",
       "   Comp.20\n",
       "23  0.558 \n",
       "24 -0.449 \n",
       "25  0.159 \n",
       "26        \n",
       "27  0.189 \n",
       "28        \n",
       "29 -0.312 \n",
       "30        \n",
       "31  0.294 \n",
       "32        \n",
       "33        \n",
       "34        \n",
       "35        \n",
       "36        \n",
       "37 -0.222 \n",
       "38  0.191 \n",
       "39        \n",
       "40        \n",
       "41  0.175 \n",
       "42 -0.327 \n",
       "\n",
       "               Comp.1 Comp.2 Comp.3 Comp.4 Comp.5 Comp.6 Comp.7 Comp.8 Comp.9\n",
       "SS loadings      1.00   1.00   1.00   1.00   1.00   1.00   1.00   1.00   1.00\n",
       "Proportion Var   0.05   0.05   0.05   0.05   0.05   0.05   0.05   0.05   0.05\n",
       "Cumulative Var   0.05   0.10   0.15   0.20   0.25   0.30   0.35   0.40   0.45\n",
       "               Comp.10 Comp.11 Comp.12 Comp.13 Comp.14 Comp.15 Comp.16 Comp.17\n",
       "SS loadings       1.00    1.00    1.00    1.00    1.00    1.00    1.00    1.00\n",
       "Proportion Var    0.05    0.05    0.05    0.05    0.05    0.05    0.05    0.05\n",
       "Cumulative Var    0.50    0.55    0.60    0.65    0.70    0.75    0.80    0.85\n",
       "               Comp.18 Comp.19 Comp.20\n",
       "SS loadings       1.00    1.00    1.00\n",
       "Proportion Var    0.05    0.05    0.05\n",
       "Cumulative Var    0.90    0.95    1.00"
      ]
     },
     "metadata": {},
     "output_type": "display_data"
    }
   ],
   "source": [
    "l"
   ]
  },
  {
   "cell_type": "code",
   "execution_count": 56,
   "metadata": {},
   "outputs": [
    {
     "data": {
      "image/png": "[encoded data removed]",
      "text/plain": [
       "Plot with title \"pca\""
      ]
     },
     "metadata": {},
     "output_type": "display_data"
    }
   ],
   "source": [
    "plot(pca)"
   ]
  },
  {
   "cell_type": "code",
   "execution_count": 59,
   "metadata": {},
   "outputs": [],
   "source": [
    "Labels<-c('Temp_1_1', 'Temp_1_2', 'Temp_1_3', 'Temp_1_4' ,'Temp_2_1', 'Temp_2_2', 'Temp_2_3', 'Temp_2_4', 'Temp_12_avg_open' ,'Temp_12_avg_close' ,'Temp_3_1' ,'Temp_3_2' ,'Temp_3_3', 'Temp_3_4', 'Temp_4_1' ,'Temp_4_2', 'Temp_4_3' ,'Temp_4_4' ,'Temp_34_avg_open' ,'Temp_34_avg_close')"
   ]
  },
  {
   "cell_type": "code",
   "execution_count": 58,
   "metadata": {},
   "outputs": [
    {
     "data": {
      "text/html": [
       "<ol class=list-inline>\n",
       "\t<li>'Temp_1_1'</li>\n",
       "\t<li>'Temp_1_2'</li>\n",
       "\t<li>'Temp_1_3'</li>\n",
       "\t<li>'Temp_1_4'</li>\n",
       "\t<li>'Temp_2_1'</li>\n",
       "\t<li>'Temp_2_2'</li>\n",
       "\t<li>'Temp_2_3'</li>\n",
       "\t<li>'Temp_2_4'</li>\n",
       "\t<li>'Temp_12_avg_open'</li>\n",
       "\t<li>'Temp_12_avg_close'</li>\n",
       "\t<li>'Temp_3_1'</li>\n",
       "\t<li>'Temp_3_2'</li>\n",
       "\t<li>'Temp_3_3'</li>\n",
       "\t<li>'Temp_3_4'</li>\n",
       "\t<li>'Temp_4_1'</li>\n",
       "\t<li>'Temp_4_2'</li>\n",
       "\t<li>'Temp_4_3'</li>\n",
       "\t<li>'Temp_4_4'</li>\n",
       "\t<li>'Temp_34_avg_open'</li>\n",
       "\t<li>'Temp_34_avg_close'</li>\n",
       "</ol>\n"
      ],
      "text/latex": [
       "\\begin{enumerate*}\n",
       "\\item 'Temp\\_1\\_1'\n",
       "\\item 'Temp\\_1\\_2'\n",
       "\\item 'Temp\\_1\\_3'\n",
       "\\item 'Temp\\_1\\_4'\n",
       "\\item 'Temp\\_2\\_1'\n",
       "\\item 'Temp\\_2\\_2'\n",
       "\\item 'Temp\\_2\\_3'\n",
       "\\item 'Temp\\_2\\_4'\n",
       "\\item 'Temp\\_12\\_avg\\_open'\n",
       "\\item 'Temp\\_12\\_avg\\_close'\n",
       "\\item 'Temp\\_3\\_1'\n",
       "\\item 'Temp\\_3\\_2'\n",
       "\\item 'Temp\\_3\\_3'\n",
       "\\item 'Temp\\_3\\_4'\n",
       "\\item 'Temp\\_4\\_1'\n",
       "\\item 'Temp\\_4\\_2'\n",
       "\\item 'Temp\\_4\\_3'\n",
       "\\item 'Temp\\_4\\_4'\n",
       "\\item 'Temp\\_34\\_avg\\_open'\n",
       "\\item 'Temp\\_34\\_avg\\_close'\n",
       "\\end{enumerate*}\n"
      ],
      "text/markdown": [
       "1. 'Temp_1_1'\n",
       "2. 'Temp_1_2'\n",
       "3. 'Temp_1_3'\n",
       "4. 'Temp_1_4'\n",
       "5. 'Temp_2_1'\n",
       "6. 'Temp_2_2'\n",
       "7. 'Temp_2_3'\n",
       "8. 'Temp_2_4'\n",
       "9. 'Temp_12_avg_open'\n",
       "10. 'Temp_12_avg_close'\n",
       "11. 'Temp_3_1'\n",
       "12. 'Temp_3_2'\n",
       "13. 'Temp_3_3'\n",
       "14. 'Temp_3_4'\n",
       "15. 'Temp_4_1'\n",
       "16. 'Temp_4_2'\n",
       "17. 'Temp_4_3'\n",
       "18. 'Temp_4_4'\n",
       "19. 'Temp_34_avg_open'\n",
       "20. 'Temp_34_avg_close'\n",
       "\n",
       "\n"
      ],
      "text/plain": [
       " [1] \"Temp_1_1\"          \"Temp_1_2\"          \"Temp_1_3\"         \n",
       " [4] \"Temp_1_4\"          \"Temp_2_1\"          \"Temp_2_2\"         \n",
       " [7] \"Temp_2_3\"          \"Temp_2_4\"          \"Temp_12_avg_open\" \n",
       "[10] \"Temp_12_avg_close\" \"Temp_3_1\"          \"Temp_3_2\"         \n",
       "[13] \"Temp_3_3\"          \"Temp_3_4\"          \"Temp_4_1\"         \n",
       "[16] \"Temp_4_2\"          \"Temp_4_3\"          \"Temp_4_4\"         \n",
       "[19] \"Temp_34_avg_open\"  \"Temp_34_avg_close\""
      ]
     },
     "metadata": {},
     "output_type": "display_data"
    }
   ],
   "source": [
    "rownames(data_t)"
   ]
  },
  {
   "cell_type": "code",
   "execution_count": 111,
   "metadata": {},
   "outputs": [
    {
     "data": {
      "text/html": [
       "<ol class=list-inline>\n",
       "\t<li>'Temp_1'</li>\n",
       "\t<li>'Temp_2'</li>\n",
       "\t<li>'Temp_3'</li>\n",
       "\t<li>'Temp_4'</li>\n",
       "</ol>\n"
      ],
      "text/latex": [
       "\\begin{enumerate*}\n",
       "\\item 'Temp\\_1'\n",
       "\\item 'Temp\\_2'\n",
       "\\item 'Temp\\_3'\n",
       "\\item 'Temp\\_4'\n",
       "\\end{enumerate*}\n"
      ],
      "text/markdown": [
       "1. 'Temp_1'\n",
       "2. 'Temp_2'\n",
       "3. 'Temp_3'\n",
       "4. 'Temp_4'\n",
       "\n",
       "\n"
      ],
      "text/plain": [
       "[1] \"Temp_1\" \"Temp_2\" \"Temp_3\" \"Temp_4\""
      ]
     },
     "metadata": {},
     "output_type": "display_data"
    }
   ],
   "source": [
    "unique(Labels)"
   ]
  },
  {
   "cell_type": "code",
   "execution_count": 60,
   "metadata": {},
   "outputs": [],
   "source": [
    "color <- rainbow(length(unique(Labels)))\n",
    "names(color) <- unique(Labels)"
   ]
  },
  {
   "cell_type": "code",
   "execution_count": 61,
   "metadata": {},
   "outputs": [],
   "source": [
    "t=Rtsne(data_t,dim=2,perplexity =4)"
   ]
  },
  {
   "cell_type": "code",
   "execution_count": 119,
   "metadata": {},
   "outputs": [
    {
     "data": {
      "text/html": [
       "<pre class=language-r><code>.Primitive(\"names\")</code></pre>"
      ],
      "text/latex": [
       "\\begin{minted}{r}\n",
       ".Primitive(\"names\")\n",
       "\\end{minted}"
      ],
      "text/markdown": [
       "```r\n",
       ".Primitive(\"names\")\n",
       "```"
      ],
      "text/plain": [
       "function (x)  .Primitive(\"names\")"
      ]
     },
     "metadata": {},
     "output_type": "display_data"
    }
   ],
   "source": [
    "names"
   ]
  },
  {
   "cell_type": "code",
   "execution_count": 65,
   "metadata": {},
   "outputs": [
    {
     "data": {
      "text/html": [
       "<dl class=dl-horizontal>\n",
       "\t<dt>Temp_1_1</dt>\n",
       "\t\t<dd>'#FF0000FF'</dd>\n",
       "\t<dt>Temp_1_2</dt>\n",
       "\t\t<dd>'#FF4D00FF'</dd>\n",
       "\t<dt>Temp_1_3</dt>\n",
       "\t\t<dd>'#FF9900FF'</dd>\n",
       "\t<dt>Temp_1_4</dt>\n",
       "\t\t<dd>'#FFE500FF'</dd>\n",
       "\t<dt>Temp_2_1</dt>\n",
       "\t\t<dd>'#CCFF00FF'</dd>\n",
       "\t<dt>Temp_2_2</dt>\n",
       "\t\t<dd>'#80FF00FF'</dd>\n",
       "\t<dt>Temp_2_3</dt>\n",
       "\t\t<dd>'#33FF00FF'</dd>\n",
       "\t<dt>Temp_2_4</dt>\n",
       "\t\t<dd>'#00FF19FF'</dd>\n",
       "\t<dt>Temp_12_avg_open</dt>\n",
       "\t\t<dd>'#00FF66FF'</dd>\n",
       "\t<dt>Temp_12_avg_close</dt>\n",
       "\t\t<dd>'#00FFB2FF'</dd>\n",
       "\t<dt>Temp_3_1</dt>\n",
       "\t\t<dd>'#00FFFFFF'</dd>\n",
       "\t<dt>Temp_3_2</dt>\n",
       "\t\t<dd>'#00B3FFFF'</dd>\n",
       "\t<dt>Temp_3_3</dt>\n",
       "\t\t<dd>'#0066FFFF'</dd>\n",
       "\t<dt>Temp_3_4</dt>\n",
       "\t\t<dd>'#001AFFFF'</dd>\n",
       "\t<dt>Temp_4_1</dt>\n",
       "\t\t<dd>'#3300FFFF'</dd>\n",
       "\t<dt>Temp_4_2</dt>\n",
       "\t\t<dd>'#7F00FFFF'</dd>\n",
       "\t<dt>Temp_4_3</dt>\n",
       "\t\t<dd>'#CC00FFFF'</dd>\n",
       "\t<dt>Temp_4_4</dt>\n",
       "\t\t<dd>'#FF00E6FF'</dd>\n",
       "\t<dt>Temp_34_avg_open</dt>\n",
       "\t\t<dd>'#FF0099FF'</dd>\n",
       "\t<dt>Temp_34_avg_close</dt>\n",
       "\t\t<dd>'#FF004DFF'</dd>\n",
       "</dl>\n"
      ],
      "text/latex": [
       "\\begin{description*}\n",
       "\\item[Temp\\textbackslash{}\\_1\\textbackslash{}\\_1] '\\#FF0000FF'\n",
       "\\item[Temp\\textbackslash{}\\_1\\textbackslash{}\\_2] '\\#FF4D00FF'\n",
       "\\item[Temp\\textbackslash{}\\_1\\textbackslash{}\\_3] '\\#FF9900FF'\n",
       "\\item[Temp\\textbackslash{}\\_1\\textbackslash{}\\_4] '\\#FFE500FF'\n",
       "\\item[Temp\\textbackslash{}\\_2\\textbackslash{}\\_1] '\\#CCFF00FF'\n",
       "\\item[Temp\\textbackslash{}\\_2\\textbackslash{}\\_2] '\\#80FF00FF'\n",
       "\\item[Temp\\textbackslash{}\\_2\\textbackslash{}\\_3] '\\#33FF00FF'\n",
       "\\item[Temp\\textbackslash{}\\_2\\textbackslash{}\\_4] '\\#00FF19FF'\n",
       "\\item[Temp\\textbackslash{}\\_12\\textbackslash{}\\_avg\\textbackslash{}\\_open] '\\#00FF66FF'\n",
       "\\item[Temp\\textbackslash{}\\_12\\textbackslash{}\\_avg\\textbackslash{}\\_close] '\\#00FFB2FF'\n",
       "\\item[Temp\\textbackslash{}\\_3\\textbackslash{}\\_1] '\\#00FFFFFF'\n",
       "\\item[Temp\\textbackslash{}\\_3\\textbackslash{}\\_2] '\\#00B3FFFF'\n",
       "\\item[Temp\\textbackslash{}\\_3\\textbackslash{}\\_3] '\\#0066FFFF'\n",
       "\\item[Temp\\textbackslash{}\\_3\\textbackslash{}\\_4] '\\#001AFFFF'\n",
       "\\item[Temp\\textbackslash{}\\_4\\textbackslash{}\\_1] '\\#3300FFFF'\n",
       "\\item[Temp\\textbackslash{}\\_4\\textbackslash{}\\_2] '\\#7F00FFFF'\n",
       "\\item[Temp\\textbackslash{}\\_4\\textbackslash{}\\_3] '\\#CC00FFFF'\n",
       "\\item[Temp\\textbackslash{}\\_4\\textbackslash{}\\_4] '\\#FF00E6FF'\n",
       "\\item[Temp\\textbackslash{}\\_34\\textbackslash{}\\_avg\\textbackslash{}\\_open] '\\#FF0099FF'\n",
       "\\item[Temp\\textbackslash{}\\_34\\textbackslash{}\\_avg\\textbackslash{}\\_close] '\\#FF004DFF'\n",
       "\\end{description*}\n"
      ],
      "text/markdown": [
       "Temp_1_1\n",
       ":   '#FF0000FF'Temp_1_2\n",
       ":   '#FF4D00FF'Temp_1_3\n",
       ":   '#FF9900FF'Temp_1_4\n",
       ":   '#FFE500FF'Temp_2_1\n",
       ":   '#CCFF00FF'Temp_2_2\n",
       ":   '#80FF00FF'Temp_2_3\n",
       ":   '#33FF00FF'Temp_2_4\n",
       ":   '#00FF19FF'Temp_12_avg_open\n",
       ":   '#00FF66FF'Temp_12_avg_close\n",
       ":   '#00FFB2FF'Temp_3_1\n",
       ":   '#00FFFFFF'Temp_3_2\n",
       ":   '#00B3FFFF'Temp_3_3\n",
       ":   '#0066FFFF'Temp_3_4\n",
       ":   '#001AFFFF'Temp_4_1\n",
       ":   '#3300FFFF'Temp_4_2\n",
       ":   '#7F00FFFF'Temp_4_3\n",
       ":   '#CC00FFFF'Temp_4_4\n",
       ":   '#FF00E6FF'Temp_34_avg_open\n",
       ":   '#FF0099FF'Temp_34_avg_close\n",
       ":   '#FF004DFF'\n",
       "\n"
      ],
      "text/plain": [
       "         Temp_1_1          Temp_1_2          Temp_1_3          Temp_1_4 \n",
       "      \"#FF0000FF\"       \"#FF4D00FF\"       \"#FF9900FF\"       \"#FFE500FF\" \n",
       "         Temp_2_1          Temp_2_2          Temp_2_3          Temp_2_4 \n",
       "      \"#CCFF00FF\"       \"#80FF00FF\"       \"#33FF00FF\"       \"#00FF19FF\" \n",
       " Temp_12_avg_open Temp_12_avg_close          Temp_3_1          Temp_3_2 \n",
       "      \"#00FF66FF\"       \"#00FFB2FF\"       \"#00FFFFFF\"       \"#00B3FFFF\" \n",
       "         Temp_3_3          Temp_3_4          Temp_4_1          Temp_4_2 \n",
       "      \"#0066FFFF\"       \"#001AFFFF\"       \"#3300FFFF\"       \"#7F00FFFF\" \n",
       "         Temp_4_3          Temp_4_4  Temp_34_avg_open Temp_34_avg_close \n",
       "      \"#CC00FFFF\"       \"#FF00E6FF\"       \"#FF0099FF\"       \"#FF004DFF\" "
      ]
     },
     "metadata": {},
     "output_type": "display_data"
    }
   ],
   "source": [
    "color[Labels]"
   ]
  },
  {
   "cell_type": "code",
   "execution_count": 63,
   "metadata": {},
   "outputs": [
    {
     "data": {
      "image/png": "[encoded data removed]",
      "text/plain": [
       "Plot with title \"tsne\""
      ]
     },
     "metadata": {},
     "output_type": "display_data"
    }
   ],
   "source": [
    "plot(t$Y,main=\"tsne\")\n",
    "text(t$Y, labels = Labels, col = color[Labels])\n",
    "text(t$Y, col = color[Labels])"
   ]
  },
  {
   "cell_type": "code",
   "execution_count": 19,
   "metadata": {},
   "outputs": [
    {
     "data": {
      "image/png": "[encoded data removed]",
      "text/plain": [
       "plot without title"
      ]
     },
     "metadata": {},
     "output_type": "display_data"
    }
   ],
   "source": [
    "\n",
    "wss <- (nrow(data)-1)*sum(apply(data,2,var))\n",
    "  for (i in 2:15) wss[i] <- sum(kmeans(data_t,\n",
    "                                       centers=i)$withinss)\n",
    "plot(1:15, wss, type=\"b\", xlab=\"Number of Clusters\",\n",
    "     ylab=\"Within groups sum of squares\")"
   ]
  },
  {
   "cell_type": "code",
   "execution_count": 142,
   "metadata": {},
   "outputs": [],
   "source": [
    "?apply"
   ]
  },
  {
   "cell_type": "code",
   "execution_count": 17,
   "metadata": {},
   "outputs": [],
   "source": [
    "k=kmeans(data_t, 2, iter.max = 10, nstart = 1,\n",
    " algorithm = c(\"Hartigan-Wong\", \"Lloyd\", \"Forgy\",\n",
    " \"MacQueen\"), trace=FALSE)"
   ]
  },
  {
   "cell_type": "code",
   "execution_count": 18,
   "metadata": {},
   "outputs": [
    {
     "data": {
      "text/plain": [
       "K-means clustering with 2 clusters of sizes 11, 9\n",
       "\n",
       "Cluster means:\n",
       "      [,1]     [,2]     [,3]     [,4]     [,5]     [,6]     [,7]     [,8]\n",
       "1 26.67045 26.97418 26.90318 26.84073 26.86355 26.61936 26.61936 26.81527\n",
       "2 25.52411 25.99972 25.66639 25.66639 25.64228 25.64228 25.81911 25.79161\n",
       "      [,9]    [,10]    [,11]    [,12]    [,13]    [,14]    [,15]    [,16]\n",
       "1 26.76686 26.86650 26.65336 26.93750 26.78977 27.45141 27.45705 26.74718\n",
       "2 25.73967 25.82283 25.99283 25.96511 26.62833 27.22194 26.59000 25.54150\n",
       "     [,17]    [,18]    [,19]    [,20]    [,21]    [,22]    [,23]    [,24]\n",
       "1 26.51405 26.83786 26.45727 26.43450 26.43450 26.68723 26.36050 26.46855\n",
       "2 25.18389 25.73922 24.99272 25.26728 25.37489 25.58000 24.92717 24.92717\n",
       "     [,25]    [,26]    [,27]    [,28]    [,29]    [,30]    [,31]    [,32]\n",
       "1 26.50827 26.41195 26.33241 26.49132 26.23005 26.51691 25.90886 26.27568\n",
       "2 25.32611 25.32611 24.90967 25.61111 24.96522 25.40589 24.90617 25.35050\n",
       "     [,33]    [,34]    [,35]    [,36]    [,37]    [,38]    [,39]    [,40]\n",
       "1 26.24391 26.34359 26.32682 26.28959 26.38336 26.38345 26.61345 26.24686\n",
       "2 25.19417 25.39567 25.13539 25.20472 25.09356 25.12811 25.35417 25.04133\n",
       "     [,41]    [,42]    [,43]    [,44]    [,45]    [,46]    [,47]    [,48]\n",
       "1 26.39755 26.27550 26.24132 26.48564 26.50836 26.74109 26.78655 26.86636\n",
       "2 25.03106 25.03106 25.02089 25.02089 25.40233 25.40233 25.82272 25.82272\n",
       "     [,49]    [,50]    [,51]    [,52]    [,53]    [,54]    [,55]    [,56]\n",
       "1 26.92891 27.30114 27.51118 27.60500 27.46286 27.76995 27.72150 28.03109\n",
       "2 26.32667 26.90944 27.44444 27.20828 27.15950 27.46511 27.21867 27.60078\n",
       "     [,57]    [,58]    [,59]    [,60]    [,61]    [,62]    [,63]    [,64]\n",
       "1 27.80368 27.85200 27.84655 27.58514 27.24705 26.83250 26.90605 26.83791\n",
       "2 27.35061 27.73233 27.14206 26.56928 25.72900 25.36444 25.53778 25.53778\n",
       "     [,65]    [,66]    [,67]    [,68]    [,69]    [,70]    [,71]    [,72]\n",
       "1 26.83227 26.86345 26.87482 27.07068 27.06495 27.00836 26.96291 27.05673\n",
       "2 25.55200 25.55200 25.37133 25.37133 25.53806 25.53806 25.44778 25.54500\n",
       "     [,73]    [,74]    [,75]    [,76]    [,77]    [,78]    [,79]    [,80]\n",
       "1 26.61909 26.92618 26.82927 26.92886 26.70136 26.70727 26.70732 26.79250\n",
       "2 25.13167 25.40272 24.77433 25.48589 24.94450 25.36106 25.31583 25.48939\n",
       "     [,81]    [,82]    [,83]    [,84]    [,85]    [,86]    [,87]    [,88]\n",
       "1 26.80655 26.95986 26.69291 26.46291 26.71850 26.79536 26.77836 26.81523\n",
       "2 25.41994 25.62489 25.39889 25.23250 25.55883 25.55883 25.59022 25.59022\n",
       "     [,89]    [,90]    [,91]    [,92]    [,93]    [,94]    [,95]    [,96]\n",
       "1 26.83786 26.45445 26.40900 26.87473 26.90882 27.09364 27.37500 27.64195\n",
       "2 25.59700 25.59700 25.10411 25.10411 25.77406 26.48250 27.29833 27.29867\n",
       "     [,97]    [,98]    [,99]   [,100]   [,101]   [,102]   [,103]   [,104]\n",
       "1 27.77541 27.94882 27.90036 27.89455 28.08777 28.26677 28.31818 28.27868\n",
       "2 27.45489 27.43367 27.54144 27.66972 27.65956 27.88544 27.93750 28.38194\n",
       "    [,105]   [,106]   [,107]   [,108]   [,109]   [,110]   [,111]   [,112]\n",
       "1 28.46864 28.48564 28.48000 28.48000 28.46300 28.45727 28.44018 28.42882\n",
       "2 28.19439 28.49978 28.29472 28.26722 27.98589 28.12817 27.58322 27.60750\n",
       "    [,113]   [,114]   [,115]   [,116]   [,117]   [,118]   [,119]   [,120]\n",
       "1 28.45155 28.43455 28.44018 28.46005 28.48286 27.81214 27.73250 27.94855\n",
       "2 27.89561 27.54139 27.47894 27.47894 27.85772 27.85772 27.15606 27.15606\n",
       "    [,121]   [,122]   [,123]   [,124]   [,125]   [,126]   [,127]   [,128]\n",
       "1 28.02245 28.18432 28.17859 27.85495 27.84359 28.07655 28.08227 27.69305\n",
       "2 27.59694 27.59694 27.66311 27.66311 27.58300 27.58300 27.35056 27.35056\n",
       "    [,129]   [,130]   [,131]   [,132]   [,133]   [,134]   [,135]   [,136]\n",
       "1 27.54532 26.99136 26.92891 26.64482 26.60500 26.01986 25.98577 25.94591\n",
       "2 26.21500 26.21500 25.58333 25.58333 24.99289 24.99289 24.54150 24.54150\n",
       "    [,137]   [,138]   [,139]   [,140]   [,141]   [,142]   [,143]   [,144]\n",
       "1 25.91745 25.63618 25.61918 25.67027 25.74409 26.32386 26.31259 26.03095\n",
       "2 24.41644 24.41644 24.18728 24.18728 24.72867 24.72867 24.60056 24.60056\n",
       "    [,145]   [,146]   [,147]   [,148]   [,149]   [,150]   [,151]   [,152]\n",
       "1 25.97414 25.74418 25.75545 25.76964 25.80373 25.78677 25.78677 25.82345\n",
       "2 23.89217 23.89217 24.07272 24.07272 24.62139 24.62139 24.28806 24.28806\n",
       "    [,153]   [,154]\n",
       "1 25.82345 25.85782\n",
       "2 24.30222 24.30222\n",
       "\n",
       "Clustering vector:\n",
       "         Temp_1_1          Temp_1_2          Temp_1_3          Temp_1_4 \n",
       "                1                 1                 1                 1 \n",
       "         Temp_2_1          Temp_2_2          Temp_2_3          Temp_2_4 \n",
       "                1                 1                 1                 1 \n",
       " Temp_12_avg_open Temp_12_avg_close          Temp_3_1          Temp_3_2 \n",
       "                1                 1                 2                 2 \n",
       "         Temp_3_3          Temp_3_4          Temp_4_1          Temp_4_2 \n",
       "                2                 2                 2                 1 \n",
       "         Temp_4_3          Temp_4_4  Temp_34_avg_open Temp_34_avg_close \n",
       "                2                 2                 2                 2 \n",
       "\n",
       "Within cluster sum of squares by cluster:\n",
       "[1] 199.9051 238.4092\n",
       " (between_SS / total_SS =  68.8 %)\n",
       "\n",
       "Available components:\n",
       "\n",
       "[1] \"cluster\"      \"centers\"      \"totss\"        \"withinss\"     \"tot.withinss\"\n",
       "[6] \"betweenss\"    \"size\"         \"iter\"         \"ifault\"      "
      ]
     },
     "metadata": {},
     "output_type": "display_data"
    }
   ],
   "source": [
    "k"
   ]
  },
  {
   "cell_type": "code",
   "execution_count": 66,
   "metadata": {},
   "outputs": [
    {
     "data": {
      "text/html": [
       "<table>\n",
       "<caption>A matrix: 2 × 154 of type dbl</caption>\n",
       "<tbody>\n",
       "\t<tr><td>26.67045</td><td>26.97418</td><td>26.90318</td><td>26.84073</td><td>26.86355</td><td>26.61936</td><td>26.61936</td><td>26.81527</td><td>26.76686</td><td>26.86650</td><td>...</td><td>25.97414</td><td>25.74418</td><td>25.75545</td><td>25.76964</td><td>25.80373</td><td>25.78677</td><td>25.78677</td><td>25.82345</td><td>25.82345</td><td>25.85782</td></tr>\n",
       "\t<tr><td>25.52411</td><td>25.99972</td><td>25.66639</td><td>25.66639</td><td>25.64228</td><td>25.64228</td><td>25.81911</td><td>25.79161</td><td>25.73967</td><td>25.82283</td><td>...</td><td>23.89217</td><td>23.89217</td><td>24.07272</td><td>24.07272</td><td>24.62139</td><td>24.62139</td><td>24.28806</td><td>24.28806</td><td>24.30222</td><td>24.30222</td></tr>\n",
       "</tbody>\n",
       "</table>\n"
      ],
      "text/latex": [
       "A matrix: 2 × 154 of type dbl\n",
       "\\begin{tabular}{r|llllllllllllllllllllllllllllllllllllllllllllllllllllllllllllllllllllllllllllllllllllllllllllllllllllllllllllllllllllllllllllllllllllllllllllllllllllllllll}\n",
       "\t 26.67045 & 26.97418 & 26.90318 & 26.84073 & 26.86355 & 26.61936 & 26.61936 & 26.81527 & 26.76686 & 26.86650 & 26.65336 & 26.93750 & 26.78977 & 27.45141 & 27.45705 & 26.74718 & 26.51405 & 26.83786 & 26.45727 & 26.43450 & 26.43450 & 26.68723 & 26.36050 & 26.46855 & 26.50827 & 26.41195 & 26.33241 & 26.49132 & 26.23005 & 26.51691 & 25.90886 & 26.27568 & 26.24391 & 26.34359 & 26.32682 & 26.28959 & 26.38336 & 26.38345 & 26.61345 & 26.24686 & 26.39755 & 26.27550 & 26.24132 & 26.48564 & 26.50836 & 26.74109 & 26.78655 & 26.86636 & 26.92891 & 27.30114 & 27.51118 & 27.60500 & 27.46286 & 27.76995 & 27.72150 & 28.03109 & 27.80368 & 27.85200 & 27.84655 & 27.58514 & 27.24705 & 26.83250 & 26.90605 & 26.83791 & 26.83227 & 26.86345 & 26.87482 & 27.07068 & 27.06495 & 27.00836 & 26.96291 & 27.05673 & 26.61909 & 26.92618 & 26.82927 & 26.92886 & 26.70136 & 26.70727 & 26.70732 & 26.79250 & 26.80655 & 26.95986 & 26.69291 & 26.46291 & 26.71850 & 26.79536 & 26.77836 & 26.81523 & 26.83786 & 26.45445 & 26.40900 & 26.87473 & 26.90882 & 27.09364 & 27.37500 & 27.64195 & 27.77541 & 27.94882 & 27.90036 & 27.89455 & 28.08777 & 28.26677 & 28.31818 & 28.27868 & 28.46864 & 28.48564 & 28.48000 & 28.48000 & 28.46300 & 28.45727 & 28.44018 & 28.42882 & 28.45155 & 28.43455 & 28.44018 & 28.46005 & 28.48286 & 27.81214 & 27.73250 & 27.94855 & 28.02245 & 28.18432 & 28.17859 & 27.85495 & 27.84359 & 28.07655 & 28.08227 & 27.69305 & 27.54532 & 26.99136 & 26.92891 & 26.64482 & 26.60500 & 26.01986 & 25.98577 & 25.94591 & 25.91745 & 25.63618 & 25.61918 & 25.67027 & 25.74409 & 26.32386 & 26.31259 & 26.03095 & 25.97414 & 25.74418 & 25.75545 & 25.76964 & 25.80373 & 25.78677 & 25.78677 & 25.82345 & 25.82345 & 25.85782\\\\\n",
       "\t 25.52411 & 25.99972 & 25.66639 & 25.66639 & 25.64228 & 25.64228 & 25.81911 & 25.79161 & 25.73967 & 25.82283 & 25.99283 & 25.96511 & 26.62833 & 27.22194 & 26.59000 & 25.54150 & 25.18389 & 25.73922 & 24.99272 & 25.26728 & 25.37489 & 25.58000 & 24.92717 & 24.92717 & 25.32611 & 25.32611 & 24.90967 & 25.61111 & 24.96522 & 25.40589 & 24.90617 & 25.35050 & 25.19417 & 25.39567 & 25.13539 & 25.20472 & 25.09356 & 25.12811 & 25.35417 & 25.04133 & 25.03106 & 25.03106 & 25.02089 & 25.02089 & 25.40233 & 25.40233 & 25.82272 & 25.82272 & 26.32667 & 26.90944 & 27.44444 & 27.20828 & 27.15950 & 27.46511 & 27.21867 & 27.60078 & 27.35061 & 27.73233 & 27.14206 & 26.56928 & 25.72900 & 25.36444 & 25.53778 & 25.53778 & 25.55200 & 25.55200 & 25.37133 & 25.37133 & 25.53806 & 25.53806 & 25.44778 & 25.54500 & 25.13167 & 25.40272 & 24.77433 & 25.48589 & 24.94450 & 25.36106 & 25.31583 & 25.48939 & 25.41994 & 25.62489 & 25.39889 & 25.23250 & 25.55883 & 25.55883 & 25.59022 & 25.59022 & 25.59700 & 25.59700 & 25.10411 & 25.10411 & 25.77406 & 26.48250 & 27.29833 & 27.29867 & 27.45489 & 27.43367 & 27.54144 & 27.66972 & 27.65956 & 27.88544 & 27.93750 & 28.38194 & 28.19439 & 28.49978 & 28.29472 & 28.26722 & 27.98589 & 28.12817 & 27.58322 & 27.60750 & 27.89561 & 27.54139 & 27.47894 & 27.47894 & 27.85772 & 27.85772 & 27.15606 & 27.15606 & 27.59694 & 27.59694 & 27.66311 & 27.66311 & 27.58300 & 27.58300 & 27.35056 & 27.35056 & 26.21500 & 26.21500 & 25.58333 & 25.58333 & 24.99289 & 24.99289 & 24.54150 & 24.54150 & 24.41644 & 24.41644 & 24.18728 & 24.18728 & 24.72867 & 24.72867 & 24.60056 & 24.60056 & 23.89217 & 23.89217 & 24.07272 & 24.07272 & 24.62139 & 24.62139 & 24.28806 & 24.28806 & 24.30222 & 24.30222\\\\\n",
       "\\end{tabular}\n"
      ],
      "text/markdown": [
       "\n",
       "A matrix: 2 × 154 of type dbl\n",
       "\n",
       "| 26.67045 | 26.97418 | 26.90318 | 26.84073 | 26.86355 | 26.61936 | 26.61936 | 26.81527 | 26.76686 | 26.86650 | ... | 25.97414 | 25.74418 | 25.75545 | 25.76964 | 25.80373 | 25.78677 | 25.78677 | 25.82345 | 25.82345 | 25.85782 |\n",
       "| 25.52411 | 25.99972 | 25.66639 | 25.66639 | 25.64228 | 25.64228 | 25.81911 | 25.79161 | 25.73967 | 25.82283 | ... | 23.89217 | 23.89217 | 24.07272 | 24.07272 | 24.62139 | 24.62139 | 24.28806 | 24.28806 | 24.30222 | 24.30222 |\n",
       "\n"
      ],
      "text/plain": [
       "  [,1]     [,2]     [,3]     [,4]     [,5]     [,6]     [,7]     [,8]    \n",
       "1 26.67045 26.97418 26.90318 26.84073 26.86355 26.61936 26.61936 26.81527\n",
       "2 25.52411 25.99972 25.66639 25.66639 25.64228 25.64228 25.81911 25.79161\n",
       "  [,9]     [,10]    [,11] [,12]    [,13]    [,14]    [,15]    [,16]    [,17]   \n",
       "1 26.76686 26.86650 ...   25.97414 25.74418 25.75545 25.76964 25.80373 25.78677\n",
       "2 25.73967 25.82283 ...   23.89217 23.89217 24.07272 24.07272 24.62139 24.62139\n",
       "  [,18]    [,19]    [,20]    [,21]   \n",
       "1 25.78677 25.82345 25.82345 25.85782\n",
       "2 24.28806 24.28806 24.30222 24.30222"
      ]
     },
     "metadata": {},
     "output_type": "display_data"
    },
    {
     "data": {
      "text/plain": [
       "\n",
       " 1  2 \n",
       "11  9 "
      ]
     },
     "metadata": {},
     "output_type": "display_data"
    }
   ],
   "source": [
    "k$centers #Display&nbsp;cluster centers\n",
    "table(k$cluster)"
   ]
  },
  {
   "cell_type": "code",
   "execution_count": 136,
   "metadata": {},
   "outputs": [
    {
     "data": {
      "text/plain": [
       "K-means clustering with 2 clusters of sizes 2, 2\n",
       "\n",
       "Cluster means:\n",
       "     [,1]    [,2]    [,3]    [,4]    [,5]    [,6]    [,7]   [,8]    [,9]  [,10]\n",
       "1 25.8435 26.5000 26.6870 26.7500 27.4065 27.5310 27.7185 27.250 27.5000 27.844\n",
       "2 24.8440 25.7495 25.7185 25.9065 26.6560 27.3435 27.5000 27.031 27.3125 27.000\n",
       "   [,11]   [,12]  [,13]   [,14]   [,15]  [,16]  [,17]   [,18]  [,19]   [,20]\n",
       "1 27.937 27.9685 27.906 27.7815 27.9995 27.500 27.094 27.2185 26.656 27.2185\n",
       "2 27.469 27.3750 27.656 27.3120 26.8435 26.156 25.375 25.4995 25.406 26.0310\n",
       "    [,21]   [,22]   [,23]   [,24]   [,25]   [,26]  [,27]   [,28]   [,29]  [,30]\n",
       "1 26.9995 27.3125 27.1875 26.8435 26.8125 27.0310 27.125 26.8745 26.6875 26.906\n",
       "2 25.1875 25.5000 25.8435 25.1560 25.6875 24.6875 25.875 24.4690 25.7500 25.125\n",
       "    [,31]   [,32]   [,33]   [,34]   [,35]   [,36]   [,37]  [,38]   [,39]  [,40]\n",
       "1 26.6875 26.8125 27.1245 26.6875 26.3750 26.8120 26.6875 26.875 26.4685 26.906\n",
       "2 25.3435 25.6560 25.6875 25.4685 25.6875 25.3745 25.5310 26.031 24.8440 25.844\n",
       "   [,41]   [,42]  [,43]   [,44]  [,45]   [,46]   [,47]   [,48]   [,49]   [,50]\n",
       "1 27.156 27.4375 27.656 27.7810 27.906 27.9375 27.8435 28.1870 28.2810 28.0935\n",
       "2 26.156 27.2185 27.219 27.6255 27.781 27.9060 27.5620 27.7185 27.7815 28.1250\n",
       "   [,51]  [,52]   [,53]\n",
       "1 28.219 28.281 28.5625\n",
       "2 28.375 28.375 28.5310\n",
       "\n",
       "Clustering vector:\n",
       "Temp_1 Temp_2 Temp_3 Temp_4 \n",
       "     1      1      2      2 \n",
       "\n",
       "Within cluster sum of squares by cluster:\n",
       "[1] 4.352599 9.753850\n",
       " (between_SS / total_SS =  81.9 %)\n",
       "\n",
       "Available components:\n",
       "\n",
       "[1] \"cluster\"      \"centers\"      \"totss\"        \"withinss\"     \"tot.withinss\"\n",
       "[6] \"betweenss\"    \"size\"         \"iter\"         \"ifault\"      "
      ]
     },
     "metadata": {},
     "output_type": "display_data"
    }
   ],
   "source": [
    "k"
   ]
  },
  {
   "cell_type": "code",
   "execution_count": 5,
   "metadata": {},
   "outputs": [],
   "source": [
    "x=c(2,3,4,4)\n",
    "y=c(3,4,7,8)"
   ]
  },
  {
   "cell_type": "code",
   "execution_count": 7,
   "metadata": {},
   "outputs": [
    {
     "data": {
      "text/html": [
       "0.95065415136527"
      ],
      "text/latex": [
       "0.95065415136527"
      ],
      "text/markdown": [
       "0.95065415136527"
      ],
      "text/plain": [
       "[1] 0.9506542"
      ]
     },
     "metadata": {},
     "output_type": "display_data"
    }
   ],
   "source": [
    "cor(x,y)"
   ]
  },
  {
   "cell_type": "code",
   "execution_count": 8,
   "metadata": {},
   "outputs": [
    {
     "data": {
      "text/html": [
       "<table>\n",
       "<caption>A matrix: 5 × 1 of type dbl</caption>\n",
       "<tbody>\n",
       "\t<tr><td>0.2655087</td></tr>\n",
       "\t<tr><td>0.3721239</td></tr>\n",
       "\t<tr><td>0.5728534</td></tr>\n",
       "\t<tr><td>0.9082078</td></tr>\n",
       "\t<tr><td>0.2016819</td></tr>\n",
       "</tbody>\n",
       "</table>\n"
      ],
      "text/latex": [
       "A matrix: 5 × 1 of type dbl\n",
       "\\begin{tabular}{l}\n",
       "\t 0.2655087\\\\\n",
       "\t 0.3721239\\\\\n",
       "\t 0.5728534\\\\\n",
       "\t 0.9082078\\\\\n",
       "\t 0.2016819\\\\\n",
       "\\end{tabular}\n"
      ],
      "text/markdown": [
       "\n",
       "A matrix: 5 × 1 of type dbl\n",
       "\n",
       "| 0.2655087 |\n",
       "| 0.3721239 |\n",
       "| 0.5728534 |\n",
       "| 0.9082078 |\n",
       "| 0.2016819 |\n",
       "\n"
      ],
      "text/plain": [
       "     [,1]     \n",
       "[1,] 0.2655087\n",
       "[2,] 0.3721239\n",
       "[3,] 0.5728534\n",
       "[4,] 0.9082078\n",
       "[5,] 0.2016819"
      ]
     },
     "metadata": {},
     "output_type": "display_data"
    }
   ],
   "source": [
    "mat <- matrix(runif(5))\n",
    "mat"
   ]
  },
  {
   "cell_type": "code",
   "execution_count": 12,
   "metadata": {},
   "outputs": [
    {
     "data": {
      "text/plain": [
       "            1           2           3           4\n",
       "2 0.024084935                                    \n",
       "3 0.119654797 0.037381593                        \n",
       "4 0.006914433 0.056442160 0.181425203            \n",
       "5 0.038874393 0.001789084 0.022908727 0.077933519"
      ]
     },
     "metadata": {},
     "output_type": "display_data"
    }
   ],
   "source": [
    "\n",
    "mat <- matrix(runif(5))\n",
    "fn <- function(x, y) 1 - cos(x - y)\n",
    "\n",
    "proxy::dist(mat, method = fn)"
   ]
  },
  {
   "cell_type": "code",
   "execution_count": 45,
   "metadata": {},
   "outputs": [
    {
     "name": "stderr",
     "output_type": "stream",
     "text": [
      "Installing package into 'C:/Users/admin/Documents/R/win-library/3.6'\n",
      "(as 'lib' is unspecified)\n"
     ]
    },
    {
     "name": "stdout",
     "output_type": "stream",
     "text": [
      "package 'Rtsne' successfully unpacked and MD5 sums checked\n",
      "\n",
      "The downloaded binary packages are in\n",
      "\tC:\\Users\\admin\\AppData\\Local\\Temp\\RtmpiiGSCS\\downloaded_packages\n"
     ]
    }
   ],
   "source": [
    "install.packages('Rtsne')"
   ]
  }
 ],
 "metadata": {
  "kernelspec": {
   "display_name": "R",
   "language": "R",
   "name": "ir"
  },
  "language_info": {
   "codemirror_mode": "r",
   "file_extension": ".r",
   "mimetype": "text/x-r-source",
   "name": "R",
   "pygments_lexer": "r",
   "version": "3.6.0"
  }
 },
 "nbformat": 4,
 "nbformat_minor": 2
}
