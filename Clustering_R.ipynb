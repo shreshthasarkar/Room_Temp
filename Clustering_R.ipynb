{
 "cells": [
  {
   "cell_type": "code",
   "execution_count": 1,
   "metadata": {},
   "outputs": [
    {
     "name": "stderr",
     "output_type": "stream",
     "text": [
      "Warning message:\n",
      "\"package 'Rtsne' was built under R version 3.6.1\""
     ]
    }
   ],
   "source": [
    "library(Rtsne)"
   ]
  },
  {
   "cell_type": "code",
   "execution_count": 2,
   "metadata": {},
   "outputs": [],
   "source": [
    "set.seed(1)"
   ]
  },
  {
   "cell_type": "code",
   "execution_count": 5,
   "metadata": {},
   "outputs": [],
   "source": [
    "data <- read.csv(file=\"tempsensor_data_sim_sensors.csv\", header=TRUE, sep=\",\")"
   ]
  },
  {
   "cell_type": "code",
   "execution_count": 8,
   "metadata": {},
   "outputs": [
    {
     "data": {
      "text/html": [
       "<table>\n",
       "<caption>A data.frame: 6 × 21</caption>\n",
       "<thead>\n",
       "\t<tr><th scope=col>X</th><th scope=col>Temp_1_1</th><th scope=col>Temp_1_2</th><th scope=col>Temp_1_3</th><th scope=col>Temp_1_4</th><th scope=col>Temp_2_1</th><th scope=col>Temp_2_2</th><th scope=col>Temp_2_3</th><th scope=col>Temp_2_4</th><th scope=col>Temp_12_avg_open</th><th scope=col>...</th><th scope=col>Temp_3_1</th><th scope=col>Temp_3_2</th><th scope=col>Temp_3_3</th><th scope=col>Temp_3_4</th><th scope=col>Temp_4_1</th><th scope=col>Temp_4_2</th><th scope=col>Temp_4_3</th><th scope=col>Temp_4_4</th><th scope=col>Temp_34_avg_open</th><th scope=col>Temp_34_avg_close</th></tr>\n",
       "\t<tr><th scope=col>&lt;fct&gt;</th><th scope=col>&lt;dbl&gt;</th><th scope=col>&lt;dbl&gt;</th><th scope=col>&lt;dbl&gt;</th><th scope=col>&lt;dbl&gt;</th><th scope=col>&lt;dbl&gt;</th><th scope=col>&lt;dbl&gt;</th><th scope=col>&lt;dbl&gt;</th><th scope=col>&lt;dbl&gt;</th><th scope=col>&lt;dbl&gt;</th><th scope=col>...</th><th scope=col>&lt;dbl&gt;</th><th scope=col>&lt;dbl&gt;</th><th scope=col>&lt;dbl&gt;</th><th scope=col>&lt;dbl&gt;</th><th scope=col>&lt;dbl&gt;</th><th scope=col>&lt;dbl&gt;</th><th scope=col>&lt;dbl&gt;</th><th scope=col>&lt;dbl&gt;</th><th scope=col>&lt;dbl&gt;</th><th scope=col>&lt;dbl&gt;</th></tr>\n",
       "</thead>\n",
       "<tbody>\n",
       "\t<tr><td>07/23/2019 10:33</td><td>26.063</td><td>27.000</td><td>26.063</td><td>27.000</td><td>26.937</td><td>27.062</td><td>26.437</td><td>26.750</td><td>26.5000</td><td>...</td><td>25.187</td><td>26.125</td><td>25.062</td><td>26.000</td><td>25.062</td><td>26.688</td><td>25.062</td><td>26.063</td><td>25.1245</td><td>26.0315</td></tr>\n",
       "\t<tr><td>07/23/2019 10:37</td><td>26.875</td><td>27.062</td><td>26.688</td><td>27.062</td><td>27.062</td><td>27.187</td><td>26.875</td><td>27.187</td><td>26.9685</td><td>...</td><td>25.750</td><td>26.312</td><td>25.750</td><td>26.312</td><td>25.562</td><td>26.625</td><td>25.562</td><td>26.625</td><td>25.6560</td><td>26.4685</td></tr>\n",
       "\t<tr><td>07/23/2019 10:41</td><td>27.062</td><td>27.062</td><td>26.125</td><td>26.812</td><td>27.250</td><td>27.250</td><td>26.875</td><td>27.000</td><td>27.1560</td><td>...</td><td>25.687</td><td>25.937</td><td>25.062</td><td>25.937</td><td>26.437</td><td>26.437</td><td>24.750</td><td>25.438</td><td>26.0620</td><td>25.6875</td></tr>\n",
       "\t<tr><td>07/23/2019 10:45</td><td>27.000</td><td>27.125</td><td>26.812</td><td>26.812</td><td>26.500</td><td>27.313</td><td>26.500</td><td>27.062</td><td>26.7500</td><td>...</td><td>25.687</td><td>25.937</td><td>25.062</td><td>25.937</td><td>26.437</td><td>26.437</td><td>24.750</td><td>25.438</td><td>26.0620</td><td>25.6875</td></tr>\n",
       "\t<tr><td>07/23/2019 10:46</td><td>27.000</td><td>27.125</td><td>26.812</td><td>26.812</td><td>26.500</td><td>27.313</td><td>26.500</td><td>27.062</td><td>26.7500</td><td>...</td><td>26.250</td><td>26.250</td><td>25.250</td><td>25.250</td><td>26.562</td><td>26.688</td><td>24.875</td><td>24.875</td><td>26.4060</td><td>25.0625</td></tr>\n",
       "\t<tr><td>07/23/2019 10:49</td><td>26.625</td><td>26.937</td><td>26.063</td><td>26.937</td><td>26.250</td><td>27.125</td><td>26.250</td><td>26.688</td><td>26.4375</td><td>...</td><td>26.250</td><td>26.250</td><td>25.250</td><td>25.250</td><td>26.562</td><td>26.688</td><td>24.875</td><td>24.875</td><td>26.4060</td><td>25.0625</td></tr>\n",
       "</tbody>\n",
       "</table>\n"
      ],
      "text/latex": [
       "A data.frame: 6 × 21\n",
       "\\begin{tabular}{r|lllllllllllllllllllll}\n",
       " X & Temp\\_1\\_1 & Temp\\_1\\_2 & Temp\\_1\\_3 & Temp\\_1\\_4 & Temp\\_2\\_1 & Temp\\_2\\_2 & Temp\\_2\\_3 & Temp\\_2\\_4 & Temp\\_12\\_avg\\_open & Temp\\_12\\_avg\\_close & Temp\\_3\\_1 & Temp\\_3\\_2 & Temp\\_3\\_3 & Temp\\_3\\_4 & Temp\\_4\\_1 & Temp\\_4\\_2 & Temp\\_4\\_3 & Temp\\_4\\_4 & Temp\\_34\\_avg\\_open & Temp\\_34\\_avg\\_close\\\\\n",
       " <fct> & <dbl> & <dbl> & <dbl> & <dbl> & <dbl> & <dbl> & <dbl> & <dbl> & <dbl> & <dbl> & <dbl> & <dbl> & <dbl> & <dbl> & <dbl> & <dbl> & <dbl> & <dbl> & <dbl> & <dbl>\\\\\n",
       "\\hline\n",
       "\t 07/23/2019 10:33 & 26.063 & 27.000 & 26.063 & 27.000 & 26.937 & 27.062 & 26.437 & 26.750 & 26.5000 & 26.8750 & 25.187 & 26.125 & 25.062 & 26.000 & 25.062 & 26.688 & 25.062 & 26.063 & 25.1245 & 26.0315\\\\\n",
       "\t 07/23/2019 10:37 & 26.875 & 27.062 & 26.688 & 27.062 & 27.062 & 27.187 & 26.875 & 27.187 & 26.9685 & 27.1245 & 25.750 & 26.312 & 25.750 & 26.312 & 25.562 & 26.625 & 25.562 & 26.625 & 25.6560 & 26.4685\\\\\n",
       "\t 07/23/2019 10:41 & 27.062 & 27.062 & 26.125 & 26.812 & 27.250 & 27.250 & 26.875 & 27.000 & 27.1560 & 26.9060 & 25.687 & 25.937 & 25.062 & 25.937 & 26.437 & 26.437 & 24.750 & 25.438 & 26.0620 & 25.6875\\\\\n",
       "\t 07/23/2019 10:45 & 27.000 & 27.125 & 26.812 & 26.812 & 26.500 & 27.313 & 26.500 & 27.062 & 26.7500 & 26.9370 & 25.687 & 25.937 & 25.062 & 25.937 & 26.437 & 26.437 & 24.750 & 25.438 & 26.0620 & 25.6875\\\\\n",
       "\t 07/23/2019 10:46 & 27.000 & 27.125 & 26.812 & 26.812 & 26.500 & 27.313 & 26.500 & 27.062 & 26.7500 & 26.9370 & 26.250 & 26.250 & 25.250 & 25.250 & 26.562 & 26.688 & 24.875 & 24.875 & 26.4060 & 25.0625\\\\\n",
       "\t 07/23/2019 10:49 & 26.625 & 26.937 & 26.063 & 26.937 & 26.250 & 27.125 & 26.250 & 26.688 & 26.4375 & 26.8125 & 26.250 & 26.250 & 25.250 & 25.250 & 26.562 & 26.688 & 24.875 & 24.875 & 26.4060 & 25.0625\\\\\n",
       "\\end{tabular}\n"
      ],
      "text/markdown": [
       "\n",
       "A data.frame: 6 × 21\n",
       "\n",
       "| X &lt;fct&gt; | Temp_1_1 &lt;dbl&gt; | Temp_1_2 &lt;dbl&gt; | Temp_1_3 &lt;dbl&gt; | Temp_1_4 &lt;dbl&gt; | Temp_2_1 &lt;dbl&gt; | Temp_2_2 &lt;dbl&gt; | Temp_2_3 &lt;dbl&gt; | Temp_2_4 &lt;dbl&gt; | Temp_12_avg_open &lt;dbl&gt; | ... ... | Temp_3_1 &lt;dbl&gt; | Temp_3_2 &lt;dbl&gt; | Temp_3_3 &lt;dbl&gt; | Temp_3_4 &lt;dbl&gt; | Temp_4_1 &lt;dbl&gt; | Temp_4_2 &lt;dbl&gt; | Temp_4_3 &lt;dbl&gt; | Temp_4_4 &lt;dbl&gt; | Temp_34_avg_open &lt;dbl&gt; | Temp_34_avg_close &lt;dbl&gt; |\n",
       "|---|---|---|---|---|---|---|---|---|---|---|---|---|---|---|---|---|---|---|---|---|\n",
       "| 07/23/2019 10:33 | 26.063 | 27.000 | 26.063 | 27.000 | 26.937 | 27.062 | 26.437 | 26.750 | 26.5000 | ... | 25.187 | 26.125 | 25.062 | 26.000 | 25.062 | 26.688 | 25.062 | 26.063 | 25.1245 | 26.0315 |\n",
       "| 07/23/2019 10:37 | 26.875 | 27.062 | 26.688 | 27.062 | 27.062 | 27.187 | 26.875 | 27.187 | 26.9685 | ... | 25.750 | 26.312 | 25.750 | 26.312 | 25.562 | 26.625 | 25.562 | 26.625 | 25.6560 | 26.4685 |\n",
       "| 07/23/2019 10:41 | 27.062 | 27.062 | 26.125 | 26.812 | 27.250 | 27.250 | 26.875 | 27.000 | 27.1560 | ... | 25.687 | 25.937 | 25.062 | 25.937 | 26.437 | 26.437 | 24.750 | 25.438 | 26.0620 | 25.6875 |\n",
       "| 07/23/2019 10:45 | 27.000 | 27.125 | 26.812 | 26.812 | 26.500 | 27.313 | 26.500 | 27.062 | 26.7500 | ... | 25.687 | 25.937 | 25.062 | 25.937 | 26.437 | 26.437 | 24.750 | 25.438 | 26.0620 | 25.6875 |\n",
       "| 07/23/2019 10:46 | 27.000 | 27.125 | 26.812 | 26.812 | 26.500 | 27.313 | 26.500 | 27.062 | 26.7500 | ... | 26.250 | 26.250 | 25.250 | 25.250 | 26.562 | 26.688 | 24.875 | 24.875 | 26.4060 | 25.0625 |\n",
       "| 07/23/2019 10:49 | 26.625 | 26.937 | 26.063 | 26.937 | 26.250 | 27.125 | 26.250 | 26.688 | 26.4375 | ... | 26.250 | 26.250 | 25.250 | 25.250 | 26.562 | 26.688 | 24.875 | 24.875 | 26.4060 | 25.0625 |\n",
       "\n"
      ],
      "text/plain": [
       "  X                Temp_1_1 Temp_1_2 Temp_1_3 Temp_1_4 Temp_2_1 Temp_2_2\n",
       "1 07/23/2019 10:33 26.063   27.000   26.063   27.000   26.937   27.062  \n",
       "2 07/23/2019 10:37 26.875   27.062   26.688   27.062   27.062   27.187  \n",
       "3 07/23/2019 10:41 27.062   27.062   26.125   26.812   27.250   27.250  \n",
       "4 07/23/2019 10:45 27.000   27.125   26.812   26.812   26.500   27.313  \n",
       "5 07/23/2019 10:46 27.000   27.125   26.812   26.812   26.500   27.313  \n",
       "6 07/23/2019 10:49 26.625   26.937   26.063   26.937   26.250   27.125  \n",
       "  Temp_2_3 Temp_2_4 Temp_12_avg_open ... Temp_3_1 Temp_3_2 Temp_3_3 Temp_3_4\n",
       "1 26.437   26.750   26.5000          ... 25.187   26.125   25.062   26.000  \n",
       "2 26.875   27.187   26.9685          ... 25.750   26.312   25.750   26.312  \n",
       "3 26.875   27.000   27.1560          ... 25.687   25.937   25.062   25.937  \n",
       "4 26.500   27.062   26.7500          ... 25.687   25.937   25.062   25.937  \n",
       "5 26.500   27.062   26.7500          ... 26.250   26.250   25.250   25.250  \n",
       "6 26.250   26.688   26.4375          ... 26.250   26.250   25.250   25.250  \n",
       "  Temp_4_1 Temp_4_2 Temp_4_3 Temp_4_4 Temp_34_avg_open Temp_34_avg_close\n",
       "1 25.062   26.688   25.062   26.063   25.1245          26.0315          \n",
       "2 25.562   26.625   25.562   26.625   25.6560          26.4685          \n",
       "3 26.437   26.437   24.750   25.438   26.0620          25.6875          \n",
       "4 26.437   26.437   24.750   25.438   26.0620          25.6875          \n",
       "5 26.562   26.688   24.875   24.875   26.4060          25.0625          \n",
       "6 26.562   26.688   24.875   24.875   26.4060          25.0625          "
      ]
     },
     "metadata": {},
     "output_type": "display_data"
    }
   ],
   "source": [
    "head(data)"
   ]
  },
  {
   "cell_type": "code",
   "execution_count": 4,
   "metadata": {},
   "outputs": [],
   "source": [
    "# data=data[,2:5]"
   ]
  },
  {
   "cell_type": "code",
   "execution_count": 13,
   "metadata": {},
   "outputs": [],
   "source": [
    "data=data[,2:21]\n",
    "data_t=t(data)"
   ]
  },
  {
   "cell_type": "code",
   "execution_count": 14,
   "metadata": {},
   "outputs": [
    {
     "data": {
      "text/html": [
       "<table>\n",
       "<caption>A matrix: 6 × 154 of type dbl</caption>\n",
       "<tbody>\n",
       "\t<tr><th scope=row>Temp_1_1</th><td>26.063</td><td>26.875</td><td>27.062</td><td>27.000</td><td>27.000</td><td>26.625</td><td>26.625</td><td>26.875</td><td>26.250</td><td>26.500</td><td>...</td><td>25.750</td><td>26.125</td><td>26.125</td><td>25.812</td><td>25.812</td><td>26.125</td><td>26.125</td><td>25.937</td><td>25.937</td><td>26.125</td></tr>\n",
       "\t<tr><th scope=row>Temp_1_2</th><td>27.000</td><td>27.062</td><td>27.062</td><td>27.125</td><td>27.125</td><td>26.937</td><td>26.937</td><td>26.875</td><td>26.812</td><td>27.000</td><td>...</td><td>26.375</td><td>26.125</td><td>26.125</td><td>26.187</td><td>26.187</td><td>26.125</td><td>26.125</td><td>26.312</td><td>26.312</td><td>26.125</td></tr>\n",
       "\t<tr><th scope=row>Temp_1_3</th><td>26.063</td><td>26.688</td><td>26.125</td><td>26.812</td><td>26.812</td><td>26.063</td><td>26.063</td><td>26.562</td><td>26.250</td><td>26.500</td><td>...</td><td>25.687</td><td>25.937</td><td>25.937</td><td>25.687</td><td>25.687</td><td>25.937</td><td>25.937</td><td>25.937</td><td>25.937</td><td>25.687</td></tr>\n",
       "\t<tr><th scope=row>Temp_1_4</th><td>27.000</td><td>27.062</td><td>26.812</td><td>26.812</td><td>26.812</td><td>26.937</td><td>26.937</td><td>26.625</td><td>26.562</td><td>27.000</td><td>...</td><td>26.187</td><td>25.937</td><td>25.937</td><td>26.187</td><td>26.187</td><td>25.937</td><td>25.937</td><td>26.187</td><td>26.187</td><td>25.875</td></tr>\n",
       "\t<tr><th scope=row>Temp_2_1</th><td>26.937</td><td>27.062</td><td>27.250</td><td>26.500</td><td>26.500</td><td>26.250</td><td>26.250</td><td>27.250</td><td>27.187</td><td>27.000</td><td>...</td><td>26.437</td><td>25.750</td><td>25.750</td><td>25.438</td><td>25.438</td><td>25.875</td><td>25.875</td><td>25.562</td><td>25.562</td><td>26.000</td></tr>\n",
       "\t<tr><th scope=row>Temp_2_2</th><td>27.062</td><td>27.187</td><td>27.250</td><td>27.313</td><td>27.313</td><td>27.125</td><td>27.125</td><td>27.250</td><td>27.375</td><td>27.313</td><td>...</td><td>26.437</td><td>25.750</td><td>25.750</td><td>26.125</td><td>26.125</td><td>25.875</td><td>25.875</td><td>26.063</td><td>26.063</td><td>26.000</td></tr>\n",
       "</tbody>\n",
       "</table>\n"
      ],
      "text/latex": [
       "A matrix: 6 × 154 of type dbl\n",
       "\\begin{tabular}{r|llllllllllllllllllllllllllllllllllllllllllllllllllllllllllllllllllllllllllllllllllllllllllllllllllllllllllllllllllllllllllllllllllllllllllllllllllllllllll}\n",
       "\tTemp\\_1\\_1 & 26.063 & 26.875 & 27.062 & 27.000 & 27.000 & 26.625 & 26.625 & 26.875 & 26.250 & 26.500 & 26.750 & 26.937 & 26.125 & 27.187 & 27.437 & 26.750 & 26.625 & 26.750 & 26.500 & 26.250 & 26.750 & 26.625 & 26.437 & 26.562 & 26.562 & 26.437 & 26.437 & 26.437 & 26.375 & 26.375 & 26.375 & 26.250 & 25.937 & 25.937 & 26.375 & 25.687 & 26.437 & 26.688 & 26.437 & 26.437 & 26.562 & 25.687 & 25.687 & 26.063 & 26.063 & 26.562 & 26.562 & 26.812 & 26.812 & 27.313 & 27.375 & 27.625 & 27.375 & 27.125 & 27.750 & 27.812 & 27.812 & 27.750 & 27.313 & 27.812 & 27.25 & 26.875 & 27.000 & 26.750 & 26.750 & 27.000 & 27.000 & 26.812 & 26.812 & 27.125 & 27.125 & 27.000 & 26.937 & 27.000 & 26.875 & 27.000 & 26.812 & 26.375 & 26.750 & 26.250 & 26.937 & 27.062 & 26.375 & 26.375 & 26.812 & 26.375 & 26.375 & 26.625 & 26.625 & 26.625 & 26.625 & 26.812 & 26.812 & 27.062 & 27.313 & 27.500 & 27.750 & 27.812 & 27.875 & 27.500 & 28.062 & 28.187 & 28.312 & 28.500 & 28.500 & 28.500 & 28.500 & 28.500 & 28.500 & 28.500 & 28.500 & 28.500 & 28.500 & 28.500 & 28.500 & 28.500 & 28.500 & 28.437 & 28.437 & 28.187 & 28.187 & 27.812 & 27.812 & 27.562 & 27.562 & 27.687 & 27.687 & 28.312 & 28.312 & 27.625 & 27.625 & 27.250 & 27.250 & 26.312 & 26.312 & 26.750 & 26.750 & 26.375 & 26.375 & 26.250 & 26.250 & 26.375 & 26.375 & 25.750 & 25.750 & 26.125 & 26.125 & 25.812 & 25.812 & 26.125 & 26.125 & 25.937 & 25.937 & 26.125\\\\\n",
       "\tTemp\\_1\\_2 & 27.000 & 27.062 & 27.062 & 27.125 & 27.125 & 26.937 & 26.937 & 26.875 & 26.812 & 27.000 & 26.750 & 26.937 & 27.000 & 27.500 & 27.437 & 26.750 & 26.625 & 26.812 & 26.500 & 26.625 & 26.750 & 26.750 & 26.437 & 26.625 & 26.625 & 26.437 & 26.437 & 26.562 & 26.375 & 26.562 & 26.375 & 26.500 & 26.500 & 26.562 & 26.375 & 26.500 & 26.437 & 26.688 & 26.625 & 26.437 & 26.562 & 26.625 & 26.625 & 26.500 & 26.500 & 26.937 & 26.937 & 27.000 & 27.000 & 27.313 & 27.500 & 27.750 & 27.562 & 27.938 & 27.750 & 27.938 & 27.812 & 27.750 & 27.812 & 27.812 & 27.25 & 26.875 & 27.062 & 26.937 & 26.937 & 27.000 & 27.000 & 27.062 & 27.062 & 27.125 & 27.125 & 27.187 & 26.937 & 27.125 & 26.937 & 27.000 & 26.812 & 26.875 & 27.000 & 26.875 & 27.000 & 27.062 & 26.812 & 27.000 & 26.875 & 27.000 & 27.000 & 27.062 & 27.062 & 26.688 & 26.688 & 27.000 & 27.000 & 27.062 & 27.500 & 27.625 & 27.750 & 27.938 & 28.062 & 28.125 & 28.125 & 28.312 & 28.563 & 28.500 & 28.563 & 28.563 & 28.563 & 28.563 & 28.563 & 28.563 & 28.563 & 28.563 & 28.563 & 28.563 & 28.563 & 28.500 & 28.500 & 28.437 & 28.437 & 28.312 & 28.312 & 28.312 & 28.312 & 28.250 & 28.250 & 28.375 & 28.375 & 28.312 & 28.312 & 27.625 & 27.625 & 27.250 & 27.250 & 26.875 & 26.875 & 26.750 & 26.750 & 26.375 & 26.375 & 26.250 & 26.250 & 26.500 & 26.500 & 26.375 & 26.375 & 26.125 & 26.125 & 26.187 & 26.187 & 26.125 & 26.125 & 26.312 & 26.312 & 26.125\\\\\n",
       "\tTemp\\_1\\_3 & 26.063 & 26.688 & 26.125 & 26.812 & 26.812 & 26.063 & 26.063 & 26.562 & 26.250 & 26.500 & 25.937 & 26.500 & 26.125 & 26.750 & 27.062 & 26.125 & 26.437 & 26.625 & 26.375 & 26.000 & 25.937 & 26.562 & 26.187 & 26.500 & 26.500 & 26.250 & 26.250 & 26.000 & 25.687 & 26.375 & 25.500 & 26.063 & 25.687 & 25.937 & 26.063 & 25.687 & 25.750 & 25.750 & 26.437 & 25.750 & 25.937 & 25.687 & 25.687 & 26.000 & 26.000 & 26.187 & 26.187 & 26.625 & 26.625 & 26.750 & 26.875 & 27.000 & 26.937 & 27.125 & 27.062 & 27.812 & 27.125 & 27.187 & 27.313 & 26.937 & 27.00 & 26.750 & 26.375 & 26.750 & 26.750 & 26.250 & 26.250 & 26.812 & 26.812 & 26.437 & 26.437 & 26.625 & 26.375 & 27.000 & 26.187 & 26.812 & 26.250 & 26.375 & 26.437 & 26.250 & 26.875 & 26.937 & 26.312 & 26.250 & 26.375 & 26.312 & 26.312 & 26.625 & 26.625 & 25.937 & 25.937 & 26.812 & 26.812 & 26.562 & 26.875 & 27.125 & 27.187 & 27.812 & 27.500 & 27.500 & 27.625 & 28.187 & 28.312 & 28.000 & 28.500 & 28.500 & 28.500 & 28.500 & 28.500 & 28.500 & 28.500 & 28.500 & 28.500 & 28.500 & 28.500 & 28.375 & 28.375 & 27.562 & 27.562 & 28.187 & 28.187 & 27.812 & 27.812 & 27.562 & 27.562 & 27.687 & 27.687 & 27.125 & 27.125 & 26.750 & 26.750 & 26.937 & 26.937 & 26.250 & 26.250 & 26.500 & 26.500 & 25.687 & 25.687 & 25.687 & 25.687 & 26.000 & 26.000 & 25.687 & 25.687 & 25.937 & 25.937 & 25.687 & 25.687 & 25.937 & 25.937 & 25.937 & 25.937 & 25.687\\\\\n",
       "\tTemp\\_1\\_4 & 27.000 & 27.062 & 26.812 & 26.812 & 26.812 & 26.937 & 26.937 & 26.625 & 26.562 & 27.000 & 26.250 & 26.500 & 26.500 & 27.500 & 27.062 & 26.688 & 26.562 & 26.625 & 26.375 & 26.625 & 26.500 & 26.562 & 26.250 & 26.500 & 26.500 & 26.250 & 26.250 & 26.000 & 25.687 & 26.437 & 25.500 & 26.063 & 25.687 & 26.500 & 26.063 & 25.937 & 26.375 & 26.250 & 26.500 & 26.375 & 26.375 & 26.625 & 26.625 & 26.500 & 26.500 & 26.937 & 26.937 & 26.625 & 26.625 & 26.750 & 27.062 & 27.000 & 27.562 & 27.938 & 27.687 & 27.938 & 27.812 & 27.375 & 27.812 & 27.313 & 27.00 & 26.875 & 26.375 & 26.937 & 26.937 & 26.250 & 26.250 & 27.062 & 27.062 & 26.437 & 26.437 & 26.625 & 26.375 & 27.000 & 26.937 & 26.812 & 26.812 & 26.750 & 26.437 & 26.875 & 26.937 & 27.062 & 26.812 & 26.250 & 26.437 & 27.000 & 27.000 & 26.812 & 26.812 & 26.688 & 26.688 & 27.000 & 27.000 & 26.750 & 27.500 & 27.625 & 27.687 & 27.938 & 28.062 & 28.062 & 27.625 & 28.250 & 28.563 & 28.000 & 28.563 & 28.563 & 28.563 & 28.563 & 28.563 & 28.563 & 28.563 & 28.563 & 28.563 & 28.563 & 28.563 & 28.437 & 28.437 & 27.562 & 27.562 & 28.312 & 28.312 & 28.312 & 28.312 & 28.250 & 28.250 & 28.375 & 28.375 & 27.125 & 27.125 & 26.750 & 26.750 & 26.937 & 26.937 & 26.250 & 26.250 & 26.500 & 26.500 & 26.250 & 26.250 & 26.187 & 26.187 & 26.500 & 26.500 & 26.187 & 26.187 & 25.937 & 25.937 & 26.187 & 26.187 & 25.937 & 25.937 & 26.187 & 26.187 & 25.875\\\\\n",
       "\tTemp\\_2\\_1 & 26.937 & 27.062 & 27.250 & 26.500 & 26.500 & 26.250 & 26.250 & 27.250 & 27.187 & 27.000 & 26.625 & 27.313 & 27.125 & 27.562 & 27.875 & 27.250 & 26.500 & 27.062 & 26.937 & 26.125 & 26.375 & 26.937 & 26.812 & 26.812 & 26.812 & 26.688 & 26.688 & 26.688 & 26.750 & 26.750 & 26.187 & 26.063 & 26.812 & 26.125 & 26.750 & 26.625 & 26.562 & 26.312 & 26.750 & 26.312 & 26.812 & 26.000 & 26.000 & 26.937 & 26.937 & 26.812 & 26.812 & 26.688 & 26.688 & 27.500 & 27.687 & 27.812 & 27.125 & 27.875 & 27.938 & 28.062 & 28.125 & 28.062 & 28.250 & 28.187 & 27.75 & 27.313 & 27.437 & 26.562 & 26.562 & 27.437 & 27.437 & 27.187 & 27.187 & 27.500 & 27.500 & 27.375 & 26.750 & 26.625 & 27.187 & 27.250 & 26.937 & 27.000 & 27.062 & 27.125 & 26.688 & 27.187 & 27.000 & 26.375 & 26.812 & 27.000 & 27.000 & 27.125 & 27.125 & 26.312 & 26.312 & 27.000 & 27.000 & 27.250 & 27.562 & 27.812 & 27.812 & 28.000 & 28.000 & 28.187 & 28.312 & 28.375 & 27.875 & 27.938 & 28.062 & 28.062 & 28.062 & 28.062 & 28.062 & 28.062 & 28.062 & 28.062 & 28.062 & 28.062 & 28.062 & 28.625 & 28.625 & 27.812 & 27.812 & 27.750 & 27.750 & 28.375 & 28.375 & 27.250 & 27.250 & 28.062 & 28.062 & 27.687 & 27.687 & 27.187 & 27.187 & 26.500 & 26.500 & 25.500 & 25.500 & 25.812 & 25.812 & 24.937 & 24.937 & 25.125 & 25.125 & 26.375 & 26.375 & 26.437 & 26.437 & 25.750 & 25.750 & 25.438 & 25.438 & 25.875 & 25.875 & 25.562 & 25.562 & 26.000\\\\\n",
       "\tTemp\\_2\\_2 & 27.062 & 27.187 & 27.250 & 27.313 & 27.313 & 27.125 & 27.125 & 27.250 & 27.375 & 27.313 & 27.125 & 27.313 & 27.375 & 27.812 & 27.875 & 27.250 & 27.000 & 27.187 & 26.937 & 26.937 & 27.000 & 26.937 & 26.812 & 27.000 & 27.000 & 26.688 & 26.688 & 26.937 & 26.750 & 26.875 & 26.187 & 26.937 & 26.812 & 26.875 & 26.750 & 26.812 & 26.688 & 26.875 & 26.937 & 26.625 & 26.875 & 26.875 & 26.875 & 26.937 & 26.937 & 27.125 & 27.125 & 27.437 & 27.437 & 27.562 & 27.875 & 28.000 & 27.875 & 28.125 & 28.000 & 28.250 & 28.125 & 28.187 & 28.250 & 28.187 & 27.75 & 27.313 & 27.437 & 27.313 & 27.313 & 27.437 & 27.437 & 27.500 & 27.500 & 27.500 & 27.500 & 27.562 & 27.250 & 27.375 & 27.187 & 27.250 & 26.937 & 27.000 & 27.187 & 27.187 & 27.187 & 27.187 & 27.000 & 26.937 & 27.000 & 27.125 & 27.125 & 27.187 & 27.187 & 26.812 & 26.812 & 27.187 & 27.187 & 27.500 & 27.625 & 27.875 & 27.938 & 28.062 & 28.187 & 28.187 & 28.312 & 28.437 & 28.500 & 28.563 & 28.687 & 28.687 & 28.687 & 28.687 & 28.687 & 28.687 & 28.687 & 28.687 & 28.687 & 28.687 & 28.687 & 28.625 & 28.625 & 28.000 & 28.000 & 28.062 & 28.062 & 28.500 & 28.500 & 28.125 & 28.125 & 28.437 & 28.437 & 27.938 & 27.938 & 27.187 & 27.187 & 26.500 & 26.500 & 26.063 & 26.063 & 25.812 & 25.812 & 25.562 & 25.562 & 25.875 & 25.875 & 26.688 & 26.688 & 26.437 & 26.437 & 25.750 & 25.750 & 26.125 & 26.125 & 25.875 & 25.875 & 26.063 & 26.063 & 26.000\\\\\n",
       "\\end{tabular}\n"
      ],
      "text/markdown": [
       "\n",
       "A matrix: 6 × 154 of type dbl\n",
       "\n",
       "| Temp_1_1 | 26.063 | 26.875 | 27.062 | 27.000 | 27.000 | 26.625 | 26.625 | 26.875 | 26.250 | 26.500 | ... | 25.750 | 26.125 | 26.125 | 25.812 | 25.812 | 26.125 | 26.125 | 25.937 | 25.937 | 26.125 |\n",
       "| Temp_1_2 | 27.000 | 27.062 | 27.062 | 27.125 | 27.125 | 26.937 | 26.937 | 26.875 | 26.812 | 27.000 | ... | 26.375 | 26.125 | 26.125 | 26.187 | 26.187 | 26.125 | 26.125 | 26.312 | 26.312 | 26.125 |\n",
       "| Temp_1_3 | 26.063 | 26.688 | 26.125 | 26.812 | 26.812 | 26.063 | 26.063 | 26.562 | 26.250 | 26.500 | ... | 25.687 | 25.937 | 25.937 | 25.687 | 25.687 | 25.937 | 25.937 | 25.937 | 25.937 | 25.687 |\n",
       "| Temp_1_4 | 27.000 | 27.062 | 26.812 | 26.812 | 26.812 | 26.937 | 26.937 | 26.625 | 26.562 | 27.000 | ... | 26.187 | 25.937 | 25.937 | 26.187 | 26.187 | 25.937 | 25.937 | 26.187 | 26.187 | 25.875 |\n",
       "| Temp_2_1 | 26.937 | 27.062 | 27.250 | 26.500 | 26.500 | 26.250 | 26.250 | 27.250 | 27.187 | 27.000 | ... | 26.437 | 25.750 | 25.750 | 25.438 | 25.438 | 25.875 | 25.875 | 25.562 | 25.562 | 26.000 |\n",
       "| Temp_2_2 | 27.062 | 27.187 | 27.250 | 27.313 | 27.313 | 27.125 | 27.125 | 27.250 | 27.375 | 27.313 | ... | 26.437 | 25.750 | 25.750 | 26.125 | 26.125 | 25.875 | 25.875 | 26.063 | 26.063 | 26.000 |\n",
       "\n"
      ],
      "text/plain": [
       "         [,1]   [,2]   [,3]   [,4]   [,5]   [,6]   [,7]   [,8]   [,9]   [,10] \n",
       "Temp_1_1 26.063 26.875 27.062 27.000 27.000 26.625 26.625 26.875 26.250 26.500\n",
       "Temp_1_2 27.000 27.062 27.062 27.125 27.125 26.937 26.937 26.875 26.812 27.000\n",
       "Temp_1_3 26.063 26.688 26.125 26.812 26.812 26.063 26.063 26.562 26.250 26.500\n",
       "Temp_1_4 27.000 27.062 26.812 26.812 26.812 26.937 26.937 26.625 26.562 27.000\n",
       "Temp_2_1 26.937 27.062 27.250 26.500 26.500 26.250 26.250 27.250 27.187 27.000\n",
       "Temp_2_2 27.062 27.187 27.250 27.313 27.313 27.125 27.125 27.250 27.375 27.313\n",
       "         [,11] [,12]  [,13]  [,14]  [,15]  [,16]  [,17]  [,18]  [,19]  [,20] \n",
       "Temp_1_1 ...   25.750 26.125 26.125 25.812 25.812 26.125 26.125 25.937 25.937\n",
       "Temp_1_2 ...   26.375 26.125 26.125 26.187 26.187 26.125 26.125 26.312 26.312\n",
       "Temp_1_3 ...   25.687 25.937 25.937 25.687 25.687 25.937 25.937 25.937 25.937\n",
       "Temp_1_4 ...   26.187 25.937 25.937 26.187 26.187 25.937 25.937 26.187 26.187\n",
       "Temp_2_1 ...   26.437 25.750 25.750 25.438 25.438 25.875 25.875 25.562 25.562\n",
       "Temp_2_2 ...   26.437 25.750 25.750 26.125 26.125 25.875 25.875 26.063 26.063\n",
       "         [,21] \n",
       "Temp_1_1 26.125\n",
       "Temp_1_2 26.125\n",
       "Temp_1_3 25.687\n",
       "Temp_1_4 25.875\n",
       "Temp_2_1 26.000\n",
       "Temp_2_2 26.000"
      ]
     },
     "metadata": {},
     "output_type": "display_data"
    }
   ],
   "source": [
    "head(data_t)"
   ]
  },
  {
   "cell_type": "code",
   "execution_count": 10,
   "metadata": {},
   "outputs": [
    {
     "ename": "ERROR",
     "evalue": "Error in princomp.default(data_t): 'princomp' can only be used with more units than variables\n",
     "output_type": "error",
     "traceback": [
      "Error in princomp.default(data_t): 'princomp' can only be used with more units than variables\nTraceback:\n",
      "1. princomp(data_t)",
      "2. princomp.default(data_t)",
      "3. stop(\"'princomp' can only be used with more units than variables\")"
     ]
    }
   ],
   "source": [
    "pca=princomp(data_t)"
   ]
  },
  {
   "cell_type": "code",
   "execution_count": 128,
   "metadata": {},
   "outputs": [],
   "source": [
    "l=pca$loadings"
   ]
  },
  {
   "cell_type": "code",
   "execution_count": 129,
   "metadata": {},
   "outputs": [
    {
     "data": {
      "text/plain": [
       "\n",
       "Loadings:\n",
       "       Comp.1 Comp.2 Comp.3 Comp.4\n",
       "Temp_1  0.333  0.577         0.746\n",
       "Temp_2  0.303  0.682        -0.662\n",
       "Temp_3  0.663 -0.299  0.682       \n",
       "Temp_4  0.598 -0.335 -0.728       \n",
       "\n",
       "               Comp.1 Comp.2 Comp.3 Comp.4\n",
       "SS loadings      1.00   1.00   1.00   1.00\n",
       "Proportion Var   0.25   0.25   0.25   0.25\n",
       "Cumulative Var   0.25   0.50   0.75   1.00"
      ]
     },
     "metadata": {},
     "output_type": "display_data"
    }
   ],
   "source": [
    "l"
   ]
  },
  {
   "cell_type": "code",
   "execution_count": 138,
   "metadata": {},
   "outputs": [
    {
     "data": {
      "image/png": "[encoded data removed]",
      "text/plain": [
       "plot without title"
      ]
     },
     "metadata": {},
     "output_type": "display_data"
    }
   ],
   "source": [
    "plot(l)"
   ]
  },
  {
   "cell_type": "code",
   "execution_count": 109,
   "metadata": {},
   "outputs": [],
   "source": [
    "Labels<-c('Temp_1', 'Temp_2', 'Temp_3', 'Temp_4')"
   ]
  },
  {
   "cell_type": "code",
   "execution_count": 111,
   "metadata": {},
   "outputs": [
    {
     "data": {
      "text/html": [
       "<ol class=list-inline>\n",
       "\t<li>'Temp_1'</li>\n",
       "\t<li>'Temp_2'</li>\n",
       "\t<li>'Temp_3'</li>\n",
       "\t<li>'Temp_4'</li>\n",
       "</ol>\n"
      ],
      "text/latex": [
       "\\begin{enumerate*}\n",
       "\\item 'Temp\\_1'\n",
       "\\item 'Temp\\_2'\n",
       "\\item 'Temp\\_3'\n",
       "\\item 'Temp\\_4'\n",
       "\\end{enumerate*}\n"
      ],
      "text/markdown": [
       "1. 'Temp_1'\n",
       "2. 'Temp_2'\n",
       "3. 'Temp_3'\n",
       "4. 'Temp_4'\n",
       "\n",
       "\n"
      ],
      "text/plain": [
       "[1] \"Temp_1\" \"Temp_2\" \"Temp_3\" \"Temp_4\""
      ]
     },
     "metadata": {},
     "output_type": "display_data"
    }
   ],
   "source": [
    "unique(Labels)"
   ]
  },
  {
   "cell_type": "code",
   "execution_count": 113,
   "metadata": {},
   "outputs": [],
   "source": [
    "color <- rainbow(length(unique(Labels)))\n",
    "names(color) <- unique(Labels)"
   ]
  },
  {
   "cell_type": "code",
   "execution_count": 130,
   "metadata": {},
   "outputs": [
    {
     "ename": "ERROR",
     "evalue": "Error in .check_tsne_params(nrow(X), dims = dims, perplexity = perplexity, : perplexity is too large for the number of samples\n",
     "output_type": "error",
     "traceback": [
      "Error in .check_tsne_params(nrow(X), dims = dims, perplexity = perplexity, : perplexity is too large for the number of samples\nTraceback:\n",
      "1. Rtsne(data_t, dim = 2, perplexity = 4)",
      "2. Rtsne.default(data_t, dim = 2, perplexity = 4)",
      "3. .check_tsne_params(nrow(X), dims = dims, perplexity = perplexity, \n .     theta = theta, max_iter = max_iter, verbose = verbose, Y_init = Y_init, \n .     stop_lying_iter = stop_lying_iter, mom_switch_iter = mom_switch_iter, \n .     momentum = momentum, final_momentum = final_momentum, eta = eta, \n .     exaggeration_factor = exaggeration_factor)",
      "4. stop(\"perplexity is too large for the number of samples\")"
     ]
    }
   ],
   "source": [
    "t=Rtsne(data_t,dim=2,perplexity =4)"
   ]
  },
  {
   "cell_type": "code",
   "execution_count": 119,
   "metadata": {},
   "outputs": [
    {
     "data": {
      "text/html": [
       "<pre class=language-r><code>.Primitive(\"names\")</code></pre>"
      ],
      "text/latex": [
       "\\begin{minted}{r}\n",
       ".Primitive(\"names\")\n",
       "\\end{minted}"
      ],
      "text/markdown": [
       "```r\n",
       ".Primitive(\"names\")\n",
       "```"
      ],
      "text/plain": [
       "function (x)  .Primitive(\"names\")"
      ]
     },
     "metadata": {},
     "output_type": "display_data"
    }
   ],
   "source": [
    "names"
   ]
  },
  {
   "cell_type": "code",
   "execution_count": 118,
   "metadata": {},
   "outputs": [
    {
     "data": {
      "text/html": [
       "<dl class=dl-horizontal>\n",
       "\t<dt>Temp_1</dt>\n",
       "\t\t<dd>'#FF0000FF'</dd>\n",
       "\t<dt>Temp_2</dt>\n",
       "\t\t<dd>'#80FF00FF'</dd>\n",
       "\t<dt>Temp_3</dt>\n",
       "\t\t<dd>'#00FFFFFF'</dd>\n",
       "\t<dt>Temp_4</dt>\n",
       "\t\t<dd>'#8000FFFF'</dd>\n",
       "</dl>\n"
      ],
      "text/latex": [
       "\\begin{description*}\n",
       "\\item[Temp\\textbackslash{}\\_1] '\\#FF0000FF'\n",
       "\\item[Temp\\textbackslash{}\\_2] '\\#80FF00FF'\n",
       "\\item[Temp\\textbackslash{}\\_3] '\\#00FFFFFF'\n",
       "\\item[Temp\\textbackslash{}\\_4] '\\#8000FFFF'\n",
       "\\end{description*}\n"
      ],
      "text/markdown": [
       "Temp_1\n",
       ":   '#FF0000FF'Temp_2\n",
       ":   '#80FF00FF'Temp_3\n",
       ":   '#00FFFFFF'Temp_4\n",
       ":   '#8000FFFF'\n",
       "\n"
      ],
      "text/plain": [
       "     Temp_1      Temp_2      Temp_3      Temp_4 \n",
       "\"#FF0000FF\" \"#80FF00FF\" \"#00FFFFFF\" \"#8000FFFF\" "
      ]
     },
     "metadata": {},
     "output_type": "display_data"
    }
   ],
   "source": [
    "color"
   ]
  },
  {
   "cell_type": "code",
   "execution_count": 124,
   "metadata": {},
   "outputs": [
    {
     "data": {
      "image/png": "[encoded data removed]",
      "text/plain": [
       "Plot with title \"tsne\""
      ]
     },
     "metadata": {},
     "output_type": "display_data"
    }
   ],
   "source": [
    "plot(t$Y,main=\"tsne\")\n",
    "# text(t$Y, labels = Labels, col = color[Labels])\n",
    "text(t$Y, col = color[Labels])"
   ]
  },
  {
   "cell_type": "code",
   "execution_count": 108,
   "metadata": {},
   "outputs": [
    {
     "data": {
      "text/html": [
       "<ol class=list-inline>\n",
       "\t<li>'Temp_1'</li>\n",
       "\t<li>'Temp_2'</li>\n",
       "\t<li>'Temp_3'</li>\n",
       "\t<li>'Temp_4'</li>\n",
       "</ol>\n"
      ],
      "text/latex": [
       "\\begin{enumerate*}\n",
       "\\item 'Temp\\_1'\n",
       "\\item 'Temp\\_2'\n",
       "\\item 'Temp\\_3'\n",
       "\\item 'Temp\\_4'\n",
       "\\end{enumerate*}\n"
      ],
      "text/markdown": [
       "1. 'Temp_1'\n",
       "2. 'Temp_2'\n",
       "3. 'Temp_3'\n",
       "4. 'Temp_4'\n",
       "\n",
       "\n"
      ],
      "text/plain": [
       "[1] \"Temp_1\" \"Temp_2\" \"Temp_3\" \"Temp_4\""
      ]
     },
     "metadata": {},
     "output_type": "display_data"
    }
   ],
   "source": [
    "colnames(data)"
   ]
  },
  {
   "cell_type": "code",
   "execution_count": 19,
   "metadata": {},
   "outputs": [
    {
     "data": {
      "image/png": "[encoded data removed]",
      "text/plain": [
       "plot without title"
      ]
     },
     "metadata": {},
     "output_type": "display_data"
    }
   ],
   "source": [
    "\n",
    "wss <- (nrow(data)-1)*sum(apply(data,2,var))\n",
    "  for (i in 2:15) wss[i] <- sum(kmeans(data_t,\n",
    "                                       centers=i)$withinss)\n",
    "plot(1:15, wss, type=\"b\", xlab=\"Number of Clusters\",\n",
    "     ylab=\"Within groups sum of squares\")"
   ]
  },
  {
   "cell_type": "code",
   "execution_count": 142,
   "metadata": {},
   "outputs": [],
   "source": [
    "?apply"
   ]
  },
  {
   "cell_type": "code",
   "execution_count": 17,
   "metadata": {},
   "outputs": [],
   "source": [
    "k=kmeans(data_t, 2, iter.max = 10, nstart = 1,\n",
    " algorithm = c(\"Hartigan-Wong\", \"Lloyd\", \"Forgy\",\n",
    " \"MacQueen\"), trace=FALSE)"
   ]
  },
  {
   "cell_type": "code",
   "execution_count": 18,
   "metadata": {},
   "outputs": [
    {
     "data": {
      "text/plain": [
       "K-means clustering with 2 clusters of sizes 11, 9\n",
       "\n",
       "Cluster means:\n",
       "      [,1]     [,2]     [,3]     [,4]     [,5]     [,6]     [,7]     [,8]\n",
       "1 26.67045 26.97418 26.90318 26.84073 26.86355 26.61936 26.61936 26.81527\n",
       "2 25.52411 25.99972 25.66639 25.66639 25.64228 25.64228 25.81911 25.79161\n",
       "      [,9]    [,10]    [,11]    [,12]    [,13]    [,14]    [,15]    [,16]\n",
       "1 26.76686 26.86650 26.65336 26.93750 26.78977 27.45141 27.45705 26.74718\n",
       "2 25.73967 25.82283 25.99283 25.96511 26.62833 27.22194 26.59000 25.54150\n",
       "     [,17]    [,18]    [,19]    [,20]    [,21]    [,22]    [,23]    [,24]\n",
       "1 26.51405 26.83786 26.45727 26.43450 26.43450 26.68723 26.36050 26.46855\n",
       "2 25.18389 25.73922 24.99272 25.26728 25.37489 25.58000 24.92717 24.92717\n",
       "     [,25]    [,26]    [,27]    [,28]    [,29]    [,30]    [,31]    [,32]\n",
       "1 26.50827 26.41195 26.33241 26.49132 26.23005 26.51691 25.90886 26.27568\n",
       "2 25.32611 25.32611 24.90967 25.61111 24.96522 25.40589 24.90617 25.35050\n",
       "     [,33]    [,34]    [,35]    [,36]    [,37]    [,38]    [,39]    [,40]\n",
       "1 26.24391 26.34359 26.32682 26.28959 26.38336 26.38345 26.61345 26.24686\n",
       "2 25.19417 25.39567 25.13539 25.20472 25.09356 25.12811 25.35417 25.04133\n",
       "     [,41]    [,42]    [,43]    [,44]    [,45]    [,46]    [,47]    [,48]\n",
       "1 26.39755 26.27550 26.24132 26.48564 26.50836 26.74109 26.78655 26.86636\n",
       "2 25.03106 25.03106 25.02089 25.02089 25.40233 25.40233 25.82272 25.82272\n",
       "     [,49]    [,50]    [,51]    [,52]    [,53]    [,54]    [,55]    [,56]\n",
       "1 26.92891 27.30114 27.51118 27.60500 27.46286 27.76995 27.72150 28.03109\n",
       "2 26.32667 26.90944 27.44444 27.20828 27.15950 27.46511 27.21867 27.60078\n",
       "     [,57]    [,58]    [,59]    [,60]    [,61]    [,62]    [,63]    [,64]\n",
       "1 27.80368 27.85200 27.84655 27.58514 27.24705 26.83250 26.90605 26.83791\n",
       "2 27.35061 27.73233 27.14206 26.56928 25.72900 25.36444 25.53778 25.53778\n",
       "     [,65]    [,66]    [,67]    [,68]    [,69]    [,70]    [,71]    [,72]\n",
       "1 26.83227 26.86345 26.87482 27.07068 27.06495 27.00836 26.96291 27.05673\n",
       "2 25.55200 25.55200 25.37133 25.37133 25.53806 25.53806 25.44778 25.54500\n",
       "     [,73]    [,74]    [,75]    [,76]    [,77]    [,78]    [,79]    [,80]\n",
       "1 26.61909 26.92618 26.82927 26.92886 26.70136 26.70727 26.70732 26.79250\n",
       "2 25.13167 25.40272 24.77433 25.48589 24.94450 25.36106 25.31583 25.48939\n",
       "     [,81]    [,82]    [,83]    [,84]    [,85]    [,86]    [,87]    [,88]\n",
       "1 26.80655 26.95986 26.69291 26.46291 26.71850 26.79536 26.77836 26.81523\n",
       "2 25.41994 25.62489 25.39889 25.23250 25.55883 25.55883 25.59022 25.59022\n",
       "     [,89]    [,90]    [,91]    [,92]    [,93]    [,94]    [,95]    [,96]\n",
       "1 26.83786 26.45445 26.40900 26.87473 26.90882 27.09364 27.37500 27.64195\n",
       "2 25.59700 25.59700 25.10411 25.10411 25.77406 26.48250 27.29833 27.29867\n",
       "     [,97]    [,98]    [,99]   [,100]   [,101]   [,102]   [,103]   [,104]\n",
       "1 27.77541 27.94882 27.90036 27.89455 28.08777 28.26677 28.31818 28.27868\n",
       "2 27.45489 27.43367 27.54144 27.66972 27.65956 27.88544 27.93750 28.38194\n",
       "    [,105]   [,106]   [,107]   [,108]   [,109]   [,110]   [,111]   [,112]\n",
       "1 28.46864 28.48564 28.48000 28.48000 28.46300 28.45727 28.44018 28.42882\n",
       "2 28.19439 28.49978 28.29472 28.26722 27.98589 28.12817 27.58322 27.60750\n",
       "    [,113]   [,114]   [,115]   [,116]   [,117]   [,118]   [,119]   [,120]\n",
       "1 28.45155 28.43455 28.44018 28.46005 28.48286 27.81214 27.73250 27.94855\n",
       "2 27.89561 27.54139 27.47894 27.47894 27.85772 27.85772 27.15606 27.15606\n",
       "    [,121]   [,122]   [,123]   [,124]   [,125]   [,126]   [,127]   [,128]\n",
       "1 28.02245 28.18432 28.17859 27.85495 27.84359 28.07655 28.08227 27.69305\n",
       "2 27.59694 27.59694 27.66311 27.66311 27.58300 27.58300 27.35056 27.35056\n",
       "    [,129]   [,130]   [,131]   [,132]   [,133]   [,134]   [,135]   [,136]\n",
       "1 27.54532 26.99136 26.92891 26.64482 26.60500 26.01986 25.98577 25.94591\n",
       "2 26.21500 26.21500 25.58333 25.58333 24.99289 24.99289 24.54150 24.54150\n",
       "    [,137]   [,138]   [,139]   [,140]   [,141]   [,142]   [,143]   [,144]\n",
       "1 25.91745 25.63618 25.61918 25.67027 25.74409 26.32386 26.31259 26.03095\n",
       "2 24.41644 24.41644 24.18728 24.18728 24.72867 24.72867 24.60056 24.60056\n",
       "    [,145]   [,146]   [,147]   [,148]   [,149]   [,150]   [,151]   [,152]\n",
       "1 25.97414 25.74418 25.75545 25.76964 25.80373 25.78677 25.78677 25.82345\n",
       "2 23.89217 23.89217 24.07272 24.07272 24.62139 24.62139 24.28806 24.28806\n",
       "    [,153]   [,154]\n",
       "1 25.82345 25.85782\n",
       "2 24.30222 24.30222\n",
       "\n",
       "Clustering vector:\n",
       "         Temp_1_1          Temp_1_2          Temp_1_3          Temp_1_4 \n",
       "                1                 1                 1                 1 \n",
       "         Temp_2_1          Temp_2_2          Temp_2_3          Temp_2_4 \n",
       "                1                 1                 1                 1 \n",
       " Temp_12_avg_open Temp_12_avg_close          Temp_3_1          Temp_3_2 \n",
       "                1                 1                 2                 2 \n",
       "         Temp_3_3          Temp_3_4          Temp_4_1          Temp_4_2 \n",
       "                2                 2                 2                 1 \n",
       "         Temp_4_3          Temp_4_4  Temp_34_avg_open Temp_34_avg_close \n",
       "                2                 2                 2                 2 \n",
       "\n",
       "Within cluster sum of squares by cluster:\n",
       "[1] 199.9051 238.4092\n",
       " (between_SS / total_SS =  68.8 %)\n",
       "\n",
       "Available components:\n",
       "\n",
       "[1] \"cluster\"      \"centers\"      \"totss\"        \"withinss\"     \"tot.withinss\"\n",
       "[6] \"betweenss\"    \"size\"         \"iter\"         \"ifault\"      "
      ]
     },
     "metadata": {},
     "output_type": "display_data"
    }
   ],
   "source": [
    "k"
   ]
  },
  {
   "cell_type": "code",
   "execution_count": 135,
   "metadata": {},
   "outputs": [
    {
     "data": {
      "text/html": [
       "<table>\n",
       "<caption>A matrix: 2 × 53 of type dbl</caption>\n",
       "<tbody>\n",
       "\t<tr><td>25.8435</td><td>26.5000</td><td>26.6870</td><td>26.7500</td><td>27.4065</td><td>27.5310</td><td>27.7185</td><td>27.250</td><td>27.5000</td><td>27.844</td><td>...</td><td>27.7810</td><td>27.906</td><td>27.9375</td><td>27.8435</td><td>28.1870</td><td>28.2810</td><td>28.0935</td><td>28.219</td><td>28.281</td><td>28.5625</td></tr>\n",
       "\t<tr><td>24.8440</td><td>25.7495</td><td>25.7185</td><td>25.9065</td><td>26.6560</td><td>27.3435</td><td>27.5000</td><td>27.031</td><td>27.3125</td><td>27.000</td><td>...</td><td>27.6255</td><td>27.781</td><td>27.9060</td><td>27.5620</td><td>27.7185</td><td>27.7815</td><td>28.1250</td><td>28.375</td><td>28.375</td><td>28.5310</td></tr>\n",
       "</tbody>\n",
       "</table>\n"
      ],
      "text/latex": [
       "A matrix: 2 × 53 of type dbl\n",
       "\\begin{tabular}{r|lllllllllllllllllllllllllllllllllllllllllllllllllllll}\n",
       "\t 25.8435 & 26.5000 & 26.6870 & 26.7500 & 27.4065 & 27.5310 & 27.7185 & 27.250 & 27.5000 & 27.844 & 27.937 & 27.9685 & 27.906 & 27.7815 & 27.9995 & 27.500 & 27.094 & 27.2185 & 26.656 & 27.2185 & 26.9995 & 27.3125 & 27.1875 & 26.8435 & 26.8125 & 27.0310 & 27.125 & 26.8745 & 26.6875 & 26.906 & 26.6875 & 26.8125 & 27.1245 & 26.6875 & 26.3750 & 26.8120 & 26.6875 & 26.875 & 26.4685 & 26.906 & 27.156 & 27.4375 & 27.656 & 27.7810 & 27.906 & 27.9375 & 27.8435 & 28.1870 & 28.2810 & 28.0935 & 28.219 & 28.281 & 28.5625\\\\\n",
       "\t 24.8440 & 25.7495 & 25.7185 & 25.9065 & 26.6560 & 27.3435 & 27.5000 & 27.031 & 27.3125 & 27.000 & 27.469 & 27.3750 & 27.656 & 27.3120 & 26.8435 & 26.156 & 25.375 & 25.4995 & 25.406 & 26.0310 & 25.1875 & 25.5000 & 25.8435 & 25.1560 & 25.6875 & 24.6875 & 25.875 & 24.4690 & 25.7500 & 25.125 & 25.3435 & 25.6560 & 25.6875 & 25.4685 & 25.6875 & 25.3745 & 25.5310 & 26.031 & 24.8440 & 25.844 & 26.156 & 27.2185 & 27.219 & 27.6255 & 27.781 & 27.9060 & 27.5620 & 27.7185 & 27.7815 & 28.1250 & 28.375 & 28.375 & 28.5310\\\\\n",
       "\\end{tabular}\n"
      ],
      "text/markdown": [
       "\n",
       "A matrix: 2 × 53 of type dbl\n",
       "\n",
       "| 25.8435 | 26.5000 | 26.6870 | 26.7500 | 27.4065 | 27.5310 | 27.7185 | 27.250 | 27.5000 | 27.844 | ... | 27.7810 | 27.906 | 27.9375 | 27.8435 | 28.1870 | 28.2810 | 28.0935 | 28.219 | 28.281 | 28.5625 |\n",
       "| 24.8440 | 25.7495 | 25.7185 | 25.9065 | 26.6560 | 27.3435 | 27.5000 | 27.031 | 27.3125 | 27.000 | ... | 27.6255 | 27.781 | 27.9060 | 27.5620 | 27.7185 | 27.7815 | 28.1250 | 28.375 | 28.375 | 28.5310 |\n",
       "\n"
      ],
      "text/plain": [
       "  [,1]    [,2]    [,3]    [,4]    [,5]    [,6]    [,7]    [,8]   [,9]    [,10] \n",
       "1 25.8435 26.5000 26.6870 26.7500 27.4065 27.5310 27.7185 27.250 27.5000 27.844\n",
       "2 24.8440 25.7495 25.7185 25.9065 26.6560 27.3435 27.5000 27.031 27.3125 27.000\n",
       "  [,11] [,12]   [,13]  [,14]   [,15]   [,16]   [,17]   [,18]   [,19]  [,20] \n",
       "1 ...   27.7810 27.906 27.9375 27.8435 28.1870 28.2810 28.0935 28.219 28.281\n",
       "2 ...   27.6255 27.781 27.9060 27.5620 27.7185 27.7815 28.1250 28.375 28.375\n",
       "  [,21]  \n",
       "1 28.5625\n",
       "2 28.5310"
      ]
     },
     "metadata": {},
     "output_type": "display_data"
    },
    {
     "data": {
      "text/plain": [
       "\n",
       "1 2 \n",
       "2 2 "
      ]
     },
     "metadata": {},
     "output_type": "display_data"
    }
   ],
   "source": [
    "k$centers #Display&nbsp;cluster centers\n",
    "table(k$cluster)"
   ]
  },
  {
   "cell_type": "code",
   "execution_count": 136,
   "metadata": {},
   "outputs": [
    {
     "data": {
      "text/plain": [
       "K-means clustering with 2 clusters of sizes 2, 2\n",
       "\n",
       "Cluster means:\n",
       "     [,1]    [,2]    [,3]    [,4]    [,5]    [,6]    [,7]   [,8]    [,9]  [,10]\n",
       "1 25.8435 26.5000 26.6870 26.7500 27.4065 27.5310 27.7185 27.250 27.5000 27.844\n",
       "2 24.8440 25.7495 25.7185 25.9065 26.6560 27.3435 27.5000 27.031 27.3125 27.000\n",
       "   [,11]   [,12]  [,13]   [,14]   [,15]  [,16]  [,17]   [,18]  [,19]   [,20]\n",
       "1 27.937 27.9685 27.906 27.7815 27.9995 27.500 27.094 27.2185 26.656 27.2185\n",
       "2 27.469 27.3750 27.656 27.3120 26.8435 26.156 25.375 25.4995 25.406 26.0310\n",
       "    [,21]   [,22]   [,23]   [,24]   [,25]   [,26]  [,27]   [,28]   [,29]  [,30]\n",
       "1 26.9995 27.3125 27.1875 26.8435 26.8125 27.0310 27.125 26.8745 26.6875 26.906\n",
       "2 25.1875 25.5000 25.8435 25.1560 25.6875 24.6875 25.875 24.4690 25.7500 25.125\n",
       "    [,31]   [,32]   [,33]   [,34]   [,35]   [,36]   [,37]  [,38]   [,39]  [,40]\n",
       "1 26.6875 26.8125 27.1245 26.6875 26.3750 26.8120 26.6875 26.875 26.4685 26.906\n",
       "2 25.3435 25.6560 25.6875 25.4685 25.6875 25.3745 25.5310 26.031 24.8440 25.844\n",
       "   [,41]   [,42]  [,43]   [,44]  [,45]   [,46]   [,47]   [,48]   [,49]   [,50]\n",
       "1 27.156 27.4375 27.656 27.7810 27.906 27.9375 27.8435 28.1870 28.2810 28.0935\n",
       "2 26.156 27.2185 27.219 27.6255 27.781 27.9060 27.5620 27.7185 27.7815 28.1250\n",
       "   [,51]  [,52]   [,53]\n",
       "1 28.219 28.281 28.5625\n",
       "2 28.375 28.375 28.5310\n",
       "\n",
       "Clustering vector:\n",
       "Temp_1 Temp_2 Temp_3 Temp_4 \n",
       "     1      1      2      2 \n",
       "\n",
       "Within cluster sum of squares by cluster:\n",
       "[1] 4.352599 9.753850\n",
       " (between_SS / total_SS =  81.9 %)\n",
       "\n",
       "Available components:\n",
       "\n",
       "[1] \"cluster\"      \"centers\"      \"totss\"        \"withinss\"     \"tot.withinss\"\n",
       "[6] \"betweenss\"    \"size\"         \"iter\"         \"ifault\"      "
      ]
     },
     "metadata": {},
     "output_type": "display_data"
    }
   ],
   "source": [
    "k"
   ]
  },
  {
   "cell_type": "code",
   "execution_count": 5,
   "metadata": {},
   "outputs": [],
   "source": [
    "x=c(2,3,4,4)\n",
    "y=c(3,4,7,8)"
   ]
  },
  {
   "cell_type": "code",
   "execution_count": 7,
   "metadata": {},
   "outputs": [
    {
     "data": {
      "text/html": [
       "0.95065415136527"
      ],
      "text/latex": [
       "0.95065415136527"
      ],
      "text/markdown": [
       "0.95065415136527"
      ],
      "text/plain": [
       "[1] 0.9506542"
      ]
     },
     "metadata": {},
     "output_type": "display_data"
    }
   ],
   "source": [
    "cor(x,y)"
   ]
  },
  {
   "cell_type": "code",
   "execution_count": 8,
   "metadata": {},
   "outputs": [
    {
     "data": {
      "text/html": [
       "<table>\n",
       "<caption>A matrix: 5 × 1 of type dbl</caption>\n",
       "<tbody>\n",
       "\t<tr><td>0.2655087</td></tr>\n",
       "\t<tr><td>0.3721239</td></tr>\n",
       "\t<tr><td>0.5728534</td></tr>\n",
       "\t<tr><td>0.9082078</td></tr>\n",
       "\t<tr><td>0.2016819</td></tr>\n",
       "</tbody>\n",
       "</table>\n"
      ],
      "text/latex": [
       "A matrix: 5 × 1 of type dbl\n",
       "\\begin{tabular}{l}\n",
       "\t 0.2655087\\\\\n",
       "\t 0.3721239\\\\\n",
       "\t 0.5728534\\\\\n",
       "\t 0.9082078\\\\\n",
       "\t 0.2016819\\\\\n",
       "\\end{tabular}\n"
      ],
      "text/markdown": [
       "\n",
       "A matrix: 5 × 1 of type dbl\n",
       "\n",
       "| 0.2655087 |\n",
       "| 0.3721239 |\n",
       "| 0.5728534 |\n",
       "| 0.9082078 |\n",
       "| 0.2016819 |\n",
       "\n"
      ],
      "text/plain": [
       "     [,1]     \n",
       "[1,] 0.2655087\n",
       "[2,] 0.3721239\n",
       "[3,] 0.5728534\n",
       "[4,] 0.9082078\n",
       "[5,] 0.2016819"
      ]
     },
     "metadata": {},
     "output_type": "display_data"
    }
   ],
   "source": [
    "mat <- matrix(runif(5))\n",
    "mat"
   ]
  },
  {
   "cell_type": "code",
   "execution_count": 12,
   "metadata": {},
   "outputs": [
    {
     "data": {
      "text/plain": [
       "            1           2           3           4\n",
       "2 0.024084935                                    \n",
       "3 0.119654797 0.037381593                        \n",
       "4 0.006914433 0.056442160 0.181425203            \n",
       "5 0.038874393 0.001789084 0.022908727 0.077933519"
      ]
     },
     "metadata": {},
     "output_type": "display_data"
    }
   ],
   "source": [
    "\n",
    "mat <- matrix(runif(5))\n",
    "fn <- function(x, y) 1 - cos(x - y)\n",
    "\n",
    "proxy::dist(mat, method = fn)"
   ]
  },
  {
   "cell_type": "code",
   "execution_count": 45,
   "metadata": {},
   "outputs": [
    {
     "name": "stderr",
     "output_type": "stream",
     "text": [
      "Installing package into 'C:/Users/admin/Documents/R/win-library/3.6'\n",
      "(as 'lib' is unspecified)\n"
     ]
    },
    {
     "name": "stdout",
     "output_type": "stream",
     "text": [
      "package 'Rtsne' successfully unpacked and MD5 sums checked\n",
      "\n",
      "The downloaded binary packages are in\n",
      "\tC:\\Users\\admin\\AppData\\Local\\Temp\\RtmpiiGSCS\\downloaded_packages\n"
     ]
    }
   ],
   "source": [
    "install.packages('Rtsne')"
   ]
  }
 ],
 "metadata": {
  "kernelspec": {
   "display_name": "R",
   "language": "R",
   "name": "ir"
  },
  "language_info": {
   "codemirror_mode": "r",
   "file_extension": ".r",
   "mimetype": "text/x-r-source",
   "name": "R",
   "pygments_lexer": "r",
   "version": "3.6.0"
  }
 },
 "nbformat": 4,
 "nbformat_minor": 2
}
